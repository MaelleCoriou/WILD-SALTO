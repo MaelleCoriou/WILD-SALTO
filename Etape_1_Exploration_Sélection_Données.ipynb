{
  "cells": [
    {
      "cell_type": "code",
      "execution_count": null,
      "metadata": {
        "id": "Qsm8UEJ6VQ-k"
      },
      "outputs": [],
      "source": [
        "import pandas as pd\n",
        "import numpy as np\n",
        "import matplotlib.pyplot as plt\n",
        "import seaborn as sns\n",
        "plt.rcParams[\"figure.figsize\"] = (12, 7)\n",
        "plt.rcParams.update({'font.size':12})\n",
        "#from google.colab import drive\n",
        "#drive.mount('/content/drive')"
      ]
    },
    {
      "cell_type": "markdown",
      "metadata": {
        "id": "QiqwQaNCF1Jp"
      },
      "source": [
        "# IMPORTATION DES DATASETS"
      ]
    },
    {
      "cell_type": "markdown",
      "metadata": {
        "id": "xmu3QaxXHZnu"
      },
      "source": [
        "#### Un premier nettoyage est réalisé dès l'import des data datasets suite au constat de valeurs \\\\\\\\N correspondants aux champs non renseignés.\n",
        "#### Remplacement de ces valeurs par nan : na_values = \"\\\\\\\\N\"."
      ]
    },
    {
      "cell_type": "code",
      "execution_count": null,
      "metadata": {
        "id": "NZKoW75_i2j8"
      },
      "outputs": [],
      "source": [
        "# Table 1 :\n",
        "\n",
        "# link = \"https://datasets.imdbws.com/name.basics.tsv.gz\"\n",
        "# \n",
        "data_name_basics = pd.read_table(\"donnees/name.basics.tsv/data.tsv\", \n",
        "                               na_values = \"\\\\N\",\n",
        "                                low_memory=False)"
      ]
    },
    {
      "cell_type": "code",
      "execution_count": null,
      "metadata": {
        "id": "PUfDcYaLF1Js"
      },
      "outputs": [],
      "source": [
        "# Table 2 :\n",
        "\n",
        "#link = \"https://datasets.imdbws.com/title.akas.tsv.gz\"\n",
        "\n",
        "data_title_akas = pd.read_table(\"donnees/title.akas.tsv/data.tsv\", \n",
        "                              na_values = \"\\\\N\",\n",
        "                             low_memory=False)"
      ]
    },
    {
      "cell_type": "code",
      "execution_count": null,
      "metadata": {
        "id": "w6-CYBXKF1Jr"
      },
      "outputs": [],
      "source": [
        "# Table 3 :\n",
        "\n",
        "#link = \"https://datasets.imdbws.com/title.basics.tsv.gz\"\n",
        "\n",
        "data_title_basics = pd.read_table(\"donnees/title.basics.tsv/data.tsv\",\n",
        "                                  na_values = \"\\\\N\",\n",
        "                                  low_memory=False)"
      ]
    },
    {
      "cell_type": "code",
      "execution_count": null,
      "metadata": {
        "id": "0OAPDuvVF1Jr"
      },
      "outputs": [],
      "source": [
        "# Table 4 :\n",
        "\n",
        "# https://datasets.imdbws.com/title.crew.tsv.gz\n",
        "\n",
        "data_title_crew = pd.read_table(\"donnees/title.crew.tsv/data.tsv\",\n",
        "                               na_values = \"\\\\N\",\n",
        "                                low_memory=False)"
      ]
    },
    {
      "cell_type": "code",
      "execution_count": null,
      "metadata": {
        "id": "vegue623F1Jt"
      },
      "outputs": [],
      "source": [
        "# Table 5 :\n",
        "\n",
        "# https://datasets.imdbws.com/title.episode.tsv.gz\n",
        "\n",
        "data_title_episode = pd.read_table(\"donnees/title.episode.tsv/data.tsv\",\n",
        "                                  na_values = \"\\\\N\",\n",
        "                                  low_memory=False)"
      ]
    },
    {
      "cell_type": "code",
      "execution_count": null,
      "metadata": {
        "id": "qqqQYGm9XsS7"
      },
      "outputs": [],
      "source": [
        "# Table 6 :\n",
        "\n",
        "# https://datasets.imdbws.com/title.principals.tsv.gz\n",
        "\n",
        "data_title_principals = pd.read_table(\"donnees/title.principals.tsv/data.tsv\", \n",
        "                                     na_values = \"\\\\N\",\n",
        "                                     low_memory=False)"
      ]
    },
    {
      "cell_type": "code",
      "execution_count": null,
      "metadata": {
        "id": "1cpjo-qgF1Jr"
      },
      "outputs": [],
      "source": [
        "# Table 7 :\n",
        "\n",
        "# https://datasets.imdbws.com/title.ratings.tsv.gz\n",
        "\n",
        "data_title_ratings = pd.read_table(\"donnees/title.ratings.tsv/data.tsv\", \n",
        "                                   na_values = \"\\\\N\",\n",
        "                                   low_memory=False)"
      ]
    },
    {
      "cell_type": "code",
      "execution_count": null,
      "metadata": {
        "id": "-J55Rm8fHZnz",
        "outputId": "56840596-8efd-4919-938f-eedc8f8cba09"
      },
      "outputs": [
        {
          "data": {
            "text/plain": [
              "48121496"
            ]
          },
          "execution_count": 14,
          "metadata": {},
          "output_type": "execute_result"
        }
      ],
      "source": [
        "len(data_title_principals)"
      ]
    },
    {
      "cell_type": "code",
      "execution_count": null,
      "metadata": {
        "id": "350vcOknHZnz",
        "outputId": "c84b3ab1-9308-48f9-b07f-b8398b504fc2"
      },
      "outputs": [
        {
          "data": {
            "image/png": "[encoded data removed]",
            "text/plain": [
              "<Figure size 864x504 with 1 Axes>"
            ]
          },
          "metadata": {
            "needs_background": "light"
          },
          "output_type": "display_data"
        }
      ],
      "source": [
        "\n",
        "total_tables = [len(data_name_basics), len(data_title_akas), len(data_title_basics), len(data_title_crew), len(data_title_episode), len(data_title_principals), len(data_title_ratings)]\n",
        "labels_tables = [\"Name Basics\", \"Title Akas\", \"Title Basics\", \"Title Crew\", \"Title Episode\", \"Title Principals\", \"Title Ratings\"]\n",
        "sns.barplot(y=total_tables, x=labels_tables, color='#DBA506')\n",
        "plt.title(\"Volume des tables IMBD\\n\")\n",
        "plt.ylabel(\"Nb Lignes (10 M)\\n\")\n",
        "plt.xlabel(\"Tables\")\n",
        "plt.xticks(rotation=70)\n",
        "plt.show() "
      ]
    },
    {
      "cell_type": "markdown",
      "metadata": {
        "id": "lzxWUKkfUsX2"
      },
      "source": [
        "# FONCTIONS UTILES"
      ]
    },
    {
      "cell_type": "code",
      "execution_count": null,
      "metadata": {
        "id": "U_bkcXZoUsX2"
      },
      "outputs": [],
      "source": [
        "def info_df(data):\n",
        "    \"\"\"Afficher données générales d'un dataframe\"\"\"\n",
        "    \n",
        "    print(f\"Nombre de lignes : {data.shape[0]}\\nNombre de colonnes : {data.shape[1]}\\n\")\n",
        "    return data.info(), data.describe()"
      ]
    },
    {
      "cell_type": "code",
      "execution_count": null,
      "metadata": {
        "id": "Y6MHyTmYUsX3"
      },
      "outputs": [],
      "source": [
        "def info_decile(data):\n",
        "    \"\"\"Afficher les déciles d'une colonne\"\"\"\n",
        "    # Liste des déciles :\n",
        "    deciles = np.arange(0, 1.1, 0.1)\n",
        "\n",
        "    # Affichage des valeurs par déciles :\n",
        "    for x in range(len(deciles)):\n",
        "        if deciles[x] == 0.0:\n",
        "            print(\"min value :\", data.quantile(q=deciles[x]))\n",
        "        elif deciles[x] == 1.0:\n",
        "            print(\"max value :\", data.quantile(q=deciles[x]))\n",
        "        else:\n",
        "            print(f\"decile {x} : {data.quantile(q=deciles[x])}\")"
      ]
    },
    {
      "cell_type": "code",
      "execution_count": null,
      "metadata": {
        "id": "IRorrUMqUsX3"
      },
      "outputs": [],
      "source": [
        "def info_na(data):\n",
        "    \"\"\"Afficher le total de valeurs nulles\n",
        "    Afficher le total de valeurs nulles par colonnes\"\"\"\n",
        "    \n",
        "    total_na = data.isnull().sum().sum()\n",
        "    colonne_na = data.isnull().sum()\n",
        "    \n",
        "    print(f\"\\nNombre total de valeurs nulles : \\n{total_na}\")\n",
        "    print(f\"\\nNombre de valeurs nulles par colonnes :\\n\\n{colonne_na}\")"
      ]
    },
    {
      "cell_type": "code",
      "execution_count": null,
      "metadata": {
        "id": "RGeWy2UiHZn2"
      },
      "outputs": [],
      "source": [
        "def doublons(df, colonne):\n",
        "    \"\"\"Affiche nombre de doublons\n",
        "    Retourne un df des infos doublons \"\"\"\n",
        "    \n",
        "    count_col = colonne\n",
        "    doublons = df.value_counts(count_col).to_frame(\"total\").reset_index()\n",
        "    doublons = doublons[doublons.total > 1]\n",
        "    print(f\"\\nNombre de doublons : {doublons.shape[0]}\")\n",
        "    return doublons"
      ]
    },
    {
      "cell_type": "markdown",
      "metadata": {
        "id": "wtyVgY6sUwOO"
      },
      "source": [
        "# EXPLORATION DES JEUX DE DONNEES\n",
        "# Objectifs :\n",
        "*  Dictionnaire des données de chaque set\n",
        "*  Vérification des types\n",
        "*  Recherche des valeurs aberrantes\n",
        "*  Vérification des valeurs manquantes\n",
        "*  Premiers nettoyages des données\n",
        "*  Analyse et visualisation de certains Kpis sur le data set global\n",
        "*  Sélection et filtre du jeu de données pour le modèle de recommandation"
      ]
    },
    {
      "cell_type": "markdown",
      "metadata": {
        "id": "gXQdwABxUk_W"
      },
      "source": [
        "# Table 1 : name.basics.tsv.gz - Acteurs"
      ]
    },
    {
      "cell_type": "markdown",
      "metadata": {
        "id": "SHN8ZpqgUtmP"
      },
      "source": [
        "Elle donne les infos suivantes sur les acteurs :\n",
        "- nconst (string) = identificateur unique alphanumérique du nom/de la personne\n",
        "- primaryName (string) = nom le plus souvent attribué à la personne\n",
        "- birthYear = au format AAAA\n",
        "- deathYear = au format AAAA le cas échéant, sinon '\\N'\n",
        "- primaryProfession (array of strings) = les 3 principales professions de la personne\n",
        "- knownForTitles (array of tconsts) = titres (titleId) pour lesquels la personne est connue"
      ]
    },
    {
      "cell_type": "code",
      "execution_count": null,
      "metadata": {
        "id": "fU4fmlBGVQXI",
        "outputId": "86d7c3f9-3fa8-46ba-aa55-f50e3a4b7fe4"
      },
      "outputs": [
        {
          "data": {
            "text/html": [
              "<div>\n",
              "<style scoped>\n",
              "    .dataframe tbody tr th:only-of-type {\n",
              "        vertical-align: middle;\n",
              "    }\n",
              "\n",
              "    .dataframe tbody tr th {\n",
              "        vertical-align: top;\n",
              "    }\n",
              "\n",
              "    .dataframe thead th {\n",
              "        text-align: right;\n",
              "    }\n",
              "</style>\n",
              "<table border=\"1\" class=\"dataframe\">\n",
              "  <thead>\n",
              "    <tr style=\"text-align: right;\">\n",
              "      <th></th>\n",
              "      <th>nconst</th>\n",
              "      <th>primaryName</th>\n",
              "      <th>birthYear</th>\n",
              "      <th>deathYear</th>\n",
              "      <th>primaryProfession</th>\n",
              "      <th>knownForTitles</th>\n",
              "    </tr>\n",
              "  </thead>\n",
              "  <tbody>\n",
              "    <tr>\n",
              "      <th>0</th>\n",
              "      <td>nm0000001</td>\n",
              "      <td>Fred Astaire</td>\n",
              "      <td>1899.0</td>\n",
              "      <td>1987.0</td>\n",
              "      <td>soundtrack,actor,miscellaneous</td>\n",
              "      <td>tt0072308,tt0050419,tt0053137,tt0031983</td>\n",
              "    </tr>\n",
              "    <tr>\n",
              "      <th>1</th>\n",
              "      <td>nm0000002</td>\n",
              "      <td>Lauren Bacall</td>\n",
              "      <td>1924.0</td>\n",
              "      <td>2014.0</td>\n",
              "      <td>actress,soundtrack</td>\n",
              "      <td>tt0117057,tt0075213,tt0038355,tt0037382</td>\n",
              "    </tr>\n",
              "  </tbody>\n",
              "</table>\n",
              "</div>"
            ],
            "text/plain": [
              "      nconst    primaryName  birthYear  deathYear  \\\n",
              "0  nm0000001   Fred Astaire     1899.0     1987.0   \n",
              "1  nm0000002  Lauren Bacall     1924.0     2014.0   \n",
              "\n",
              "                primaryProfession                           knownForTitles  \n",
              "0  soundtrack,actor,miscellaneous  tt0072308,tt0050419,tt0053137,tt0031983  \n",
              "1              actress,soundtrack  tt0117057,tt0075213,tt0038355,tt0037382  "
            ]
          },
          "execution_count": 13,
          "metadata": {},
          "output_type": "execute_result"
        }
      ],
      "source": [
        "data_name_basics.head(2)"
      ]
    },
    {
      "cell_type": "code",
      "execution_count": null,
      "metadata": {
        "id": "RIYYgJogUsX7",
        "outputId": "ac007e8b-269b-4315-fda9-41d208fda044"
      },
      "outputs": [
        {
          "name": "stdout",
          "output_type": "stream",
          "text": [
            "Nombre de lignes : 11297133\n",
            "Nombre de colonnes : 6\n",
            "\n",
            "<class 'pandas.core.frame.DataFrame'>\n",
            "RangeIndex: 11297133 entries, 0 to 11297132\n",
            "Data columns (total 6 columns):\n",
            " #   Column             Dtype  \n",
            "---  ------             -----  \n",
            " 0   nconst             object \n",
            " 1   primaryName        object \n",
            " 2   birthYear          float64\n",
            " 3   deathYear          float64\n",
            " 4   primaryProfession  object \n",
            " 5   knownForTitles     object \n",
            "dtypes: float64(2), object(4)\n",
            "memory usage: 517.1+ MB\n"
          ]
        },
        {
          "data": {
            "text/plain": [
              "(None,\n",
              "            birthYear      deathYear\n",
              " count  540090.000000  196609.000000\n",
              " mean     1951.438240    1990.727088\n",
              " std        34.619476      34.292025\n",
              " min         4.000000      17.000000\n",
              " 25%      1930.000000    1977.000000\n",
              " 50%      1958.000000    1999.000000\n",
              " 75%      1978.000000    2012.000000\n",
              " max      2021.000000    2021.000000)"
            ]
          },
          "execution_count": 14,
          "metadata": {},
          "output_type": "execute_result"
        }
      ],
      "source": [
        "# informations générales de la table\n",
        "info_df(data_name_basics)"
      ]
    },
    {
      "cell_type": "markdown",
      "metadata": {
        "id": "K0tEIDoxUsX8"
      },
      "source": [
        "### Analyse des années de naissance et mort"
      ]
    },
    {
      "cell_type": "code",
      "execution_count": null,
      "metadata": {
        "id": "isO9nI8ndhiR",
        "outputId": "833a569c-3c6b-4da3-f28d-e63aca3a8c17"
      },
      "outputs": [
        {
          "name": "stdout",
          "output_type": "stream",
          "text": [
            "min value : 17.0\n",
            "decile 1 : 1954.0\n",
            "decile 2 : 1971.0\n",
            "decile 3 : 1982.0\n",
            "decile 4 : 1991.0\n",
            "decile 5 : 1999.0\n",
            "decile 6 : 2005.0\n",
            "decile 7 : 2010.0\n",
            "decile 8 : 2014.0\n",
            "decile 9 : 2018.0\n",
            "max value : 2021.0\n",
            "None\n"
          ]
        }
      ],
      "source": [
        "# info deciles des années de mort\n",
        "print(info_decile(data_name_basics.deathYear))"
      ]
    },
    {
      "cell_type": "code",
      "execution_count": null,
      "metadata": {
        "id": "jLu44MriUsX8",
        "outputId": "ab0ddbaf-d30b-435d-b9bd-64de58c84904"
      },
      "outputs": [
        {
          "name": "stdout",
          "output_type": "stream",
          "text": [
            "min value : 4.0\n",
            "decile 1 : 1906.0\n",
            "decile 2 : 1924.0\n",
            "decile 3 : 1937.0\n",
            "decile 4 : 1947.0\n",
            "decile 5 : 1958.0\n",
            "decile 6 : 1967.0\n",
            "decile 7 : 1974.0\n",
            "decile 8 : 1981.0\n",
            "decile 9 : 1987.0\n",
            "max value : 2021.0\n"
          ]
        }
      ],
      "source": [
        "# info deciles des années de naissance\n",
        "info_decile(data_name_basics.birthYear)"
      ]
    },
    {
      "cell_type": "code",
      "execution_count": null,
      "metadata": {
        "id": "3no6xfTiUsX9",
        "outputId": "c33a6b83-abeb-43ee-b25b-7ead3f04f614"
      },
      "outputs": [
        {
          "name": "stdout",
          "output_type": "stream",
          "text": [
            "\n",
            "Nombre total de valeurs nulles : \n",
            "26165672\n",
            "\n",
            "Nombre de valeurs nulles par colonnes :\n",
            "\n",
            "nconst                      0\n",
            "primaryName                 0\n",
            "birthYear            10757043\n",
            "deathYear            11100524\n",
            "primaryProfession     2337237\n",
            "knownForTitles        1970868\n",
            "dtype: int64\n"
          ]
        }
      ],
      "source": [
        "# infos valeurs nulles\n",
        "info_na(data_name_basics)"
      ]
    },
    {
      "cell_type": "code",
      "execution_count": null,
      "metadata": {
        "id": "EBM4V-BOUsX9",
        "outputId": "fa5cc09f-fef3-4d2a-c934-8b549de17c9e"
      },
      "outputs": [
        {
          "data": {
            "text/html": [
              "<div>\n",
              "<style scoped>\n",
              "    .dataframe tbody tr th:only-of-type {\n",
              "        vertical-align: middle;\n",
              "    }\n",
              "\n",
              "    .dataframe tbody tr th {\n",
              "        vertical-align: top;\n",
              "    }\n",
              "\n",
              "    .dataframe thead th {\n",
              "        text-align: right;\n",
              "    }\n",
              "</style>\n",
              "<table border=\"1\" class=\"dataframe\">\n",
              "  <thead>\n",
              "    <tr style=\"text-align: right;\">\n",
              "      <th></th>\n",
              "      <th>nconst</th>\n",
              "      <th>primaryName</th>\n",
              "      <th>birthYear</th>\n",
              "      <th>deathYear</th>\n",
              "      <th>primaryProfession</th>\n",
              "      <th>knownForTitles</th>\n",
              "    </tr>\n",
              "  </thead>\n",
              "  <tbody>\n",
              "    <tr>\n",
              "      <th>407533</th>\n",
              "      <td>nm0430769</td>\n",
              "      <td>Flavius Josephus</td>\n",
              "      <td>37.0</td>\n",
              "      <td>95.0</td>\n",
              "      <td>writer,miscellaneous</td>\n",
              "      <td>tt0009573,tt0237666,tt0273236,tt0049833</td>\n",
              "    </tr>\n",
              "    <tr>\n",
              "      <th>487152</th>\n",
              "      <td>nm0515385</td>\n",
              "      <td>Titus Livius</td>\n",
              "      <td>59.0</td>\n",
              "      <td>17.0</td>\n",
              "      <td>writer</td>\n",
              "      <td>tt0003740</td>\n",
              "    </tr>\n",
              "    <tr>\n",
              "      <th>579261</th>\n",
              "      <td>nm0613556</td>\n",
              "      <td>Shikibu Murasaki</td>\n",
              "      <td>973.0</td>\n",
              "      <td>1031.0</td>\n",
              "      <td>writer</td>\n",
              "      <td>tt0094100,tt0256385,tt0092875,tt0043580</td>\n",
              "    </tr>\n",
              "    <tr>\n",
              "      <th>617244</th>\n",
              "      <td>nm0653992</td>\n",
              "      <td>Ovid</td>\n",
              "      <td>NaN</td>\n",
              "      <td>17.0</td>\n",
              "      <td>writer</td>\n",
              "      <td>tt3179572,tt0057818,tt0085182,tt3907210</td>\n",
              "    </tr>\n",
              "    <tr>\n",
              "      <th>639931</th>\n",
              "      <td>nm0678112</td>\n",
              "      <td>Petronius</td>\n",
              "      <td>NaN</td>\n",
              "      <td>66.0</td>\n",
              "      <td>writer</td>\n",
              "      <td>tt0064940,tt9064588,tt0166788,tt0058904</td>\n",
              "    </tr>\n",
              "    <tr>\n",
              "      <th>739427</th>\n",
              "      <td>nm0784172</td>\n",
              "      <td>Lucio Anneo Seneca</td>\n",
              "      <td>4.0</td>\n",
              "      <td>65.0</td>\n",
              "      <td>writer</td>\n",
              "      <td>tt0237666,tt0972562,tt0218822,tt0049203</td>\n",
              "    </tr>\n",
              "    <tr>\n",
              "      <th>3233027</th>\n",
              "      <td>nm1240835</td>\n",
              "      <td>Augustinus</td>\n",
              "      <td>354.0</td>\n",
              "      <td>430.0</td>\n",
              "      <td>writer</td>\n",
              "      <td>tt0318742</td>\n",
              "    </tr>\n",
              "    <tr>\n",
              "      <th>3260206</th>\n",
              "      <td>nm12436700</td>\n",
              "      <td>Aristotle</td>\n",
              "      <td>384.0</td>\n",
              "      <td>322.0</td>\n",
              "      <td>NaN</td>\n",
              "      <td>NaN</td>\n",
              "    </tr>\n",
              "    <tr>\n",
              "      <th>3719823</th>\n",
              "      <td>nm1291933</td>\n",
              "      <td>Cassius Dio</td>\n",
              "      <td>163.0</td>\n",
              "      <td>235.0</td>\n",
              "      <td>writer</td>\n",
              "      <td>tt0092322,tt0237666,tt0397049</td>\n",
              "    </tr>\n",
              "    <tr>\n",
              "      <th>3835439</th>\n",
              "      <td>nm1304029</td>\n",
              "      <td>Appian</td>\n",
              "      <td>95.0</td>\n",
              "      <td>165.0</td>\n",
              "      <td>writer</td>\n",
              "      <td>tt0056937</td>\n",
              "    </tr>\n",
              "    <tr>\n",
              "      <th>3856372</th>\n",
              "      <td>nm1306202</td>\n",
              "      <td>Plutarch</td>\n",
              "      <td>46.0</td>\n",
              "      <td>122.0</td>\n",
              "      <td>writer</td>\n",
              "      <td>tt0237666,tt0472473,tt0272979,tt0056937</td>\n",
              "    </tr>\n",
              "    <tr>\n",
              "      <th>3861349</th>\n",
              "      <td>nm1306711</td>\n",
              "      <td>Suetonius</td>\n",
              "      <td>69.0</td>\n",
              "      <td>140.0</td>\n",
              "      <td>writer</td>\n",
              "      <td>tt3395994,tt0237666,tt0092322,tt0056937</td>\n",
              "    </tr>\n",
              "    <tr>\n",
              "      <th>4069704</th>\n",
              "      <td>nm1359896</td>\n",
              "      <td>Philo Judaeus</td>\n",
              "      <td>NaN</td>\n",
              "      <td>50.0</td>\n",
              "      <td>miscellaneous</td>\n",
              "      <td>tt0049833</td>\n",
              "    </tr>\n",
              "    <tr>\n",
              "      <th>4142503</th>\n",
              "      <td>nm1442863</td>\n",
              "      <td>St. Symeon</td>\n",
              "      <td>949.0</td>\n",
              "      <td>1022.0</td>\n",
              "      <td>writer</td>\n",
              "      <td>tt0374314</td>\n",
              "    </tr>\n",
              "    <tr>\n",
              "      <th>4197622</th>\n",
              "      <td>nm1504864</td>\n",
              "      <td>Juvenal</td>\n",
              "      <td>NaN</td>\n",
              "      <td>140.0</td>\n",
              "      <td>writer</td>\n",
              "      <td>tt0401443</td>\n",
              "    </tr>\n",
              "    <tr>\n",
              "      <th>4286536</th>\n",
              "      <td>nm1602457</td>\n",
              "      <td>Einhard</td>\n",
              "      <td>770.0</td>\n",
              "      <td>840.0</td>\n",
              "      <td>writer</td>\n",
              "      <td>tt0126737</td>\n",
              "    </tr>\n",
              "    <tr>\n",
              "      <th>4295188</th>\n",
              "      <td>nm1620433</td>\n",
              "      <td>Karen Abercrombie</td>\n",
              "      <td>13.0</td>\n",
              "      <td>NaN</td>\n",
              "      <td>actress,writer,producer</td>\n",
              "      <td>tt3832914,tt5895448,tt6529772,tt7383268</td>\n",
              "    </tr>\n",
              "    <tr>\n",
              "      <th>6283324</th>\n",
              "      <td>nm3840780</td>\n",
              "      <td>Muhammad</td>\n",
              "      <td>570.0</td>\n",
              "      <td>632.0</td>\n",
              "      <td>NaN</td>\n",
              "      <td>tt1432891</td>\n",
              "    </tr>\n",
              "    <tr>\n",
              "      <th>6289269</th>\n",
              "      <td>nm3847263</td>\n",
              "      <td>Jacob Tsurtaveli</td>\n",
              "      <td>NaN</td>\n",
              "      <td>485.0</td>\n",
              "      <td>writer</td>\n",
              "      <td>tt1615444</td>\n",
              "    </tr>\n",
              "    <tr>\n",
              "      <th>6853075</th>\n",
              "      <td>nm4511421</td>\n",
              "      <td>Megan Liz Smith</td>\n",
              "      <td>12.0</td>\n",
              "      <td>NaN</td>\n",
              "      <td>miscellaneous,actress</td>\n",
              "      <td>tt3416744,tt10183848,tt1966378</td>\n",
              "    </tr>\n",
              "    <tr>\n",
              "      <th>8176800</th>\n",
              "      <td>nm6063582</td>\n",
              "      <td>Yiqing Liu</td>\n",
              "      <td>403.0</td>\n",
              "      <td>444.0</td>\n",
              "      <td>art_department,miscellaneous</td>\n",
              "      <td>tt4228840</td>\n",
              "    </tr>\n",
              "    <tr>\n",
              "      <th>10316277</th>\n",
              "      <td>nm8810146</td>\n",
              "      <td>Paul Walsh</td>\n",
              "      <td>21.0</td>\n",
              "      <td>NaN</td>\n",
              "      <td>actor</td>\n",
              "      <td>tt0314567,tt0098878,tt0093223,tt0083839</td>\n",
              "    </tr>\n",
              "  </tbody>\n",
              "</table>\n",
              "</div>"
            ],
            "text/plain": [
              "              nconst         primaryName  birthYear  deathYear  \\\n",
              "407533     nm0430769    Flavius Josephus       37.0       95.0   \n",
              "487152     nm0515385        Titus Livius       59.0       17.0   \n",
              "579261     nm0613556    Shikibu Murasaki      973.0     1031.0   \n",
              "617244     nm0653992                Ovid        NaN       17.0   \n",
              "639931     nm0678112           Petronius        NaN       66.0   \n",
              "739427     nm0784172  Lucio Anneo Seneca        4.0       65.0   \n",
              "3233027    nm1240835          Augustinus      354.0      430.0   \n",
              "3260206   nm12436700           Aristotle      384.0      322.0   \n",
              "3719823    nm1291933         Cassius Dio      163.0      235.0   \n",
              "3835439    nm1304029              Appian       95.0      165.0   \n",
              "3856372    nm1306202            Plutarch       46.0      122.0   \n",
              "3861349    nm1306711           Suetonius       69.0      140.0   \n",
              "4069704    nm1359896       Philo Judaeus        NaN       50.0   \n",
              "4142503    nm1442863          St. Symeon      949.0     1022.0   \n",
              "4197622    nm1504864             Juvenal        NaN      140.0   \n",
              "4286536    nm1602457             Einhard      770.0      840.0   \n",
              "4295188    nm1620433   Karen Abercrombie       13.0        NaN   \n",
              "6283324    nm3840780            Muhammad      570.0      632.0   \n",
              "6289269    nm3847263    Jacob Tsurtaveli        NaN      485.0   \n",
              "6853075    nm4511421     Megan Liz Smith       12.0        NaN   \n",
              "8176800    nm6063582          Yiqing Liu      403.0      444.0   \n",
              "10316277   nm8810146          Paul Walsh       21.0        NaN   \n",
              "\n",
              "                     primaryProfession  \\\n",
              "407533            writer,miscellaneous   \n",
              "487152                          writer   \n",
              "579261                          writer   \n",
              "617244                          writer   \n",
              "639931                          writer   \n",
              "739427                          writer   \n",
              "3233027                         writer   \n",
              "3260206                            NaN   \n",
              "3719823                         writer   \n",
              "3835439                         writer   \n",
              "3856372                         writer   \n",
              "3861349                         writer   \n",
              "4069704                  miscellaneous   \n",
              "4142503                         writer   \n",
              "4197622                         writer   \n",
              "4286536                         writer   \n",
              "4295188        actress,writer,producer   \n",
              "6283324                            NaN   \n",
              "6289269                         writer   \n",
              "6853075          miscellaneous,actress   \n",
              "8176800   art_department,miscellaneous   \n",
              "10316277                         actor   \n",
              "\n",
              "                                   knownForTitles  \n",
              "407533    tt0009573,tt0237666,tt0273236,tt0049833  \n",
              "487152                                  tt0003740  \n",
              "579261    tt0094100,tt0256385,tt0092875,tt0043580  \n",
              "617244    tt3179572,tt0057818,tt0085182,tt3907210  \n",
              "639931    tt0064940,tt9064588,tt0166788,tt0058904  \n",
              "739427    tt0237666,tt0972562,tt0218822,tt0049203  \n",
              "3233027                                 tt0318742  \n",
              "3260206                                       NaN  \n",
              "3719823             tt0092322,tt0237666,tt0397049  \n",
              "3835439                                 tt0056937  \n",
              "3856372   tt0237666,tt0472473,tt0272979,tt0056937  \n",
              "3861349   tt3395994,tt0237666,tt0092322,tt0056937  \n",
              "4069704                                 tt0049833  \n",
              "4142503                                 tt0374314  \n",
              "4197622                                 tt0401443  \n",
              "4286536                                 tt0126737  \n",
              "4295188   tt3832914,tt5895448,tt6529772,tt7383268  \n",
              "6283324                                 tt1432891  \n",
              "6289269                                 tt1615444  \n",
              "6853075            tt3416744,tt10183848,tt1966378  \n",
              "8176800                                 tt4228840  \n",
              "10316277  tt0314567,tt0098878,tt0093223,tt0083839  "
            ]
          },
          "execution_count": 18,
          "metadata": {},
          "output_type": "execute_result"
        }
      ],
      "source": [
        "# Vérification des valeurs aberrantes\n",
        "data_name_basics[((data_name_basics.birthYear.map(str).apply(len) < 6) & (data_name_basics.birthYear.notnull()))\n",
        "                 | ((data_name_basics.deathYear.map(str).apply(len) < 6) & (data_name_basics.deathYear.notnull()))\n",
        "                 | ((data_name_basics.birthYear.map(str).apply(len) > 6) & (data_name_basics.birthYear.notnull()))\n",
        "                 | ((data_name_basics.deathYear.map(str).apply(len) > 6) & (data_name_basics.deathYear.notnull()))]"
      ]
    },
    {
      "cell_type": "code",
      "execution_count": null,
      "metadata": {
        "id": "cgxwLbWZUsX9",
        "outputId": "10b629fd-e09d-440d-e2e5-f1b7bccac5a0"
      },
      "outputs": [
        {
          "data": {
            "image/png": "[encoded data removed]",
            "text/plain": [
              "<Figure size 1224x720 with 1 Axes>"
            ]
          },
          "metadata": {
            "needs_background": "light"
          },
          "output_type": "display_data"
        }
      ],
      "source": [
        "# visualisation des outliers\n",
        "\n",
        "# prépration des données, hors nan\n",
        "data_plot_birth = data_name_basics[data_name_basics.birthYear.notnull()]\n",
        "data_plot_death = data_name_basics[data_name_basics.deathYear.notnull()]\n",
        "data_plot = [data_plot_birth.birthYear, data_plot_death.deathYear]\n",
        "\n",
        "fig, ax = plt.subplots(figsize=(17,10))\n",
        "\n",
        "# set up des outlier forme losange et couleur rouge\n",
        "red_outlier = dict(markerfacecolor='r', marker='D', markersize=8)\n",
        "\n",
        "# Graphique box plot\n",
        "ax.boxplot(data_plot, vert=0, notch=True, patch_artist=True, flierprops=red_outlier)\n",
        "\n",
        "# Légende x\n",
        "ax.set_xlabel('Années')\n",
        "\n",
        "# Légende y\n",
        "ax.set_yticklabels(['Birth Year', 'Death Year'])\n",
        "\n",
        "# Afficher graph\n",
        "plt.show()"
      ]
    },
    {
      "cell_type": "code",
      "execution_count": null,
      "metadata": {
        "id": "U8TZOdWCehUr",
        "outputId": "6c1b5369-8018-4bfa-f6ae-9fcc98202ffe"
      },
      "outputs": [
        {
          "name": "stdout",
          "output_type": "stream",
          "text": [
            "\n",
            "Nb dates birth valeurs nulles : 10757043\n"
          ]
        },
        {
          "data": {
            "text/html": [
              "<div>\n",
              "<style scoped>\n",
              "    .dataframe tbody tr th:only-of-type {\n",
              "        vertical-align: middle;\n",
              "    }\n",
              "\n",
              "    .dataframe tbody tr th {\n",
              "        vertical-align: top;\n",
              "    }\n",
              "\n",
              "    .dataframe thead th {\n",
              "        text-align: right;\n",
              "    }\n",
              "</style>\n",
              "<table border=\"1\" class=\"dataframe\">\n",
              "  <thead>\n",
              "    <tr style=\"text-align: right;\">\n",
              "      <th></th>\n",
              "      <th>nconst</th>\n",
              "      <th>primaryName</th>\n",
              "      <th>birthYear</th>\n",
              "      <th>deathYear</th>\n",
              "      <th>primaryProfession</th>\n",
              "      <th>knownForTitles</th>\n",
              "    </tr>\n",
              "  </thead>\n",
              "  <tbody>\n",
              "    <tr>\n",
              "      <th>82</th>\n",
              "      <td>nm0000083</td>\n",
              "      <td>Alan Miller</td>\n",
              "      <td>NaN</td>\n",
              "      <td>NaN</td>\n",
              "      <td>editor,writer,director</td>\n",
              "      <td>tt0320978,tt5969604,tt0969216,tt0424773</td>\n",
              "    </tr>\n",
              "    <tr>\n",
              "      <th>93</th>\n",
              "      <td>nm0000094</td>\n",
              "      <td>J. Reifel</td>\n",
              "      <td>NaN</td>\n",
              "      <td>NaN</td>\n",
              "      <td>writer</td>\n",
              "      <td>tt0118631,tt0116030,tt0118886,tt0117915</td>\n",
              "    </tr>\n",
              "  </tbody>\n",
              "</table>\n",
              "</div>"
            ],
            "text/plain": [
              "       nconst  primaryName  birthYear  deathYear       primaryProfession  \\\n",
              "82  nm0000083  Alan Miller        NaN        NaN  editor,writer,director   \n",
              "93  nm0000094    J. Reifel        NaN        NaN                  writer   \n",
              "\n",
              "                             knownForTitles  \n",
              "82  tt0320978,tt5969604,tt0969216,tt0424773  \n",
              "93  tt0118631,tt0116030,tt0118886,tt0117915  "
            ]
          },
          "execution_count": 20,
          "metadata": {},
          "output_type": "execute_result"
        }
      ],
      "source": [
        "# Filtre valeurs nulles \"birthYear\" :\n",
        "\n",
        "val_nulles_birth = data_name_basics[data_name_basics[\"birthYear\"].isna()]\n",
        "print(\"\\nNb dates birth valeurs nulles :\", val_nulles_birth.shape[0])\n",
        "val_nulles_birth.head(2)"
      ]
    },
    {
      "cell_type": "code",
      "execution_count": null,
      "metadata": {
        "id": "FiOtkBXrUsX_",
        "outputId": "69500a28-790c-4a6e-eedb-7a4d2caab2a3"
      },
      "outputs": [
        {
          "name": "stdout",
          "output_type": "stream",
          "text": [
            "\n",
            "Nb dates birth valeurs nulles : 11100524\n"
          ]
        },
        {
          "data": {
            "text/html": [
              "<div>\n",
              "<style scoped>\n",
              "    .dataframe tbody tr th:only-of-type {\n",
              "        vertical-align: middle;\n",
              "    }\n",
              "\n",
              "    .dataframe tbody tr th {\n",
              "        vertical-align: top;\n",
              "    }\n",
              "\n",
              "    .dataframe thead th {\n",
              "        text-align: right;\n",
              "    }\n",
              "</style>\n",
              "<table border=\"1\" class=\"dataframe\">\n",
              "  <thead>\n",
              "    <tr style=\"text-align: right;\">\n",
              "      <th></th>\n",
              "      <th>nconst</th>\n",
              "      <th>primaryName</th>\n",
              "      <th>birthYear</th>\n",
              "      <th>deathYear</th>\n",
              "      <th>primaryProfession</th>\n",
              "      <th>knownForTitles</th>\n",
              "    </tr>\n",
              "  </thead>\n",
              "  <tbody>\n",
              "    <tr>\n",
              "      <th>2</th>\n",
              "      <td>nm0000003</td>\n",
              "      <td>Brigitte Bardot</td>\n",
              "      <td>1934.0</td>\n",
              "      <td>NaN</td>\n",
              "      <td>actress,soundtrack,music_department</td>\n",
              "      <td>tt0049189,tt0054452,tt0057345,tt0056404</td>\n",
              "    </tr>\n",
              "    <tr>\n",
              "      <th>46</th>\n",
              "      <td>nm0000047</td>\n",
              "      <td>Sophia Loren</td>\n",
              "      <td>1934.0</td>\n",
              "      <td>NaN</td>\n",
              "      <td>actress,soundtrack</td>\n",
              "      <td>tt0058335,tt0054749,tt0060121,tt0076085</td>\n",
              "    </tr>\n",
              "  </tbody>\n",
              "</table>\n",
              "</div>"
            ],
            "text/plain": [
              "       nconst      primaryName  birthYear  deathYear  \\\n",
              "2   nm0000003  Brigitte Bardot     1934.0        NaN   \n",
              "46  nm0000047     Sophia Loren     1934.0        NaN   \n",
              "\n",
              "                      primaryProfession  \\\n",
              "2   actress,soundtrack,music_department   \n",
              "46                   actress,soundtrack   \n",
              "\n",
              "                             knownForTitles  \n",
              "2   tt0049189,tt0054452,tt0057345,tt0056404  \n",
              "46  tt0058335,tt0054749,tt0060121,tt0076085  "
            ]
          },
          "execution_count": 21,
          "metadata": {},
          "output_type": "execute_result"
        }
      ],
      "source": [
        "# Filtre valeurs nulles \"deathYear\" :\n",
        "\n",
        "val_nulles_death = data_name_basics[data_name_basics.deathYear.isna()]\n",
        "print(\"\\nNb dates birth valeurs nulles :\", val_nulles_death.shape[0])\n",
        "val_nulles_death.head(2)"
      ]
    },
    {
      "cell_type": "code",
      "execution_count": null,
      "metadata": {
        "id": "2LVwB2l9eXJs",
        "outputId": "713897d9-ed0f-458d-930f-7d4cb0601dc5"
      },
      "outputs": [
        {
          "name": "stdout",
          "output_type": "stream",
          "text": [
            "\n",
            "Nb dates death + birth valeurs nulles 10746033\n",
            "On constate un grand nombre de dates non renseignées pour lesquelles nous ne pourrons pas calculer l'âge des individus.\n",
            "Ratio de valeurs manquantes sur le total : 95.12 %\n",
            "Conclusion : Les colonnes bithYear et deathYear seront écartées de notre sélection.\n"
          ]
        },
        {
          "data": {
            "text/html": [
              "<div>\n",
              "<style scoped>\n",
              "    .dataframe tbody tr th:only-of-type {\n",
              "        vertical-align: middle;\n",
              "    }\n",
              "\n",
              "    .dataframe tbody tr th {\n",
              "        vertical-align: top;\n",
              "    }\n",
              "\n",
              "    .dataframe thead th {\n",
              "        text-align: right;\n",
              "    }\n",
              "</style>\n",
              "<table border=\"1\" class=\"dataframe\">\n",
              "  <thead>\n",
              "    <tr style=\"text-align: right;\">\n",
              "      <th></th>\n",
              "      <th>nconst</th>\n",
              "      <th>primaryName</th>\n",
              "      <th>birthYear</th>\n",
              "      <th>deathYear</th>\n",
              "      <th>primaryProfession</th>\n",
              "      <th>knownForTitles</th>\n",
              "    </tr>\n",
              "  </thead>\n",
              "  <tbody>\n",
              "    <tr>\n",
              "      <th>82</th>\n",
              "      <td>nm0000083</td>\n",
              "      <td>Alan Miller</td>\n",
              "      <td>NaN</td>\n",
              "      <td>NaN</td>\n",
              "      <td>editor,writer,director</td>\n",
              "      <td>tt0320978,tt5969604,tt0969216,tt0424773</td>\n",
              "    </tr>\n",
              "    <tr>\n",
              "      <th>93</th>\n",
              "      <td>nm0000094</td>\n",
              "      <td>J. Reifel</td>\n",
              "      <td>NaN</td>\n",
              "      <td>NaN</td>\n",
              "      <td>writer</td>\n",
              "      <td>tt0118631,tt0116030,tt0118886,tt0117915</td>\n",
              "    </tr>\n",
              "  </tbody>\n",
              "</table>\n",
              "</div>"
            ],
            "text/plain": [
              "       nconst  primaryName  birthYear  deathYear       primaryProfession  \\\n",
              "82  nm0000083  Alan Miller        NaN        NaN  editor,writer,director   \n",
              "93  nm0000094    J. Reifel        NaN        NaN                  writer   \n",
              "\n",
              "                             knownForTitles  \n",
              "82  tt0320978,tt5969604,tt0969216,tt0424773  \n",
              "93  tt0118631,tt0116030,tt0118886,tt0117915  "
            ]
          },
          "execution_count": 22,
          "metadata": {},
          "output_type": "execute_result"
        }
      ],
      "source": [
        "# Filtre valeurs nulles \"birthYear\" et \"deathYear\":\n",
        "\n",
        "val_nulles_birth_death = data_name_basics[data_name_basics[\"birthYear\"].isna() & data_name_basics[\"deathYear\"].isna()]\n",
        "print(\"\\nNb dates death + birth valeurs nulles\", val_nulles_birth_death.shape[0])\n",
        "print(\"On constate un grand nombre de dates non renseignées pour lesquelles nous ne pourrons pas calculer l'âge des individus.\")\n",
        "print(f\"Ratio de valeurs manquantes sur le total : {round(val_nulles_birth_death.shape[0] / data_name_basics.shape[0] * 100, 2)} %\")\n",
        "print(\"Conclusion : Les colonnes bithYear et deathYear seront écartées de notre sélection.\")\n",
        "val_nulles_birth_death.head(2)"
      ]
    },
    {
      "cell_type": "code",
      "execution_count": null,
      "metadata": {
        "id": "m0peh1aTUsYA",
        "outputId": "0031a1ac-923e-49da-9d3a-aa7a2d07c8d0"
      },
      "outputs": [
        {
          "name": "stdout",
          "output_type": "stream",
          "text": [
            "\n",
            "Nb dates birth valeurs nulles : 540090\n",
            "Nous pourrons calculer l'âge sur 540090 individus\n"
          ]
        },
        {
          "data": {
            "text/html": [
              "<div>\n",
              "<style scoped>\n",
              "    .dataframe tbody tr th:only-of-type {\n",
              "        vertical-align: middle;\n",
              "    }\n",
              "\n",
              "    .dataframe tbody tr th {\n",
              "        vertical-align: top;\n",
              "    }\n",
              "\n",
              "    .dataframe thead th {\n",
              "        text-align: right;\n",
              "    }\n",
              "</style>\n",
              "<table border=\"1\" class=\"dataframe\">\n",
              "  <thead>\n",
              "    <tr style=\"text-align: right;\">\n",
              "      <th></th>\n",
              "      <th>nconst</th>\n",
              "      <th>primaryName</th>\n",
              "      <th>birthYear</th>\n",
              "      <th>deathYear</th>\n",
              "      <th>primaryProfession</th>\n",
              "      <th>knownForTitles</th>\n",
              "    </tr>\n",
              "  </thead>\n",
              "  <tbody>\n",
              "    <tr>\n",
              "      <th>0</th>\n",
              "      <td>nm0000001</td>\n",
              "      <td>Fred Astaire</td>\n",
              "      <td>1899.0</td>\n",
              "      <td>1987.0</td>\n",
              "      <td>soundtrack,actor,miscellaneous</td>\n",
              "      <td>tt0072308,tt0050419,tt0053137,tt0031983</td>\n",
              "    </tr>\n",
              "    <tr>\n",
              "      <th>1</th>\n",
              "      <td>nm0000002</td>\n",
              "      <td>Lauren Bacall</td>\n",
              "      <td>1924.0</td>\n",
              "      <td>2014.0</td>\n",
              "      <td>actress,soundtrack</td>\n",
              "      <td>tt0117057,tt0075213,tt0038355,tt0037382</td>\n",
              "    </tr>\n",
              "  </tbody>\n",
              "</table>\n",
              "</div>"
            ],
            "text/plain": [
              "      nconst    primaryName  birthYear  deathYear  \\\n",
              "0  nm0000001   Fred Astaire     1899.0     1987.0   \n",
              "1  nm0000002  Lauren Bacall     1924.0     2014.0   \n",
              "\n",
              "                primaryProfession                           knownForTitles  \n",
              "0  soundtrack,actor,miscellaneous  tt0072308,tt0050419,tt0053137,tt0031983  \n",
              "1              actress,soundtrack  tt0117057,tt0075213,tt0038355,tt0037382  "
            ]
          },
          "execution_count": 23,
          "metadata": {},
          "output_type": "execute_result"
        }
      ],
      "source": [
        "# Filtre valeurs non nulles \"deathYear\" & \"birthYear\" pour calcul âge des Kpi généraux, mais ils n'auront pas vraiment de signification:\n",
        "\n",
        "val_calcul_age = data_name_basics[(data_name_basics[\"deathYear\"].notna() & data_name_basics[\"birthYear\"].notna())\n",
        "                                  |(data_name_basics[\"deathYear\"].isna() & data_name_basics[\"birthYear\"].notna())]\n",
        "print(\"\\nNb dates birth valeurs nulles :\", val_calcul_age.shape[0])\n",
        "print(\"Nous pourrons calculer l'âge sur 540090 individus\")\n",
        "val_calcul_age.head(2)"
      ]
    },
    {
      "cell_type": "code",
      "execution_count": null,
      "metadata": {
        "id": "CanyzdMlUsYA",
        "outputId": "ac46bc7f-ecc5-4acb-8209-82d9221d8957"
      },
      "outputs": [
        {
          "data": {
            "image/png": "[encoded data removed]",
            "text/plain": [
              "<Figure size 720x360 with 1 Axes>"
            ]
          },
          "metadata": {},
          "output_type": "display_data"
        },
        {
          "data": {
            "image/png": "[encoded data removed]",
            "text/plain": [
              "<Figure size 720x360 with 1 Axes>"
            ]
          },
          "metadata": {},
          "output_type": "display_data"
        }
      ],
      "source": [
        "# Camembert recensant les valeurs nulles et non nulles des années de naissances :\n",
        "explode = (0, 0.5)\n",
        "\n",
        "data = pd.DataFrame({' ': [len(data_name_basics[data_name_basics[\"birthYear\"].isna()]), \n",
        "                           len(data_name_basics[data_name_basics[\"birthYear\"].notna()])]},\n",
        "                    index = ['Valeurs nulles birthyear', 'Valeurs non nulles birthyear'])\n",
        "plot = data.plot.pie(y = ' ', \n",
        "                     figsize = (10, 5), \n",
        "                     autopct = '%1.1f%%', \n",
        "                     shadow = True,\n",
        "                     explode=explode)\n",
        "plot.legend().set_visible(False)\n",
        "\n",
        "data_2 = pd.DataFrame({' ': [len(data_name_basics[data_name_basics[\"deathYear\"].isna()]), \n",
        "                             len(data_name_basics[data_name_basics[\"deathYear\"].notna()])]},\n",
        "                    index = ['Valeurs nulles deathyear', 'Valeurs non nulles deathyear'])\n",
        "plot_2 = data_2.plot.pie(y = ' ', \n",
        "                         figsize = (10, 5), \n",
        "                         autopct = '%1.1f%%', \n",
        "                         shadow = True,\n",
        "                         explode=explode)\n",
        "plot_2.legend().set_visible(False)\n",
        "\n",
        "\n",
        "plt.show()"
      ]
    },
    {
      "cell_type": "code",
      "execution_count": null,
      "metadata": {
        "id": "vZp3u09xCFWC",
        "outputId": "30306e1c-1b92-4fd2-bd52-c915fedf3732"
      },
      "outputs": [
        {
          "data": {
            "text/plain": [
              "nconst               2339979\n",
              "primaryName          2339979\n",
              "birthYear                863\n",
              "deathYear                219\n",
              "primaryProfession    1824170\n",
              "knownForTitles       1928516\n",
              "dtype: int64"
            ]
          },
          "execution_count": 25,
          "metadata": {},
          "output_type": "execute_result"
        }
      ],
      "source": [
        "# Check des doublons noms, naissance, décès :\n",
        "\n",
        "data_name_basics[data_name_basics.duplicated([\"primaryName\", \"birthYear\", \"deathYear\"])].count()"
      ]
    },
    {
      "cell_type": "code",
      "execution_count": null,
      "metadata": {
        "id": "lhgb8m5AHZn5",
        "outputId": "bcef4793-4195-4dd7-f0f9-3317bc2a2f65"
      },
      "outputs": [
        {
          "name": "stdout",
          "output_type": "stream",
          "text": [
            "\n",
            "Nombre de doublons : 210\n"
          ]
        },
        {
          "data": {
            "text/html": [
              "<div>\n",
              "<style scoped>\n",
              "    .dataframe tbody tr th:only-of-type {\n",
              "        vertical-align: middle;\n",
              "    }\n",
              "\n",
              "    .dataframe tbody tr th {\n",
              "        vertical-align: top;\n",
              "    }\n",
              "\n",
              "    .dataframe thead th {\n",
              "        text-align: right;\n",
              "    }\n",
              "</style>\n",
              "<table border=\"1\" class=\"dataframe\">\n",
              "  <thead>\n",
              "    <tr style=\"text-align: right;\">\n",
              "      <th></th>\n",
              "      <th>primaryName</th>\n",
              "      <th>birthYear</th>\n",
              "      <th>deathYear</th>\n",
              "      <th>total</th>\n",
              "    </tr>\n",
              "  </thead>\n",
              "  <tbody>\n",
              "    <tr>\n",
              "      <th>0</th>\n",
              "      <td>Roy Benson</td>\n",
              "      <td>1914.0</td>\n",
              "      <td>1977.0</td>\n",
              "      <td>3</td>\n",
              "    </tr>\n",
              "    <tr>\n",
              "      <th>1</th>\n",
              "      <td>Dudley Williams</td>\n",
              "      <td>1938.0</td>\n",
              "      <td>2015.0</td>\n",
              "      <td>3</td>\n",
              "    </tr>\n",
              "  </tbody>\n",
              "</table>\n",
              "</div>"
            ],
            "text/plain": [
              "       primaryName  birthYear  deathYear  total\n",
              "0       Roy Benson     1914.0     1977.0      3\n",
              "1  Dudley Williams     1938.0     2015.0      3"
            ]
          },
          "execution_count": 26,
          "metadata": {},
          "output_type": "execute_result"
        }
      ],
      "source": [
        "# Check des détails doublons noms, naissance, décès :\n",
        "\n",
        "doublons(data_name_basics, [\"primaryName\",\"birthYear\",\"deathYear\"]).head(2)"
      ]
    },
    {
      "cell_type": "code",
      "execution_count": null,
      "metadata": {
        "id": "Yeju9T-GDymM",
        "outputId": "0f68f062-6cd8-4af0-befe-13d924c525fb"
      },
      "outputs": [
        {
          "name": "stdout",
          "output_type": "stream",
          "text": [
            "\n",
            "Nombre de doublons : 840150\n"
          ]
        },
        {
          "data": {
            "text/html": [
              "<div>\n",
              "<style scoped>\n",
              "    .dataframe tbody tr th:only-of-type {\n",
              "        vertical-align: middle;\n",
              "    }\n",
              "\n",
              "    .dataframe tbody tr th {\n",
              "        vertical-align: top;\n",
              "    }\n",
              "\n",
              "    .dataframe thead th {\n",
              "        text-align: right;\n",
              "    }\n",
              "</style>\n",
              "<table border=\"1\" class=\"dataframe\">\n",
              "  <thead>\n",
              "    <tr style=\"text-align: right;\">\n",
              "      <th></th>\n",
              "      <th>primaryName</th>\n",
              "      <th>total</th>\n",
              "    </tr>\n",
              "  </thead>\n",
              "  <tbody>\n",
              "    <tr>\n",
              "      <th>0</th>\n",
              "      <td>David Smith</td>\n",
              "      <td>339</td>\n",
              "    </tr>\n",
              "    <tr>\n",
              "      <th>1</th>\n",
              "      <td>Alex</td>\n",
              "      <td>336</td>\n",
              "    </tr>\n",
              "  </tbody>\n",
              "</table>\n",
              "</div>"
            ],
            "text/plain": [
              "   primaryName  total\n",
              "0  David Smith    339\n",
              "1         Alex    336"
            ]
          },
          "execution_count": 27,
          "metadata": {},
          "output_type": "execute_result"
        }
      ],
      "source": [
        "# Check des doublons noms :\n",
        "\n",
        "doublons(data_name_basics, [\"primaryName\"]).head(2)"
      ]
    },
    {
      "cell_type": "code",
      "execution_count": null,
      "metadata": {
        "id": "aIrZP-9TDU0Q",
        "outputId": "53e9a20e-8b88-4211-eaec-d931f89e0a68"
      },
      "outputs": [
        {
          "data": {
            "text/html": [
              "<div>\n",
              "<style scoped>\n",
              "    .dataframe tbody tr th:only-of-type {\n",
              "        vertical-align: middle;\n",
              "    }\n",
              "\n",
              "    .dataframe tbody tr th {\n",
              "        vertical-align: top;\n",
              "    }\n",
              "\n",
              "    .dataframe thead th {\n",
              "        text-align: right;\n",
              "    }\n",
              "</style>\n",
              "<table border=\"1\" class=\"dataframe\">\n",
              "  <thead>\n",
              "    <tr style=\"text-align: right;\">\n",
              "      <th></th>\n",
              "      <th>nconst</th>\n",
              "      <th>primaryName</th>\n",
              "      <th>birthYear</th>\n",
              "      <th>deathYear</th>\n",
              "      <th>primaryProfession</th>\n",
              "      <th>knownForTitles</th>\n",
              "    </tr>\n",
              "  </thead>\n",
              "  <tbody>\n",
              "    <tr>\n",
              "      <th>17570</th>\n",
              "      <td>nm0018187</td>\n",
              "      <td>Alex</td>\n",
              "      <td>NaN</td>\n",
              "      <td>NaN</td>\n",
              "      <td>actor,costume_department,make_up_department</td>\n",
              "      <td>tt0108001,tt0144366,tt0248216,tt5886454</td>\n",
              "    </tr>\n",
              "    <tr>\n",
              "      <th>17571</th>\n",
              "      <td>nm0018188</td>\n",
              "      <td>Alex</td>\n",
              "      <td>NaN</td>\n",
              "      <td>NaN</td>\n",
              "      <td>actor</td>\n",
              "      <td>tt0158220,tt4449162,tt0229288,tt0224938</td>\n",
              "    </tr>\n",
              "    <tr>\n",
              "      <th>17572</th>\n",
              "      <td>nm0018189</td>\n",
              "      <td>Alex</td>\n",
              "      <td>NaN</td>\n",
              "      <td>NaN</td>\n",
              "      <td>director</td>\n",
              "      <td>tt0288186,tt0332674,tt0325996,tt0272303</td>\n",
              "    </tr>\n",
              "    <tr>\n",
              "      <th>933175</th>\n",
              "      <td>nm10012289</td>\n",
              "      <td>Alex</td>\n",
              "      <td>NaN</td>\n",
              "      <td>NaN</td>\n",
              "      <td>actor</td>\n",
              "      <td>tt8767922</td>\n",
              "    </tr>\n",
              "    <tr>\n",
              "      <th>934319</th>\n",
              "      <td>nm10013491</td>\n",
              "      <td>Alex</td>\n",
              "      <td>NaN</td>\n",
              "      <td>NaN</td>\n",
              "      <td>NaN</td>\n",
              "      <td>NaN</td>\n",
              "    </tr>\n",
              "    <tr>\n",
              "      <th>...</th>\n",
              "      <td>...</td>\n",
              "      <td>...</td>\n",
              "      <td>...</td>\n",
              "      <td>...</td>\n",
              "      <td>...</td>\n",
              "      <td>...</td>\n",
              "    </tr>\n",
              "    <tr>\n",
              "      <th>11228229</th>\n",
              "      <td>nm9913568</td>\n",
              "      <td>Alex</td>\n",
              "      <td>NaN</td>\n",
              "      <td>NaN</td>\n",
              "      <td>assistant_director</td>\n",
              "      <td>NaN</td>\n",
              "    </tr>\n",
              "    <tr>\n",
              "      <th>11239790</th>\n",
              "      <td>nm9926957</td>\n",
              "      <td>Alex</td>\n",
              "      <td>NaN</td>\n",
              "      <td>NaN</td>\n",
              "      <td>NaN</td>\n",
              "      <td>NaN</td>\n",
              "    </tr>\n",
              "    <tr>\n",
              "      <th>11246127</th>\n",
              "      <td>nm9934270</td>\n",
              "      <td>Alex</td>\n",
              "      <td>NaN</td>\n",
              "      <td>NaN</td>\n",
              "      <td>NaN</td>\n",
              "      <td>NaN</td>\n",
              "    </tr>\n",
              "    <tr>\n",
              "      <th>11271187</th>\n",
              "      <td>nm9963530</td>\n",
              "      <td>Alex</td>\n",
              "      <td>NaN</td>\n",
              "      <td>NaN</td>\n",
              "      <td>actor</td>\n",
              "      <td>NaN</td>\n",
              "    </tr>\n",
              "    <tr>\n",
              "      <th>11283314</th>\n",
              "      <td>nm9977691</td>\n",
              "      <td>Alex</td>\n",
              "      <td>NaN</td>\n",
              "      <td>NaN</td>\n",
              "      <td>costume_designer</td>\n",
              "      <td>tt0175470</td>\n",
              "    </tr>\n",
              "  </tbody>\n",
              "</table>\n",
              "<p>336 rows × 6 columns</p>\n",
              "</div>"
            ],
            "text/plain": [
              "              nconst primaryName  birthYear  deathYear  \\\n",
              "17570      nm0018187        Alex        NaN        NaN   \n",
              "17571      nm0018188        Alex        NaN        NaN   \n",
              "17572      nm0018189        Alex        NaN        NaN   \n",
              "933175    nm10012289        Alex        NaN        NaN   \n",
              "934319    nm10013491        Alex        NaN        NaN   \n",
              "...              ...         ...        ...        ...   \n",
              "11228229   nm9913568        Alex        NaN        NaN   \n",
              "11239790   nm9926957        Alex        NaN        NaN   \n",
              "11246127   nm9934270        Alex        NaN        NaN   \n",
              "11271187   nm9963530        Alex        NaN        NaN   \n",
              "11283314   nm9977691        Alex        NaN        NaN   \n",
              "\n",
              "                                    primaryProfession  \\\n",
              "17570     actor,costume_department,make_up_department   \n",
              "17571                                           actor   \n",
              "17572                                        director   \n",
              "933175                                          actor   \n",
              "934319                                            NaN   \n",
              "...                                               ...   \n",
              "11228229                           assistant_director   \n",
              "11239790                                          NaN   \n",
              "11246127                                          NaN   \n",
              "11271187                                        actor   \n",
              "11283314                             costume_designer   \n",
              "\n",
              "                                   knownForTitles  \n",
              "17570     tt0108001,tt0144366,tt0248216,tt5886454  \n",
              "17571     tt0158220,tt4449162,tt0229288,tt0224938  \n",
              "17572     tt0288186,tt0332674,tt0325996,tt0272303  \n",
              "933175                                  tt8767922  \n",
              "934319                                        NaN  \n",
              "...                                           ...  \n",
              "11228229                                      NaN  \n",
              "11239790                                      NaN  \n",
              "11246127                                      NaN  \n",
              "11271187                                      NaN  \n",
              "11283314                                tt0175470  \n",
              "\n",
              "[336 rows x 6 columns]"
            ]
          },
          "execution_count": 28,
          "metadata": {},
          "output_type": "execute_result"
        }
      ],
      "source": [
        "# Aperçu de Alex :\n",
        "\n",
        "Alex = data_name_basics[data_name_basics.primaryName == \"Alex\"]\n",
        "Alex"
      ]
    },
    {
      "cell_type": "code",
      "execution_count": null,
      "metadata": {
        "id": "ErK73IZ1F1J1",
        "outputId": "34998a27-5eac-4921-a17b-1b0bffb40b7a"
      },
      "outputs": [
        {
          "data": {
            "text/html": [
              "<div>\n",
              "<style scoped>\n",
              "    .dataframe tbody tr th:only-of-type {\n",
              "        vertical-align: middle;\n",
              "    }\n",
              "\n",
              "    .dataframe tbody tr th {\n",
              "        vertical-align: top;\n",
              "    }\n",
              "\n",
              "    .dataframe thead th {\n",
              "        text-align: right;\n",
              "    }\n",
              "</style>\n",
              "<table border=\"1\" class=\"dataframe\">\n",
              "  <thead>\n",
              "    <tr style=\"text-align: right;\">\n",
              "      <th></th>\n",
              "      <th>nconst</th>\n",
              "      <th>primaryName</th>\n",
              "      <th>birthYear</th>\n",
              "      <th>deathYear</th>\n",
              "      <th>primaryProfession</th>\n",
              "      <th>knownForTitles</th>\n",
              "    </tr>\n",
              "  </thead>\n",
              "  <tbody>\n",
              "    <tr>\n",
              "      <th>760913</th>\n",
              "      <td>nm0807188</td>\n",
              "      <td>Paul Smith</td>\n",
              "      <td>1929.0</td>\n",
              "      <td>2006.0</td>\n",
              "      <td>actor,soundtrack</td>\n",
              "      <td>tt0050659,tt0064892,tt0061281,tt0054542</td>\n",
              "    </tr>\n",
              "    <tr>\n",
              "      <th>763086</th>\n",
              "      <td>nm0809527</td>\n",
              "      <td>Paul Smith</td>\n",
              "      <td>1920.0</td>\n",
              "      <td>1997.0</td>\n",
              "      <td>writer</td>\n",
              "      <td>tt0212698</td>\n",
              "    </tr>\n",
              "    <tr>\n",
              "      <th>763087</th>\n",
              "      <td>nm0809528</td>\n",
              "      <td>Paul Smith</td>\n",
              "      <td>NaN</td>\n",
              "      <td>NaN</td>\n",
              "      <td>sound_department,editorial_department</td>\n",
              "      <td>tt0093209,tt0096895,tt0081573,tt0086393</td>\n",
              "    </tr>\n",
              "    <tr>\n",
              "      <th>763088</th>\n",
              "      <td>nm0809529</td>\n",
              "      <td>Paul Smith</td>\n",
              "      <td>NaN</td>\n",
              "      <td>NaN</td>\n",
              "      <td>camera_department,cinematographer</td>\n",
              "      <td>tt0112691,tt9409762,tt0120630,tt1430626</td>\n",
              "    </tr>\n",
              "    <tr>\n",
              "      <th>763089</th>\n",
              "      <td>nm0809531</td>\n",
              "      <td>Paul Smith</td>\n",
              "      <td>1947.0</td>\n",
              "      <td>NaN</td>\n",
              "      <td>director,producer,actor</td>\n",
              "      <td>tt0301199,tt0435625,tt1010048,tt1020558</td>\n",
              "    </tr>\n",
              "    <tr>\n",
              "      <th>...</th>\n",
              "      <td>...</td>\n",
              "      <td>...</td>\n",
              "      <td>...</td>\n",
              "      <td>...</td>\n",
              "      <td>...</td>\n",
              "      <td>...</td>\n",
              "    </tr>\n",
              "    <tr>\n",
              "      <th>11134328</th>\n",
              "      <td>nm9805259</td>\n",
              "      <td>Paul Smith</td>\n",
              "      <td>NaN</td>\n",
              "      <td>NaN</td>\n",
              "      <td>NaN</td>\n",
              "      <td>tt0896893,tt0407423</td>\n",
              "    </tr>\n",
              "    <tr>\n",
              "      <th>11180257</th>\n",
              "      <td>nm9858482</td>\n",
              "      <td>Paul Smith</td>\n",
              "      <td>NaN</td>\n",
              "      <td>NaN</td>\n",
              "      <td>actor</td>\n",
              "      <td>NaN</td>\n",
              "    </tr>\n",
              "    <tr>\n",
              "      <th>11246630</th>\n",
              "      <td>nm9934814</td>\n",
              "      <td>Paul Smith</td>\n",
              "      <td>NaN</td>\n",
              "      <td>NaN</td>\n",
              "      <td>cinematographer</td>\n",
              "      <td>tt8618810</td>\n",
              "    </tr>\n",
              "    <tr>\n",
              "      <th>11288022</th>\n",
              "      <td>nm9983116</td>\n",
              "      <td>Paul Smith</td>\n",
              "      <td>NaN</td>\n",
              "      <td>NaN</td>\n",
              "      <td>NaN</td>\n",
              "      <td>tt0959790</td>\n",
              "    </tr>\n",
              "    <tr>\n",
              "      <th>11290676</th>\n",
              "      <td>nm9986201</td>\n",
              "      <td>Paul Smith</td>\n",
              "      <td>NaN</td>\n",
              "      <td>NaN</td>\n",
              "      <td>camera_department</td>\n",
              "      <td>tt8727116</td>\n",
              "    </tr>\n",
              "  </tbody>\n",
              "</table>\n",
              "<p>217 rows × 6 columns</p>\n",
              "</div>"
            ],
            "text/plain": [
              "             nconst primaryName  birthYear  deathYear  \\\n",
              "760913    nm0807188  Paul Smith     1929.0     2006.0   \n",
              "763086    nm0809527  Paul Smith     1920.0     1997.0   \n",
              "763087    nm0809528  Paul Smith        NaN        NaN   \n",
              "763088    nm0809529  Paul Smith        NaN        NaN   \n",
              "763089    nm0809531  Paul Smith     1947.0        NaN   \n",
              "...             ...         ...        ...        ...   \n",
              "11134328  nm9805259  Paul Smith        NaN        NaN   \n",
              "11180257  nm9858482  Paul Smith        NaN        NaN   \n",
              "11246630  nm9934814  Paul Smith        NaN        NaN   \n",
              "11288022  nm9983116  Paul Smith        NaN        NaN   \n",
              "11290676  nm9986201  Paul Smith        NaN        NaN   \n",
              "\n",
              "                              primaryProfession  \\\n",
              "760913                         actor,soundtrack   \n",
              "763086                                   writer   \n",
              "763087    sound_department,editorial_department   \n",
              "763088        camera_department,cinematographer   \n",
              "763089                  director,producer,actor   \n",
              "...                                         ...   \n",
              "11134328                                    NaN   \n",
              "11180257                                  actor   \n",
              "11246630                        cinematographer   \n",
              "11288022                                    NaN   \n",
              "11290676                      camera_department   \n",
              "\n",
              "                                   knownForTitles  \n",
              "760913    tt0050659,tt0064892,tt0061281,tt0054542  \n",
              "763086                                  tt0212698  \n",
              "763087    tt0093209,tt0096895,tt0081573,tt0086393  \n",
              "763088    tt0112691,tt9409762,tt0120630,tt1430626  \n",
              "763089    tt0301199,tt0435625,tt1010048,tt1020558  \n",
              "...                                           ...  \n",
              "11134328                      tt0896893,tt0407423  \n",
              "11180257                                      NaN  \n",
              "11246630                                tt8618810  \n",
              "11288022                                tt0959790  \n",
              "11290676                                tt8727116  \n",
              "\n",
              "[217 rows x 6 columns]"
            ]
          },
          "execution_count": 29,
          "metadata": {},
          "output_type": "execute_result"
        }
      ],
      "source": [
        "# Aperçu de Paul Smith :\n",
        "\n",
        "Paul_Smith = data_name_basics[data_name_basics[\"primaryName\"] == \"Paul Smith\"]\n",
        "Paul_Smith"
      ]
    },
    {
      "cell_type": "code",
      "execution_count": null,
      "metadata": {
        "id": "Tr5C5rLwUsYD"
      },
      "outputs": [],
      "source": [
        "# Analyse des professions\n",
        "professions = data_name_basics.copy()\n",
        "professions[\"primaryProfession\"] = professions[\"primaryProfession\"].str.split(\",\")\n",
        "professions = professions.explode(\"primaryProfession\")"
      ]
    },
    {
      "cell_type": "code",
      "execution_count": null,
      "metadata": {
        "id": "wiO1BKQ1UsYE"
      },
      "outputs": [],
      "source": [
        "# Compte de chaque profession\n",
        "compte_prof = professions.value_counts([\"primaryProfession\"]).to_frame(\"total\").reset_index()"
      ]
    },
    {
      "cell_type": "code",
      "execution_count": null,
      "metadata": {
        "id": "hV9shUTUUsYF",
        "outputId": "f29b83dd-4142-4f9e-c788-0c0486b28f23"
      },
      "outputs": [
        {
          "data": {
            "image/png": "[encoded data removed]",
            "text/plain": [
              "<Figure size 720x504 with 1 Axes>"
            ]
          },
          "metadata": {
            "needs_background": "light"
          },
          "output_type": "display_data"
        }
      ],
      "source": [
        "# top 20 des professions\n",
        "\n",
        "top_20 = compte_prof.head(20)\n",
        "\n",
        "plt.subplots(figsize=(10,7))\n",
        "sns.barplot(y=\"primaryProfession\", \n",
        "            x=\"total\", \n",
        "            data=top_20,\n",
        "            color=\"royalblue\").set(\n",
        "                title='Top 20 Professions', \n",
        "                ylabel=\"Professions\", \n",
        "                xlabel=\"Total le6\"\n",
        "                )\n",
        "plt.show()"
      ]
    },
    {
      "cell_type": "markdown",
      "metadata": {
        "id": "C04C0yE9UsYG"
      },
      "source": [
        "### Conclusion Table 1 :  name.basics.tsv.gz - Acteurs\n",
        "Suite à notre exploration et analyse de la table des acteurs, nous avons fait le choix d'exclure de notre sélection les colonnes **birthYear** et **deathYear**, ayant plus de 95% de valeurs nulles.\n",
        "\n",
        "Nous ne pourrons malheureusement pas calculer l'âge des individus... :'(\n",
        "\n",
        "La colonne **primaryProfession** ne nous sera pas utile dans notre sélection.\n",
        "\n",
        "A ce stade, nous conservons les colonnes :\n",
        "*  **nconst** : clé de jointure pour d'autres tables\n",
        "*  **primaryNames**\n",
        "*  **knownforTitles** : clé de jointure pour d'autres tables"
      ]
    },
    {
      "cell_type": "code",
      "execution_count": null,
      "metadata": {
        "id": "PP2zSDH1HZn6"
      },
      "outputs": [],
      "source": [
        "# selection des colonnes\n",
        "selection_name_basics = data_name_basics[[\"nconst\", \"primaryName\", \"knownForTitles\"]]"
      ]
    },
    {
      "cell_type": "markdown",
      "metadata": {
        "id": "Okn2q4vjyJe9"
      },
      "source": [
        "# Table 2 : title.akas.tsv.gz - Titres des films"
      ]
    },
    {
      "cell_type": "markdown",
      "metadata": {
        "id": "5fuqD9guySdH"
      },
      "source": [
        "Elle donne les infos suivantes sur les titres de films :\n",
        "- titleId (string) = identificateur unique alphanumérique du titre\n",
        "- ordering (integer) = nombre permettant d’identifier de manière unique les lignes pour un titleId donné\n",
        "- title (string) = le titre local\n",
        "- region (string) = la région de cette version du titre\n",
        "- language (string) = la langue du titre\n",
        "- types (array) = Ensemble d’attributs énumérés pour ce titre alternatif. Un ou plusieurs des éléments suivants: « alternative », « dvd », « festival », « tv », « video », « working », « original », « imdbDisplay ». De nouvelles valeurs peuvent être ajoutées à l’avenir sans avertissement\n",
        "- attributes (array) = Termes supplémentaires pour décrire ce titre alternatif, non énumérés\n",
        "- isOriginalTitle (booléen) = 0 : quand ce n'est pas le titre original / 1: c'est le titre original"
      ]
    },
    {
      "cell_type": "markdown",
      "metadata": {
        "id": "1JSw3LzGUsYK"
      },
      "source": [
        "### Objectif  :\n",
        "\n",
        "*  Nombre de films par régions afin de connaître le nombre de fois qu'un film a été traduit"
      ]
    },
    {
      "cell_type": "code",
      "execution_count": null,
      "metadata": {
        "id": "MHEJJPZVzisI",
        "outputId": "47fddd8c-7802-4c79-e757-9ed376f1f0da"
      },
      "outputs": [
        {
          "name": "stdout",
          "output_type": "stream",
          "text": [
            "Nombre de lignes : 30387217\n",
            "Nombre de colonnes : 8\n",
            "\n",
            "<class 'pandas.core.frame.DataFrame'>\n",
            "RangeIndex: 30387217 entries, 0 to 30387216\n",
            "Data columns (total 8 columns):\n",
            " #   Column           Dtype  \n",
            "---  ------           -----  \n",
            " 0   titleId          object \n",
            " 1   ordering         int64  \n",
            " 2   title            object \n",
            " 3   region           object \n",
            " 4   language         object \n",
            " 5   types            object \n",
            " 6   attributes       object \n",
            " 7   isOriginalTitle  float64\n",
            "dtypes: float64(1), int64(1), object(6)\n",
            "memory usage: 1.8+ GB\n"
          ]
        },
        {
          "data": {
            "text/plain": [
              "(None,\n",
              "            ordering  isOriginalTitle\n",
              " count  3.038722e+07     3.038503e+07\n",
              " mean   4.017379e+00     5.991756e-02\n",
              " std    3.454935e+00     2.373341e-01\n",
              " min    1.000000e+00     0.000000e+00\n",
              " 25%    2.000000e+00     0.000000e+00\n",
              " 50%    4.000000e+00     0.000000e+00\n",
              " 75%    6.000000e+00     0.000000e+00\n",
              " max    1.760000e+02     1.000000e+00)"
            ]
          },
          "execution_count": 34,
          "metadata": {},
          "output_type": "execute_result"
        }
      ],
      "source": [
        "info_df(data_title_akas)"
      ]
    },
    {
      "cell_type": "code",
      "execution_count": null,
      "metadata": {
        "id": "XHnh7ULZUsYL",
        "outputId": "72d10ca9-2e3c-48e5-a275-2d8f67e488d4"
      },
      "outputs": [
        {
          "name": "stdout",
          "output_type": "stream",
          "text": [
            "\n",
            "Nombre total de valeurs nulles : \n",
            "63299296\n",
            "\n",
            "Nombre de valeurs nulles par colonnes :\n",
            "\n",
            "titleId                   0\n",
            "ordering                  0\n",
            "title                     4\n",
            "region              1892433\n",
            "language            6011027\n",
            "types              25240459\n",
            "attributes         30153186\n",
            "isOriginalTitle        2187\n",
            "dtype: int64\n"
          ]
        }
      ],
      "source": [
        "info_na(data_title_akas)"
      ]
    },
    {
      "cell_type": "code",
      "execution_count": null,
      "metadata": {
        "id": "8rk50q870k6C",
        "outputId": "209657b6-41e8-428c-8ad4-fde5080438a0"
      },
      "outputs": [
        {
          "data": {
            "text/html": [
              "<div>\n",
              "<style scoped>\n",
              "    .dataframe tbody tr th:only-of-type {\n",
              "        vertical-align: middle;\n",
              "    }\n",
              "\n",
              "    .dataframe tbody tr th {\n",
              "        vertical-align: top;\n",
              "    }\n",
              "\n",
              "    .dataframe thead th {\n",
              "        text-align: right;\n",
              "    }\n",
              "</style>\n",
              "<table border=\"1\" class=\"dataframe\">\n",
              "  <thead>\n",
              "    <tr style=\"text-align: right;\">\n",
              "      <th></th>\n",
              "      <th>tconst</th>\n",
              "      <th>ordering</th>\n",
              "      <th>title</th>\n",
              "      <th>region</th>\n",
              "      <th>language</th>\n",
              "      <th>types</th>\n",
              "      <th>attributes</th>\n",
              "      <th>isOriginalTitle</th>\n",
              "    </tr>\n",
              "  </thead>\n",
              "  <tbody>\n",
              "    <tr>\n",
              "      <th>0</th>\n",
              "      <td>tt0000001</td>\n",
              "      <td>1</td>\n",
              "      <td>Карменсіта</td>\n",
              "      <td>UA</td>\n",
              "      <td>NaN</td>\n",
              "      <td>imdbDisplay</td>\n",
              "      <td>NaN</td>\n",
              "      <td>0.0</td>\n",
              "    </tr>\n",
              "  </tbody>\n",
              "</table>\n",
              "</div>"
            ],
            "text/plain": [
              "      tconst  ordering       title region language        types attributes  \\\n",
              "0  tt0000001         1  Карменсіта     UA      NaN  imdbDisplay        NaN   \n",
              "\n",
              "   isOriginalTitle  \n",
              "0              0.0  "
            ]
          },
          "execution_count": 36,
          "metadata": {},
          "output_type": "execute_result"
        }
      ],
      "source": [
        "# Titre de colonne \"titleId\" renommé \"tconst\" pour faciliter le merge :\n",
        "data_title_akas = data_title_akas.rename(columns = {\"titleId\" : \"tconst\"})\n",
        "data_title_akas.head(1)"
      ]
    },
    {
      "cell_type": "code",
      "execution_count": null,
      "metadata": {
        "id": "yjpiIkKrUsYL",
        "outputId": "48d29500-bd10-454c-c26c-0505be2f6e0e"
      },
      "outputs": [
        {
          "name": "stdout",
          "output_type": "stream",
          "text": [
            "['UA' 'DE' 'HU' 'GR' 'RU' 'US' nan 'JP' 'FR' 'RO' 'GB' 'PT' 'RS' 'ES' 'UY'\n",
            " 'IT' 'AR' 'FI' 'PL' 'BR' 'DK' 'TR' 'XWW' 'XEU' 'SK' 'CZ' 'SE' 'NZ' 'MX'\n",
            " 'NO' 'XYU' 'AT' 'VE' 'CSHH' 'SI' 'AU' 'TW' 'LT' 'IN' 'CA' 'NL' 'CO' 'IR'\n",
            " 'BG' 'BE' 'SUHH' 'HR' 'DZ' 'CH' 'BF' 'XWG' 'VN' 'CN' 'XSA' 'EE' 'IS'\n",
            " 'DDDE' 'HK' 'XKO' 'CL' 'IE' 'JM' 'PE' 'EG' 'GE' 'BY' 'BA' 'PA' 'PH' 'TJ'\n",
            " 'XSI' 'TH' 'YUCS' 'ZA' 'MY' 'IL' 'LV' 'PK' 'SG' 'BD' 'ID' 'CU' 'AL' 'BO'\n",
            " 'AE' 'KR' 'UZ' 'BUMM' 'XPI' 'BJ' 'PR' 'CM' 'AZ' 'DO' 'EC' 'NG' 'MA' 'XAS'\n",
            " 'GL' 'MN' 'LI' 'LU' 'PY' 'MZ' 'GT' 'BM' 'KZ' 'MD' 'CR' 'LB' 'IQ' 'TM'\n",
            " 'MK' 'TN' 'HT' 'AM' 'SN' 'GH' 'CI' 'JO' 'KG' 'LK' 'NE' 'GN' 'VDVN' 'TD'\n",
            " 'SO' 'SD' 'MC' 'CG' 'TT' 'GA' 'BS' 'LY' 'SY' 'AO' 'KH' 'SV' 'MR' 'AF'\n",
            " 'MG' 'ML' 'GY' 'CY' 'ET' 'GU' 'SR' 'MT' 'TG' 'PG' 'ME' 'QA' 'MU' 'BI'\n",
            " 'CF' 'NI' 'ZW' 'ZM' 'GW' 'DJ' 'KP' 'RW' 'TZ' 'GI' 'LA' 'SC' 'NP' 'GP'\n",
            " 'FO' 'PS' 'ZRCD' 'MO' 'AW' 'KW' 'CV' 'SL' 'SM' 'CD' 'TO' 'BT' 'LS' 'HN'\n",
            " 'KE' 'MQ' 'AD' 'ER' 'SA' 'CSXX' 'IM' 'XKV' 'BH' 'BB' 'BZ' 'UG' 'AG' 'NU'\n",
            " 'OM' 'BW' 'LR' 'AN' 'MV' 'YE' 'GM' 'KY' 'MM' 'NC' 'DM' 'TL' 'MP' 'VA'\n",
            " 'GQ' 'FJ' 'SZ' 'RE' 'EH' 'PF' 'VG' 'LC' 'XAU' 'MW' 'BN' 'ST' 'KM' 'FM'\n",
            " 'AI' 'GD' 'VI' 'SB' 'GF' 'AQ' 'MH' 'CW' 'WS' 'VC' 'AS' 'XNA' 'MS' 'VU'\n",
            " 'SH' 'TV' 'CK' 'PW' 'NR' 'KN' 'JE' 'KI' 'TC']\n"
          ]
        }
      ],
      "source": [
        "print(data_title_akas[\"region\"].unique())"
      ]
    },
    {
      "cell_type": "code",
      "execution_count": null,
      "metadata": {
        "id": "9yANP4AHxBjV",
        "outputId": "2defcf12-9635-4d11-c6cb-c64166fce2e7"
      },
      "outputs": [
        {
          "data": {
            "text/html": [
              "<div>\n",
              "<style scoped>\n",
              "    .dataframe tbody tr th:only-of-type {\n",
              "        vertical-align: middle;\n",
              "    }\n",
              "\n",
              "    .dataframe tbody tr th {\n",
              "        vertical-align: top;\n",
              "    }\n",
              "\n",
              "    .dataframe thead th {\n",
              "        text-align: right;\n",
              "    }\n",
              "</style>\n",
              "<table border=\"1\" class=\"dataframe\">\n",
              "  <thead>\n",
              "    <tr style=\"text-align: right;\">\n",
              "      <th></th>\n",
              "      <th>region</th>\n",
              "      <th>total</th>\n",
              "    </tr>\n",
              "  </thead>\n",
              "  <tbody>\n",
              "    <tr>\n",
              "      <th>0</th>\n",
              "      <td>FR</td>\n",
              "      <td>3603807</td>\n",
              "    </tr>\n",
              "    <tr>\n",
              "      <th>1</th>\n",
              "      <td>JP</td>\n",
              "      <td>3601490</td>\n",
              "    </tr>\n",
              "    <tr>\n",
              "      <th>2</th>\n",
              "      <td>DE</td>\n",
              "      <td>3561089</td>\n",
              "    </tr>\n",
              "    <tr>\n",
              "      <th>3</th>\n",
              "      <td>ES</td>\n",
              "      <td>3529370</td>\n",
              "    </tr>\n",
              "    <tr>\n",
              "      <th>4</th>\n",
              "      <td>IN</td>\n",
              "      <td>3524341</td>\n",
              "    </tr>\n",
              "    <tr>\n",
              "      <th>5</th>\n",
              "      <td>IT</td>\n",
              "      <td>3510834</td>\n",
              "    </tr>\n",
              "    <tr>\n",
              "      <th>6</th>\n",
              "      <td>PT</td>\n",
              "      <td>3452072</td>\n",
              "    </tr>\n",
              "    <tr>\n",
              "      <th>7</th>\n",
              "      <td>US</td>\n",
              "      <td>1285018</td>\n",
              "    </tr>\n",
              "    <tr>\n",
              "      <th>8</th>\n",
              "      <td>GB</td>\n",
              "      <td>400046</td>\n",
              "    </tr>\n",
              "    <tr>\n",
              "      <th>9</th>\n",
              "      <td>CA</td>\n",
              "      <td>189505</td>\n",
              "    </tr>\n",
              "    <tr>\n",
              "      <th>10</th>\n",
              "      <td>XWW</td>\n",
              "      <td>156280</td>\n",
              "    </tr>\n",
              "    <tr>\n",
              "      <th>11</th>\n",
              "      <td>AU</td>\n",
              "      <td>109111</td>\n",
              "    </tr>\n",
              "    <tr>\n",
              "      <th>12</th>\n",
              "      <td>BR</td>\n",
              "      <td>104363</td>\n",
              "    </tr>\n",
              "    <tr>\n",
              "      <th>13</th>\n",
              "      <td>MX</td>\n",
              "      <td>87205</td>\n",
              "    </tr>\n",
              "    <tr>\n",
              "      <th>14</th>\n",
              "      <td>GR</td>\n",
              "      <td>85134</td>\n",
              "    </tr>\n",
              "    <tr>\n",
              "      <th>15</th>\n",
              "      <td>RU</td>\n",
              "      <td>84377</td>\n",
              "    </tr>\n",
              "    <tr>\n",
              "      <th>16</th>\n",
              "      <td>FI</td>\n",
              "      <td>82244</td>\n",
              "    </tr>\n",
              "    <tr>\n",
              "      <th>17</th>\n",
              "      <td>PL</td>\n",
              "      <td>74096</td>\n",
              "    </tr>\n",
              "    <tr>\n",
              "      <th>18</th>\n",
              "      <td>HU</td>\n",
              "      <td>68971</td>\n",
              "    </tr>\n",
              "    <tr>\n",
              "      <th>19</th>\n",
              "      <td>SE</td>\n",
              "      <td>59626</td>\n",
              "    </tr>\n",
              "  </tbody>\n",
              "</table>\n",
              "</div>"
            ],
            "text/plain": [
              "   region    total\n",
              "0      FR  3603807\n",
              "1      JP  3601490\n",
              "2      DE  3561089\n",
              "3      ES  3529370\n",
              "4      IN  3524341\n",
              "5      IT  3510834\n",
              "6      PT  3452072\n",
              "7      US  1285018\n",
              "8      GB   400046\n",
              "9      CA   189505\n",
              "10    XWW   156280\n",
              "11     AU   109111\n",
              "12     BR   104363\n",
              "13     MX    87205\n",
              "14     GR    85134\n",
              "15     RU    84377\n",
              "16     FI    82244\n",
              "17     PL    74096\n",
              "18     HU    68971\n",
              "19     SE    59626"
            ]
          },
          "execution_count": 38,
          "metadata": {},
          "output_type": "execute_result"
        }
      ],
      "source": [
        "# Nombre de films par région sous df :\n",
        "\n",
        "check_reg = data_title_akas.value_counts([\"region\"]).to_frame(\"total\").reset_index()\n",
        "check_reg.head(20)"
      ]
    },
    {
      "cell_type": "code",
      "execution_count": null,
      "metadata": {
        "id": "cDLbtd3BUsYN",
        "outputId": "91d6c56d-ca20-420e-cde2-3671f7cd9703"
      },
      "outputs": [
        {
          "data": {
            "image/png": "[encoded data removed]",
            "text/plain": [
              "<Figure size 864x504 with 1 Axes>"
            ]
          },
          "metadata": {
            "needs_background": "light"
          },
          "output_type": "display_data"
        }
      ],
      "source": [
        "sns.barplot(y=check_reg[\"region\"].head(20), \n",
        "            x=check_reg[\"total\"].head(20), \n",
        "            color=\"royalblue\").set_title(\"Top 20 des régions comptant le plus de films traduits\")\n",
        "plt.show()"
      ]
    },
    {
      "cell_type": "code",
      "execution_count": null,
      "metadata": {
        "id": "anJi6Rn1zO4x",
        "outputId": "c4915e82-0dc0-4ca8-9ab0-9de66f4fdd05"
      },
      "outputs": [
        {
          "data": {
            "text/html": [
              "<div>\n",
              "<style scoped>\n",
              "    .dataframe tbody tr th:only-of-type {\n",
              "        vertical-align: middle;\n",
              "    }\n",
              "\n",
              "    .dataframe tbody tr th {\n",
              "        vertical-align: top;\n",
              "    }\n",
              "\n",
              "    .dataframe thead th {\n",
              "        text-align: right;\n",
              "    }\n",
              "</style>\n",
              "<table border=\"1\" class=\"dataframe\">\n",
              "  <thead>\n",
              "    <tr style=\"text-align: right;\">\n",
              "      <th></th>\n",
              "      <th>region</th>\n",
              "      <th>total</th>\n",
              "    </tr>\n",
              "  </thead>\n",
              "  <tbody>\n",
              "    <tr>\n",
              "      <th>0</th>\n",
              "      <td>FR</td>\n",
              "      <td>3603807</td>\n",
              "    </tr>\n",
              "    <tr>\n",
              "      <th>7</th>\n",
              "      <td>US</td>\n",
              "      <td>1285018</td>\n",
              "    </tr>\n",
              "    <tr>\n",
              "      <th>8</th>\n",
              "      <td>GB</td>\n",
              "      <td>400046</td>\n",
              "    </tr>\n",
              "  </tbody>\n",
              "</table>\n",
              "</div>"
            ],
            "text/plain": [
              "  region    total\n",
              "0     FR  3603807\n",
              "7     US  1285018\n",
              "8     GB   400046"
            ]
          },
          "execution_count": 40,
          "metadata": {},
          "output_type": "execute_result"
        }
      ],
      "source": [
        "# Nombre de films région US / GB / FR :\n",
        "\n",
        "select_reg = check_reg[(check_reg[\"region\"] == \"US\") | (check_reg[\"region\"] == \"GB\") | (check_reg[\"region\"] == \"FR\")]\n",
        "select_reg\n"
      ]
    },
    {
      "cell_type": "code",
      "execution_count": null,
      "metadata": {
        "id": "J1dAwA7x3AOj"
      },
      "outputs": [],
      "source": [
        "# Pour la sélection : Flag des colonnes regions FR / US / GB qui permettra de filtrer les tconst pour notre sélection:\n",
        "\n",
        "data_title_akas['fr'] = np.where((data_title_akas[\"region\"] == 'FR'), 1, 0)\n",
        "data_title_akas['us'] = np.where((data_title_akas[\"region\"] == 'US'), 1, 0)\n",
        "data_title_akas['gb'] = np.where((data_title_akas[\"region\"] == 'GB'), 1, 0)"
      ]
    },
    {
      "cell_type": "code",
      "execution_count": null,
      "metadata": {
        "id": "Job5e5ah3I5C",
        "outputId": "9fb84408-5498-4f60-8879-b700e349945d"
      },
      "outputs": [
        {
          "data": {
            "text/html": [
              "<div>\n",
              "<style scoped>\n",
              "    .dataframe tbody tr th:only-of-type {\n",
              "        vertical-align: middle;\n",
              "    }\n",
              "\n",
              "    .dataframe tbody tr th {\n",
              "        vertical-align: top;\n",
              "    }\n",
              "\n",
              "    .dataframe thead th {\n",
              "        text-align: right;\n",
              "    }\n",
              "</style>\n",
              "<table border=\"1\" class=\"dataframe\">\n",
              "  <thead>\n",
              "    <tr style=\"text-align: right;\">\n",
              "      <th></th>\n",
              "      <th>tconst</th>\n",
              "      <th>ordering</th>\n",
              "      <th>title</th>\n",
              "      <th>region</th>\n",
              "      <th>language</th>\n",
              "      <th>types</th>\n",
              "      <th>attributes</th>\n",
              "      <th>isOriginalTitle</th>\n",
              "      <th>fr</th>\n",
              "      <th>us</th>\n",
              "      <th>gb</th>\n",
              "    </tr>\n",
              "  </thead>\n",
              "  <tbody>\n",
              "    <tr>\n",
              "      <th>0</th>\n",
              "      <td>tt0000001</td>\n",
              "      <td>1</td>\n",
              "      <td>Карменсіта</td>\n",
              "      <td>UA</td>\n",
              "      <td>NaN</td>\n",
              "      <td>imdbDisplay</td>\n",
              "      <td>NaN</td>\n",
              "      <td>0.0</td>\n",
              "      <td>0</td>\n",
              "      <td>0</td>\n",
              "      <td>0</td>\n",
              "    </tr>\n",
              "    <tr>\n",
              "      <th>1</th>\n",
              "      <td>tt0000001</td>\n",
              "      <td>2</td>\n",
              "      <td>Carmencita</td>\n",
              "      <td>DE</td>\n",
              "      <td>NaN</td>\n",
              "      <td>NaN</td>\n",
              "      <td>literal title</td>\n",
              "      <td>0.0</td>\n",
              "      <td>0</td>\n",
              "      <td>0</td>\n",
              "      <td>0</td>\n",
              "    </tr>\n",
              "    <tr>\n",
              "      <th>2</th>\n",
              "      <td>tt0000001</td>\n",
              "      <td>3</td>\n",
              "      <td>Carmencita - spanyol tánc</td>\n",
              "      <td>HU</td>\n",
              "      <td>NaN</td>\n",
              "      <td>imdbDisplay</td>\n",
              "      <td>NaN</td>\n",
              "      <td>0.0</td>\n",
              "      <td>0</td>\n",
              "      <td>0</td>\n",
              "      <td>0</td>\n",
              "    </tr>\n",
              "    <tr>\n",
              "      <th>3</th>\n",
              "      <td>tt0000001</td>\n",
              "      <td>4</td>\n",
              "      <td>Καρμενσίτα</td>\n",
              "      <td>GR</td>\n",
              "      <td>NaN</td>\n",
              "      <td>imdbDisplay</td>\n",
              "      <td>NaN</td>\n",
              "      <td>0.0</td>\n",
              "      <td>0</td>\n",
              "      <td>0</td>\n",
              "      <td>0</td>\n",
              "    </tr>\n",
              "    <tr>\n",
              "      <th>4</th>\n",
              "      <td>tt0000001</td>\n",
              "      <td>5</td>\n",
              "      <td>Карменсита</td>\n",
              "      <td>RU</td>\n",
              "      <td>NaN</td>\n",
              "      <td>imdbDisplay</td>\n",
              "      <td>NaN</td>\n",
              "      <td>0.0</td>\n",
              "      <td>0</td>\n",
              "      <td>0</td>\n",
              "      <td>0</td>\n",
              "    </tr>\n",
              "  </tbody>\n",
              "</table>\n",
              "</div>"
            ],
            "text/plain": [
              "      tconst  ordering                      title region language  \\\n",
              "0  tt0000001         1                 Карменсіта     UA      NaN   \n",
              "1  tt0000001         2                 Carmencita     DE      NaN   \n",
              "2  tt0000001         3  Carmencita - spanyol tánc     HU      NaN   \n",
              "3  tt0000001         4                 Καρμενσίτα     GR      NaN   \n",
              "4  tt0000001         5                 Карменсита     RU      NaN   \n",
              "\n",
              "         types     attributes  isOriginalTitle  fr  us  gb  \n",
              "0  imdbDisplay            NaN              0.0   0   0   0  \n",
              "1          NaN  literal title              0.0   0   0   0  \n",
              "2  imdbDisplay            NaN              0.0   0   0   0  \n",
              "3  imdbDisplay            NaN              0.0   0   0   0  \n",
              "4  imdbDisplay            NaN              0.0   0   0   0  "
            ]
          },
          "execution_count": 42,
          "metadata": {},
          "output_type": "execute_result"
        }
      ],
      "source": [
        "data_title_akas.head() "
      ]
    },
    {
      "cell_type": "code",
      "execution_count": null,
      "metadata": {
        "id": "8XMI4jXW3Wfi",
        "outputId": "f809446e-ded8-401d-bcd8-d788c3db12ca"
      },
      "outputs": [
        {
          "data": {
            "text/html": [
              "<div>\n",
              "<style scoped>\n",
              "    .dataframe tbody tr th:only-of-type {\n",
              "        vertical-align: middle;\n",
              "    }\n",
              "\n",
              "    .dataframe tbody tr th {\n",
              "        vertical-align: top;\n",
              "    }\n",
              "\n",
              "    .dataframe thead th {\n",
              "        text-align: right;\n",
              "    }\n",
              "</style>\n",
              "<table border=\"1\" class=\"dataframe\">\n",
              "  <thead>\n",
              "    <tr style=\"text-align: right;\">\n",
              "      <th></th>\n",
              "      <th>tconst</th>\n",
              "      <th>title_fr</th>\n",
              "      <th>fr</th>\n",
              "    </tr>\n",
              "  </thead>\n",
              "  <tbody>\n",
              "    <tr>\n",
              "      <th>9</th>\n",
              "      <td>tt0000002</td>\n",
              "      <td>Le clown et ses chiens</td>\n",
              "      <td>1</td>\n",
              "    </tr>\n",
              "  </tbody>\n",
              "</table>\n",
              "</div>"
            ],
            "text/plain": [
              "      tconst                title_fr  fr\n",
              "9  tt0000002  Le clown et ses chiens   1"
            ]
          },
          "execution_count": 43,
          "metadata": {},
          "output_type": "execute_result"
        }
      ],
      "source": [
        "# Filtrage data_title_akas si le film existe en version fr == True :\n",
        "\n",
        "version_fr = data_title_akas[data_title_akas.fr == True]\n",
        "\n",
        "# Sélection de la colonne \"tconst\" pour merge et la colonne fr :\n",
        "\n",
        "version_fr = version_fr[[\"tconst\", \"title\", \"fr\"]]\n",
        "version_fr.rename(columns={\"title\": \"title_fr\"}, inplace=True)\n",
        "version_fr.head(1)"
      ]
    },
    {
      "cell_type": "code",
      "execution_count": null,
      "metadata": {
        "id": "LvKoN_SFF1J2",
        "outputId": "a4f95c3e-b95d-4137-bc35-4a441da5a344"
      },
      "outputs": [
        {
          "name": "stdout",
          "output_type": "stream",
          "text": [
            "\n",
            "Nombre de doublons : 10743\n"
          ]
        },
        {
          "data": {
            "text/html": [
              "<div>\n",
              "<style scoped>\n",
              "    .dataframe tbody tr th:only-of-type {\n",
              "        vertical-align: middle;\n",
              "    }\n",
              "\n",
              "    .dataframe tbody tr th {\n",
              "        vertical-align: top;\n",
              "    }\n",
              "\n",
              "    .dataframe thead th {\n",
              "        text-align: right;\n",
              "    }\n",
              "</style>\n",
              "<table border=\"1\" class=\"dataframe\">\n",
              "  <thead>\n",
              "    <tr style=\"text-align: right;\">\n",
              "      <th></th>\n",
              "      <th>tconst</th>\n",
              "      <th>total</th>\n",
              "    </tr>\n",
              "  </thead>\n",
              "  <tbody>\n",
              "    <tr>\n",
              "      <th>0</th>\n",
              "      <td>tt16421984</td>\n",
              "      <td>13</td>\n",
              "    </tr>\n",
              "    <tr>\n",
              "      <th>1</th>\n",
              "      <td>tt0072029</td>\n",
              "      <td>8</td>\n",
              "    </tr>\n",
              "  </tbody>\n",
              "</table>\n",
              "</div>"
            ],
            "text/plain": [
              "       tconst  total\n",
              "0  tt16421984     13\n",
              "1   tt0072029      8"
            ]
          },
          "execution_count": 44,
          "metadata": {},
          "output_type": "execute_result"
        }
      ],
      "source": [
        "# Vérification des doublons :\n",
        "\n",
        "doublons(version_fr, [\"tconst\"]).head(2)"
      ]
    },
    {
      "cell_type": "code",
      "execution_count": null,
      "metadata": {
        "id": "uhCcAwOWHZn8",
        "outputId": "584ed174-eccb-4ff4-aa8e-2ac93ecbe0ab"
      },
      "outputs": [
        {
          "data": {
            "text/html": [
              "<div>\n",
              "<style scoped>\n",
              "    .dataframe tbody tr th:only-of-type {\n",
              "        vertical-align: middle;\n",
              "    }\n",
              "\n",
              "    .dataframe tbody tr th {\n",
              "        vertical-align: top;\n",
              "    }\n",
              "\n",
              "    .dataframe thead th {\n",
              "        text-align: right;\n",
              "    }\n",
              "</style>\n",
              "<table border=\"1\" class=\"dataframe\">\n",
              "  <thead>\n",
              "    <tr style=\"text-align: right;\">\n",
              "      <th></th>\n",
              "      <th>tconst</th>\n",
              "      <th>title_fr</th>\n",
              "      <th>fr</th>\n",
              "    </tr>\n",
              "  </thead>\n",
              "  <tbody>\n",
              "    <tr>\n",
              "      <th>9</th>\n",
              "      <td>tt0000002</td>\n",
              "      <td>Le clown et ses chiens</td>\n",
              "      <td>1</td>\n",
              "    </tr>\n",
              "    <tr>\n",
              "      <th>23</th>\n",
              "      <td>tt0000003</td>\n",
              "      <td>Pauvre Pierrot</td>\n",
              "      <td>1</td>\n",
              "    </tr>\n",
              "    <tr>\n",
              "      <th>26</th>\n",
              "      <td>tt0000004</td>\n",
              "      <td>Un bon bock</td>\n",
              "      <td>1</td>\n",
              "    </tr>\n",
              "    <tr>\n",
              "      <th>73</th>\n",
              "      <td>tt0000010</td>\n",
              "      <td>La sortie des usines Lumière</td>\n",
              "      <td>1</td>\n",
              "    </tr>\n",
              "    <tr>\n",
              "      <th>78</th>\n",
              "      <td>tt0000010</td>\n",
              "      <td>La sortie des ouvriers de l'usine Lumière</td>\n",
              "      <td>1</td>\n",
              "    </tr>\n",
              "  </tbody>\n",
              "</table>\n",
              "</div>"
            ],
            "text/plain": [
              "       tconst                                   title_fr  fr\n",
              "9   tt0000002                     Le clown et ses chiens   1\n",
              "23  tt0000003                             Pauvre Pierrot   1\n",
              "26  tt0000004                                Un bon bock   1\n",
              "73  tt0000010               La sortie des usines Lumière   1\n",
              "78  tt0000010  La sortie des ouvriers de l'usine Lumière   1"
            ]
          },
          "execution_count": 45,
          "metadata": {},
          "output_type": "execute_result"
        }
      ],
      "source": [
        "# Plusieures traductions fr de titres, nous allons conserver le permier titre\n",
        "version_fr.head()"
      ]
    },
    {
      "cell_type": "code",
      "execution_count": null,
      "metadata": {
        "id": "0ULk5QaLHZn8"
      },
      "outputs": [],
      "source": [
        "version_fr.drop_duplicates(subset=\"tconst\", keep=\"first\", inplace=True)"
      ]
    },
    {
      "cell_type": "code",
      "execution_count": null,
      "metadata": {
        "id": "XRCaYtZMF1J2",
        "outputId": "4a2035fc-0fe3-4605-a71d-b835d63807a0"
      },
      "outputs": [
        {
          "data": {
            "text/html": [
              "<div>\n",
              "<style scoped>\n",
              "    .dataframe tbody tr th:only-of-type {\n",
              "        vertical-align: middle;\n",
              "    }\n",
              "\n",
              "    .dataframe tbody tr th {\n",
              "        vertical-align: top;\n",
              "    }\n",
              "\n",
              "    .dataframe thead th {\n",
              "        text-align: right;\n",
              "    }\n",
              "</style>\n",
              "<table border=\"1\" class=\"dataframe\">\n",
              "  <thead>\n",
              "    <tr style=\"text-align: right;\">\n",
              "      <th></th>\n",
              "      <th>tconst</th>\n",
              "      <th>us</th>\n",
              "    </tr>\n",
              "  </thead>\n",
              "  <tbody>\n",
              "    <tr>\n",
              "      <th>5</th>\n",
              "      <td>tt0000001</td>\n",
              "      <td>1</td>\n",
              "    </tr>\n",
              "  </tbody>\n",
              "</table>\n",
              "</div>"
            ],
            "text/plain": [
              "      tconst  us\n",
              "5  tt0000001   1"
            ]
          },
          "execution_count": 47,
          "metadata": {},
          "output_type": "execute_result"
        }
      ],
      "source": [
        "# Filtrage data_tite_akas si film existe en version us == True :\n",
        "\n",
        "version_us = data_title_akas[data_title_akas.us == 1]\n",
        "\n",
        "# Sélection de la colonne \"tconst\" et us pour merge :\n",
        "\n",
        "version_us = version_us[[\"tconst\", \"us\"]]\n",
        "version_us.head(1)"
      ]
    },
    {
      "cell_type": "code",
      "execution_count": null,
      "metadata": {
        "id": "tWX_b1hMF1J2",
        "outputId": "97f8e74a-6c9d-4c6a-cf1b-d61e2b2fad82"
      },
      "outputs": [
        {
          "data": {
            "text/html": [
              "<div>\n",
              "<style scoped>\n",
              "    .dataframe tbody tr th:only-of-type {\n",
              "        vertical-align: middle;\n",
              "    }\n",
              "\n",
              "    .dataframe tbody tr th {\n",
              "        vertical-align: top;\n",
              "    }\n",
              "\n",
              "    .dataframe thead th {\n",
              "        text-align: right;\n",
              "    }\n",
              "</style>\n",
              "<table border=\"1\" class=\"dataframe\">\n",
              "  <thead>\n",
              "    <tr style=\"text-align: right;\">\n",
              "      <th></th>\n",
              "      <th>tconst</th>\n",
              "      <th>gb</th>\n",
              "    </tr>\n",
              "  </thead>\n",
              "  <tbody>\n",
              "    <tr>\n",
              "      <th>22</th>\n",
              "      <td>tt0000003</td>\n",
              "      <td>1</td>\n",
              "    </tr>\n",
              "  </tbody>\n",
              "</table>\n",
              "</div>"
            ],
            "text/plain": [
              "       tconst  gb\n",
              "22  tt0000003   1"
            ]
          },
          "execution_count": 48,
          "metadata": {},
          "output_type": "execute_result"
        }
      ],
      "source": [
        "# Filtrage data_tite_akas si film existe en version gb == True :\n",
        "\n",
        "version_gb = data_title_akas[data_title_akas.gb == 1]\n",
        "\n",
        "# Sélection de la colonne \"tconst\" et gb pour merge :\n",
        "\n",
        "version_gb = version_gb[[\"tconst\", \"gb\"]]\n",
        "version_gb.head(1)"
      ]
    },
    {
      "cell_type": "code",
      "execution_count": null,
      "metadata": {
        "id": "7fHdO6zSF1J2"
      },
      "outputs": [],
      "source": [
        "# Suppression des doublons de chaque selection pour merge :\n",
        "\n",
        "version_fr.drop_duplicates(keep = \"first\", inplace = True)\n",
        "version_us.drop_duplicates(keep = \"first\", inplace = True)\n",
        "version_gb.drop_duplicates(keep = \"first\", inplace = True)"
      ]
    },
    {
      "cell_type": "code",
      "execution_count": null,
      "metadata": {
        "id": "Ee0cmKIQF1J2",
        "outputId": "b279b058-e22f-4810-b191-2c3d3022781b"
      },
      "outputs": [
        {
          "name": "stdout",
          "output_type": "stream",
          "text": [
            "\n",
            "Nombre de doublons : 0\n"
          ]
        },
        {
          "data": {
            "text/html": [
              "<div>\n",
              "<style scoped>\n",
              "    .dataframe tbody tr th:only-of-type {\n",
              "        vertical-align: middle;\n",
              "    }\n",
              "\n",
              "    .dataframe tbody tr th {\n",
              "        vertical-align: top;\n",
              "    }\n",
              "\n",
              "    .dataframe thead th {\n",
              "        text-align: right;\n",
              "    }\n",
              "</style>\n",
              "<table border=\"1\" class=\"dataframe\">\n",
              "  <thead>\n",
              "    <tr style=\"text-align: right;\">\n",
              "      <th></th>\n",
              "      <th>tconst</th>\n",
              "      <th>total</th>\n",
              "    </tr>\n",
              "  </thead>\n",
              "  <tbody>\n",
              "  </tbody>\n",
              "</table>\n",
              "</div>"
            ],
            "text/plain": [
              "Empty DataFrame\n",
              "Columns: [tconst, total]\n",
              "Index: []"
            ]
          },
          "execution_count": 50,
          "metadata": {},
          "output_type": "execute_result"
        }
      ],
      "source": [
        "# Check des doublons :\n",
        "\n",
        "doublons(version_gb, [\"tconst\"])"
      ]
    },
    {
      "cell_type": "code",
      "execution_count": null,
      "metadata": {
        "id": "xRjYGO-rF1J3",
        "outputId": "9f09f4e4-823f-475d-a78c-c7a54918767a"
      },
      "outputs": [
        {
          "name": "stdout",
          "output_type": "stream",
          "text": [
            "Nombre de lignes : 30387217\n",
            "Nombre de colonnes : 11\n",
            "\n",
            "<class 'pandas.core.frame.DataFrame'>\n",
            "RangeIndex: 30387217 entries, 0 to 30387216\n",
            "Data columns (total 11 columns):\n",
            " #   Column           Dtype  \n",
            "---  ------           -----  \n",
            " 0   tconst           object \n",
            " 1   ordering         int64  \n",
            " 2   title            object \n",
            " 3   region           object \n",
            " 4   language         object \n",
            " 5   types            object \n",
            " 6   attributes       object \n",
            " 7   isOriginalTitle  float64\n",
            " 8   fr               int32  \n",
            " 9   us               int32  \n",
            " 10  gb               int32  \n",
            "dtypes: float64(1), int32(3), int64(1), object(6)\n",
            "memory usage: 2.2+ GB\n"
          ]
        },
        {
          "data": {
            "text/plain": [
              "(None,\n",
              "            ordering  isOriginalTitle            fr            us            gb\n",
              " count  3.038722e+07     3.038503e+07  3.038722e+07  3.038722e+07  3.038722e+07\n",
              " mean   4.017379e+00     5.991756e-02  1.185962e-01  4.228811e-02  1.316494e-02\n",
              " std    3.454935e+00     2.373341e-01  3.233127e-01  2.012457e-01  1.139808e-01\n",
              " min    1.000000e+00     0.000000e+00  0.000000e+00  0.000000e+00  0.000000e+00\n",
              " 25%    2.000000e+00     0.000000e+00  0.000000e+00  0.000000e+00  0.000000e+00\n",
              " 50%    4.000000e+00     0.000000e+00  0.000000e+00  0.000000e+00  0.000000e+00\n",
              " 75%    6.000000e+00     0.000000e+00  0.000000e+00  0.000000e+00  0.000000e+00\n",
              " max    1.760000e+02     1.000000e+00  1.000000e+00  1.000000e+00  1.000000e+00)"
            ]
          },
          "execution_count": 51,
          "metadata": {},
          "output_type": "execute_result"
        }
      ],
      "source": [
        "info_df(data_title_akas)"
      ]
    },
    {
      "cell_type": "code",
      "execution_count": null,
      "metadata": {
        "id": "Ee0IhNqjUsYP",
        "outputId": "e6c39a6c-2c42-4c83-b54d-1087b24b7663"
      },
      "outputs": [
        {
          "data": {
            "text/html": [
              "<div>\n",
              "<style scoped>\n",
              "    .dataframe tbody tr th:only-of-type {\n",
              "        vertical-align: middle;\n",
              "    }\n",
              "\n",
              "    .dataframe tbody tr th {\n",
              "        vertical-align: top;\n",
              "    }\n",
              "\n",
              "    .dataframe thead th {\n",
              "        text-align: right;\n",
              "    }\n",
              "</style>\n",
              "<table border=\"1\" class=\"dataframe\">\n",
              "  <thead>\n",
              "    <tr style=\"text-align: right;\">\n",
              "      <th></th>\n",
              "      <th>language</th>\n",
              "      <th>total</th>\n",
              "    </tr>\n",
              "  </thead>\n",
              "  <tbody>\n",
              "    <tr>\n",
              "      <th>0</th>\n",
              "      <td>ja</td>\n",
              "      <td>3476107</td>\n",
              "    </tr>\n",
              "    <tr>\n",
              "      <th>1</th>\n",
              "      <td>fr</td>\n",
              "      <td>3443567</td>\n",
              "    </tr>\n",
              "    <tr>\n",
              "      <th>2</th>\n",
              "      <td>hi</td>\n",
              "      <td>3411462</td>\n",
              "    </tr>\n",
              "    <tr>\n",
              "      <th>3</th>\n",
              "      <td>es</td>\n",
              "      <td>3396232</td>\n",
              "    </tr>\n",
              "    <tr>\n",
              "      <th>4</th>\n",
              "      <td>de</td>\n",
              "      <td>3395637</td>\n",
              "    </tr>\n",
              "    <tr>\n",
              "      <th>5</th>\n",
              "      <td>it</td>\n",
              "      <td>3394680</td>\n",
              "    </tr>\n",
              "    <tr>\n",
              "      <th>6</th>\n",
              "      <td>pt</td>\n",
              "      <td>3394516</td>\n",
              "    </tr>\n",
              "    <tr>\n",
              "      <th>7</th>\n",
              "      <td>en</td>\n",
              "      <td>309257</td>\n",
              "    </tr>\n",
              "    <tr>\n",
              "      <th>8</th>\n",
              "      <td>ru</td>\n",
              "      <td>30746</td>\n",
              "    </tr>\n",
              "    <tr>\n",
              "      <th>9</th>\n",
              "      <td>tr</td>\n",
              "      <td>28382</td>\n",
              "    </tr>\n",
              "    <tr>\n",
              "      <th>10</th>\n",
              "      <td>bg</td>\n",
              "      <td>25439</td>\n",
              "    </tr>\n",
              "    <tr>\n",
              "      <th>11</th>\n",
              "      <td>cmn</td>\n",
              "      <td>17262</td>\n",
              "    </tr>\n",
              "    <tr>\n",
              "      <th>12</th>\n",
              "      <td>sv</td>\n",
              "      <td>9285</td>\n",
              "    </tr>\n",
              "    <tr>\n",
              "      <th>13</th>\n",
              "      <td>he</td>\n",
              "      <td>7575</td>\n",
              "    </tr>\n",
              "    <tr>\n",
              "      <th>14</th>\n",
              "      <td>qbn</td>\n",
              "      <td>5865</td>\n",
              "    </tr>\n",
              "    <tr>\n",
              "      <th>15</th>\n",
              "      <td>yue</td>\n",
              "      <td>5542</td>\n",
              "    </tr>\n",
              "    <tr>\n",
              "      <th>16</th>\n",
              "      <td>sr</td>\n",
              "      <td>4435</td>\n",
              "    </tr>\n",
              "    <tr>\n",
              "      <th>17</th>\n",
              "      <td>fa</td>\n",
              "      <td>3009</td>\n",
              "    </tr>\n",
              "    <tr>\n",
              "      <th>18</th>\n",
              "      <td>ca</td>\n",
              "      <td>2602</td>\n",
              "    </tr>\n",
              "    <tr>\n",
              "      <th>19</th>\n",
              "      <td>hr</td>\n",
              "      <td>1595</td>\n",
              "    </tr>\n",
              "  </tbody>\n",
              "</table>\n",
              "</div>"
            ],
            "text/plain": [
              "   language    total\n",
              "0        ja  3476107\n",
              "1        fr  3443567\n",
              "2        hi  3411462\n",
              "3        es  3396232\n",
              "4        de  3395637\n",
              "5        it  3394680\n",
              "6        pt  3394516\n",
              "7        en   309257\n",
              "8        ru    30746\n",
              "9        tr    28382\n",
              "10       bg    25439\n",
              "11      cmn    17262\n",
              "12       sv     9285\n",
              "13       he     7575\n",
              "14      qbn     5865\n",
              "15      yue     5542\n",
              "16       sr     4435\n",
              "17       fa     3009\n",
              "18       ca     2602\n",
              "19       hr     1595"
            ]
          },
          "execution_count": 52,
          "metadata": {},
          "output_type": "execute_result"
        }
      ],
      "source": [
        "# Analyse de la colonne language\n",
        "check_lang = data_title_akas.value_counts([\"language\"]).to_frame(\"total\").reset_index()\n",
        "check_lang.head(20)"
      ]
    },
    {
      "cell_type": "code",
      "execution_count": null,
      "metadata": {
        "id": "8Cgo_tU6UsYQ",
        "outputId": "ca211137-c341-497f-a4b6-85ccc631f2ae"
      },
      "outputs": [
        {
          "data": {
            "text/html": [
              "<div>\n",
              "<style scoped>\n",
              "    .dataframe tbody tr th:only-of-type {\n",
              "        vertical-align: middle;\n",
              "    }\n",
              "\n",
              "    .dataframe tbody tr th {\n",
              "        vertical-align: top;\n",
              "    }\n",
              "\n",
              "    .dataframe thead th {\n",
              "        text-align: right;\n",
              "    }\n",
              "</style>\n",
              "<table border=\"1\" class=\"dataframe\">\n",
              "  <thead>\n",
              "    <tr style=\"text-align: right;\">\n",
              "      <th></th>\n",
              "      <th>types</th>\n",
              "      <th>total</th>\n",
              "    </tr>\n",
              "  </thead>\n",
              "  <tbody>\n",
              "    <tr>\n",
              "      <th>0</th>\n",
              "      <td>imdbDisplay</td>\n",
              "      <td>3106989</td>\n",
              "    </tr>\n",
              "    <tr>\n",
              "      <th>1</th>\n",
              "      <td>original</td>\n",
              "      <td>1820598</td>\n",
              "    </tr>\n",
              "    <tr>\n",
              "      <th>2</th>\n",
              "      <td>alternative</td>\n",
              "      <td>91397</td>\n",
              "    </tr>\n",
              "    <tr>\n",
              "      <th>3</th>\n",
              "      <td>working</td>\n",
              "      <td>50484</td>\n",
              "    </tr>\n",
              "    <tr>\n",
              "      <th>4</th>\n",
              "      <td>dvd</td>\n",
              "      <td>21730</td>\n",
              "    </tr>\n",
              "    <tr>\n",
              "      <th>5</th>\n",
              "      <td>video</td>\n",
              "      <td>20044</td>\n",
              "    </tr>\n",
              "    <tr>\n",
              "      <th>6</th>\n",
              "      <td>tv</td>\n",
              "      <td>18010</td>\n",
              "    </tr>\n",
              "    <tr>\n",
              "      <th>7</th>\n",
              "      <td>festival</td>\n",
              "      <td>17018</td>\n",
              "    </tr>\n",
              "    <tr>\n",
              "      <th>8</th>\n",
              "      <td>dvd\u0002imdbDisplay</td>\n",
              "      <td>243</td>\n",
              "    </tr>\n",
              "    <tr>\n",
              "      <th>9</th>\n",
              "      <td>imdbDisplay\u0002tv</td>\n",
              "      <td>75</td>\n",
              "    </tr>\n",
              "  </tbody>\n",
              "</table>\n",
              "</div>"
            ],
            "text/plain": [
              "             types    total\n",
              "0      imdbDisplay  3106989\n",
              "1         original  1820598\n",
              "2      alternative    91397\n",
              "3          working    50484\n",
              "4              dvd    21730\n",
              "5            video    20044\n",
              "6               tv    18010\n",
              "7         festival    17018\n",
              "8  dvd\u0002imdbDisplay      243\n",
              "9   imdbDisplay\u0002tv       75"
            ]
          },
          "execution_count": 53,
          "metadata": {},
          "output_type": "execute_result"
        }
      ],
      "source": [
        "# Ananlyse de la colonne types\n",
        "check_types = data_title_akas.value_counts([\"types\"]).to_frame(\"total\").reset_index()\n",
        "check_types.head(10)"
      ]
    },
    {
      "cell_type": "code",
      "execution_count": null,
      "metadata": {
        "id": "hXSOa5m2UsYQ",
        "outputId": "0d105999-ebd4-40e0-9777-61fca1f71934"
      },
      "outputs": [
        {
          "name": "stderr",
          "output_type": "stream",
          "text": [
            "C:\\Users\\maell\\anaconda3\\lib\\site-packages\\matplotlib\\backends\\backend_agg.py:238: RuntimeWarning: Glyph 2 missing from current font.\n",
            "  font.set_text(s, 0.0, flags=flags)\n",
            "C:\\Users\\maell\\anaconda3\\lib\\site-packages\\matplotlib\\backends\\backend_agg.py:201: RuntimeWarning: Glyph 2 missing from current font.\n",
            "  font.set_text(s, 0, flags=flags)\n"
          ]
        },
        {
          "data": {
            "image/png": "[encoded data removed]",
            "text/plain": [
              "<Figure size 864x504 with 1 Axes>"
            ]
          },
          "metadata": {
            "needs_background": "light"
          },
          "output_type": "display_data"
        }
      ],
      "source": [
        "# Visualisation\n",
        "sns.barplot(y=check_types[\"types\"].head(10), \n",
        "            x=check_types[\"total\"].head(10), \n",
        "            color=\"royalblue\").set_title(\"Les 10 supports ayant le plus de titres de films traduits\")\n",
        "plt.xticks(rotation=70)\n",
        "plt.show()"
      ]
    },
    {
      "cell_type": "markdown",
      "metadata": {
        "id": "x_QWF9fDUsYS"
      },
      "source": [
        "### Conclusion Table 2 : title.akas.tsv.gz - Titres des films\n",
        "Après exploration et analyse de la table title Akas, nous avons décidé d'exclure les colonnes suivantes dont le nombre de valeurs nulles est important :\n",
        "\n",
        "-  **types**              83 %\n",
        "-  **attributes**         99 %\n",
        "\n",
        "D'autre part, les colonnes **language**, **types**, **title** et **isOriginalTitle** ne seront pas utiles à notre modèle car nous ne sélectionnons pas les films sur leur langue originale ni sur le type de support de visionnage.\n",
        "\n",
        "On ne conservera pas non plus la colonne **ordering**, car elle indique seulement le numéro de ligne d'un tconst.\n",
        "\n",
        "Nous conservons la colonne **region** afin de cibler les films ayant été traduits en Français et en Anglais. L'objectif est également d'ajouter une colonne nombre de régions, afin de connaître le nombre de traduction par films.\n",
        "\n",
        "La colonne tconst / **titleId** serviva de clé de jointure avec le df final.\n",
        "\n",
        "---- > Merge final à faire avec les df version_fr, version_gb, version_us, compte_region"
      ]
    },
    {
      "cell_type": "code",
      "execution_count": null,
      "metadata": {
        "id": "qny7HYlyHZn-"
      },
      "outputs": [],
      "source": [
        "# Sélection des colonnes finales à joindre au df final :\n",
        "data_title_akas = data_title_akas[['tconst', 'region', 'fr', 'us', 'gb']]"
      ]
    },
    {
      "cell_type": "code",
      "execution_count": null,
      "metadata": {
        "id": "-cTy3MSoHZn-"
      },
      "outputs": [],
      "source": [
        "# Comptage des régions par film avec \"groupby\" sera à joindre au df final :\n",
        "\n",
        "compte_region = data_title_akas.groupby([\"tconst\"])[\"region\"].size().reset_index().rename(columns = {\"region\" : \"nb_region\"})"
      ]
    },
    {
      "cell_type": "code",
      "execution_count": null,
      "metadata": {
        "id": "dZQ5WccrHZn-",
        "outputId": "4a383c3a-5c3d-46ad-c896-373e7b5fa649"
      },
      "outputs": [
        {
          "data": {
            "text/html": [
              "<div>\n",
              "<style scoped>\n",
              "    .dataframe tbody tr th:only-of-type {\n",
              "        vertical-align: middle;\n",
              "    }\n",
              "\n",
              "    .dataframe tbody tr th {\n",
              "        vertical-align: top;\n",
              "    }\n",
              "\n",
              "    .dataframe thead th {\n",
              "        text-align: right;\n",
              "    }\n",
              "</style>\n",
              "<table border=\"1\" class=\"dataframe\">\n",
              "  <thead>\n",
              "    <tr style=\"text-align: right;\">\n",
              "      <th></th>\n",
              "      <th>tconst</th>\n",
              "      <th>nb_region</th>\n",
              "    </tr>\n",
              "  </thead>\n",
              "  <tbody>\n",
              "    <tr>\n",
              "      <th>0</th>\n",
              "      <td>tt0000001</td>\n",
              "      <td>8</td>\n",
              "    </tr>\n",
              "  </tbody>\n",
              "</table>\n",
              "</div>"
            ],
            "text/plain": [
              "      tconst  nb_region\n",
              "0  tt0000001          8"
            ]
          },
          "execution_count": 57,
          "metadata": {},
          "output_type": "execute_result"
        }
      ],
      "source": [
        "compte_region.head(1)"
      ]
    },
    {
      "cell_type": "markdown",
      "metadata": {
        "id": "FlKLVXhQVWTc"
      },
      "source": [
        "# Table 3 : title.basics.tsv.gz - Titres des films et séries"
      ]
    },
    {
      "cell_type": "markdown",
      "metadata": {
        "id": "4Jtc8l_EYvM5"
      },
      "source": [
        "Elle donne les infos suivantes sur les titres :\n",
        "\n",
        "- tconst (string) = identificateur unique alphanumérique du titre\n",
        "- titleType (string) = le type/format du titre (par exemple, film, court-métrage, série télévisée, tvépisode, vidéo, etc.)\n",
        "- primaryTitle (string) = le titre le plus populaire / le titre utilisé par les cinéastes sur le matériel promotionnel au moment de la sortie\n",
        "- originalTitle (string) = titre original, dans la langue d’origine\n",
        "- isAdult (booléen) =  0 : films tous publics / 1 : film pour adultes\n",
        "- startYear (YYYY) = représente l’année de sortie d’un titre/film. Dans le cas des séries télévisées, c’est l’année de début de la série\n",
        "- endYear (AAAA) = fin d’année de la série télévisée. '\\N’ pour tous les autres types de titres\n",
        "- runtimeMinutes = exécution principale du titre, en minutes\n",
        "- genres (string array) = inclut jusqu’à trois genres associés au titre."
      ]
    },
    {
      "cell_type": "markdown",
      "metadata": {
        "id": "BCR9Hy6odg0J"
      },
      "source": [
        "### Objectifs  :\n",
        "*  Durée des films, détection des outliers\n",
        "*  Durée et date de sortie des films\n",
        "*  Durée de films par catégorie/années\n",
        "*  Nombre de films par type\n",
        "*  Nombre de film par genre"
      ]
    },
    {
      "cell_type": "code",
      "execution_count": null,
      "metadata": {
        "colab": {
          "base_uri": "https://localhost:8080/",
          "height": 112
        },
        "id": "0_WJYHINFcdw",
        "outputId": "8acdf0c3-4877-402e-8576-8dfae12a48cf"
      },
      "outputs": [
        {
          "data": {
            "text/html": [
              "<div>\n",
              "<style scoped>\n",
              "    .dataframe tbody tr th:only-of-type {\n",
              "        vertical-align: middle;\n",
              "    }\n",
              "\n",
              "    .dataframe tbody tr th {\n",
              "        vertical-align: top;\n",
              "    }\n",
              "\n",
              "    .dataframe thead th {\n",
              "        text-align: right;\n",
              "    }\n",
              "</style>\n",
              "<table border=\"1\" class=\"dataframe\">\n",
              "  <thead>\n",
              "    <tr style=\"text-align: right;\">\n",
              "      <th></th>\n",
              "      <th>tconst</th>\n",
              "      <th>titleType</th>\n",
              "      <th>primaryTitle</th>\n",
              "      <th>originalTitle</th>\n",
              "      <th>isAdult</th>\n",
              "      <th>startYear</th>\n",
              "      <th>endYear</th>\n",
              "      <th>runtimeMinutes</th>\n",
              "      <th>genres</th>\n",
              "    </tr>\n",
              "  </thead>\n",
              "  <tbody>\n",
              "    <tr>\n",
              "      <th>0</th>\n",
              "      <td>tt0000001</td>\n",
              "      <td>short</td>\n",
              "      <td>Carmencita</td>\n",
              "      <td>Carmencita</td>\n",
              "      <td>0.0</td>\n",
              "      <td>1894.0</td>\n",
              "      <td>NaN</td>\n",
              "      <td>1</td>\n",
              "      <td>Documentary,Short</td>\n",
              "    </tr>\n",
              "    <tr>\n",
              "      <th>1</th>\n",
              "      <td>tt0000002</td>\n",
              "      <td>short</td>\n",
              "      <td>Le clown et ses chiens</td>\n",
              "      <td>Le clown et ses chiens</td>\n",
              "      <td>0.0</td>\n",
              "      <td>1892.0</td>\n",
              "      <td>NaN</td>\n",
              "      <td>5</td>\n",
              "      <td>Animation,Short</td>\n",
              "    </tr>\n",
              "  </tbody>\n",
              "</table>\n",
              "</div>"
            ],
            "text/plain": [
              "      tconst titleType            primaryTitle           originalTitle  \\\n",
              "0  tt0000001     short              Carmencita              Carmencita   \n",
              "1  tt0000002     short  Le clown et ses chiens  Le clown et ses chiens   \n",
              "\n",
              "   isAdult  startYear  endYear runtimeMinutes             genres  \n",
              "0      0.0     1894.0      NaN              1  Documentary,Short  \n",
              "1      0.0     1892.0      NaN              5    Animation,Short  "
            ]
          },
          "execution_count": 58,
          "metadata": {},
          "output_type": "execute_result"
        }
      ],
      "source": [
        "data_title_basics.head(2)"
      ]
    },
    {
      "cell_type": "code",
      "execution_count": null,
      "metadata": {
        "colab": {
          "base_uri": "https://localhost:8080/"
        },
        "id": "Yo-vYQLzY4-i",
        "outputId": "3df3c273-f9a3-45a1-f239-3b696fee11b3"
      },
      "outputs": [
        {
          "name": "stdout",
          "output_type": "stream",
          "text": [
            "Nombre de lignes : 8555437\n",
            "Nombre de colonnes : 9\n",
            "\n",
            "<class 'pandas.core.frame.DataFrame'>\n",
            "RangeIndex: 8555437 entries, 0 to 8555436\n",
            "Data columns (total 9 columns):\n",
            " #   Column          Dtype  \n",
            "---  ------          -----  \n",
            " 0   tconst          object \n",
            " 1   titleType       object \n",
            " 2   primaryTitle    object \n",
            " 3   originalTitle   object \n",
            " 4   isAdult         float64\n",
            " 5   startYear       float64\n",
            " 6   endYear         float64\n",
            " 7   runtimeMinutes  object \n",
            " 8   genres          object \n",
            "dtypes: float64(3), object(6)\n",
            "memory usage: 587.5+ MB\n"
          ]
        },
        {
          "data": {
            "text/plain": [
              "(None,\n",
              "             isAdult     startYear      endYear\n",
              " count  8.555436e+06  7.474472e+06  85622.00000\n",
              " mean   3.293064e-02  2.003890e+03   2004.30978\n",
              " std    2.071522e+00  2.042341e+01     16.71908\n",
              " min    0.000000e+00  1.874000e+03   1925.00000\n",
              " 25%    0.000000e+00  2.000000e+03   1996.00000\n",
              " 50%    0.000000e+00  2.011000e+03   2011.00000\n",
              " 75%    0.000000e+00  2.017000e+03   2017.00000\n",
              " max    2.020000e+03  2.028000e+03   2030.00000)"
            ]
          },
          "execution_count": 59,
          "metadata": {},
          "output_type": "execute_result"
        }
      ],
      "source": [
        "info_df(data_title_basics)"
      ]
    },
    {
      "cell_type": "code",
      "execution_count": null,
      "metadata": {
        "colab": {
          "base_uri": "https://localhost:8080/"
        },
        "id": "eZUgsZl1Zd8u",
        "outputId": "975146fb-1eb6-408f-b7b2-7b7d939d96ba"
      },
      "outputs": [
        {
          "name": "stdout",
          "output_type": "stream",
          "text": [
            "\n",
            "Nombre total de valeurs nulles : \n",
            "16174719\n",
            "\n",
            "Nombre de valeurs nulles par colonnes :\n",
            "\n",
            "tconst                  0\n",
            "titleType               0\n",
            "primaryTitle            9\n",
            "originalTitle           9\n",
            "isAdult                 1\n",
            "startYear         1080965\n",
            "endYear           8469815\n",
            "runtimeMinutes    6227357\n",
            "genres             396563\n",
            "dtype: int64\n"
          ]
        }
      ],
      "source": [
        "info_na(data_title_basics)"
      ]
    },
    {
      "cell_type": "code",
      "execution_count": null,
      "metadata": {
        "colab": {
          "base_uri": "https://localhost:8080/"
        },
        "id": "3SaQMPmqfqJG",
        "outputId": "8e33257e-21db-4c29-e8f7-5ec7253fcf24"
      },
      "outputs": [
        {
          "name": "stdout",
          "output_type": "stream",
          "text": [
            "tt0000001\n",
            "tt9916880\n"
          ]
        }
      ],
      "source": [
        "#Colonne \"tconst\"\n",
        "print(data_title_basics[\"tconst\"].min())\n",
        "print(data_title_basics[\"tconst\"].max())"
      ]
    },
    {
      "cell_type": "code",
      "execution_count": null,
      "metadata": {
        "colab": {
          "base_uri": "https://localhost:8080/"
        },
        "id": "xONF-iJIc-Yb",
        "outputId": "957c60cb-92d8-40e8-f30e-f42e0a34fa9d"
      },
      "outputs": [
        {
          "data": {
            "text/plain": [
              "0"
            ]
          },
          "execution_count": 62,
          "metadata": {},
          "output_type": "execute_result"
        }
      ],
      "source": [
        "data_title_basics[\"tconst\"].duplicated().sum() # Comme vu dans le describe, il n'y a pas de doublons."
      ]
    },
    {
      "cell_type": "markdown",
      "metadata": {
        "id": "uwJ-ohHwAQ7F"
      },
      "source": [
        "La colonne \"tconst\" ne nécessite pas de nettoyage à ce stade. On inclura la totalité de cette colonne dans notre sélection. Elle nous servira de clé de jointure."
      ]
    },
    {
      "cell_type": "code",
      "execution_count": null,
      "metadata": {
        "colab": {
          "base_uri": "https://localhost:8080/"
        },
        "id": "6eYJAzfhr2jK",
        "outputId": "a89c3ec8-cf6b-4563-b491-e2d906113703"
      },
      "outputs": [
        {
          "data": {
            "text/plain": [
              "array(['short', 'movie', 'tvEpisode', 'tvSeries', 'tvShort', 'tvMovie',\n",
              "       'tvMiniSeries', 'tvSpecial', 'video', 'videoGame', 'tvPilot'],\n",
              "      dtype=object)"
            ]
          },
          "execution_count": 63,
          "metadata": {},
          "output_type": "execute_result"
        }
      ],
      "source": [
        "#Colonne \"titleType\"\n",
        "# Visualisation des 11 types existants\n",
        "types = data_title_basics['titleType'].unique()\n",
        "types"
      ]
    },
    {
      "cell_type": "code",
      "execution_count": null,
      "metadata": {
        "colab": {
          "base_uri": "https://localhost:8080/",
          "height": 394
        },
        "id": "9Sk5C4YYytkY",
        "outputId": "00e6b203-e2f8-4dc1-fad5-d8b6c872bc5f"
      },
      "outputs": [
        {
          "data": {
            "text/html": [
              "<div>\n",
              "<style scoped>\n",
              "    .dataframe tbody tr th:only-of-type {\n",
              "        vertical-align: middle;\n",
              "    }\n",
              "\n",
              "    .dataframe tbody tr th {\n",
              "        vertical-align: top;\n",
              "    }\n",
              "\n",
              "    .dataframe thead th {\n",
              "        text-align: right;\n",
              "    }\n",
              "</style>\n",
              "<table border=\"1\" class=\"dataframe\">\n",
              "  <thead>\n",
              "    <tr style=\"text-align: right;\">\n",
              "      <th></th>\n",
              "      <th>index</th>\n",
              "      <th>titleType</th>\n",
              "    </tr>\n",
              "  </thead>\n",
              "  <tbody>\n",
              "    <tr>\n",
              "      <th>0</th>\n",
              "      <td>tvEpisode</td>\n",
              "      <td>74.62</td>\n",
              "    </tr>\n",
              "    <tr>\n",
              "      <th>1</th>\n",
              "      <td>short</td>\n",
              "      <td>9.91</td>\n",
              "    </tr>\n",
              "    <tr>\n",
              "      <th>2</th>\n",
              "      <td>movie</td>\n",
              "      <td>6.98</td>\n",
              "    </tr>\n",
              "    <tr>\n",
              "      <th>3</th>\n",
              "      <td>video</td>\n",
              "      <td>2.99</td>\n",
              "    </tr>\n",
              "    <tr>\n",
              "      <th>4</th>\n",
              "      <td>tvSeries</td>\n",
              "      <td>2.55</td>\n",
              "    </tr>\n",
              "    <tr>\n",
              "      <th>5</th>\n",
              "      <td>tvMovie</td>\n",
              "      <td>1.57</td>\n",
              "    </tr>\n",
              "    <tr>\n",
              "      <th>6</th>\n",
              "      <td>tvMiniSeries</td>\n",
              "      <td>0.48</td>\n",
              "    </tr>\n",
              "    <tr>\n",
              "      <th>7</th>\n",
              "      <td>tvSpecial</td>\n",
              "      <td>0.41</td>\n",
              "    </tr>\n",
              "    <tr>\n",
              "      <th>8</th>\n",
              "      <td>videoGame</td>\n",
              "      <td>0.35</td>\n",
              "    </tr>\n",
              "    <tr>\n",
              "      <th>9</th>\n",
              "      <td>tvShort</td>\n",
              "      <td>0.12</td>\n",
              "    </tr>\n",
              "    <tr>\n",
              "      <th>10</th>\n",
              "      <td>tvPilot</td>\n",
              "      <td>0.00</td>\n",
              "    </tr>\n",
              "  </tbody>\n",
              "</table>\n",
              "</div>"
            ],
            "text/plain": [
              "           index  titleType\n",
              "0      tvEpisode      74.62\n",
              "1          short       9.91\n",
              "2          movie       6.98\n",
              "3          video       2.99\n",
              "4       tvSeries       2.55\n",
              "5        tvMovie       1.57\n",
              "6   tvMiniSeries       0.48\n",
              "7      tvSpecial       0.41\n",
              "8      videoGame       0.35\n",
              "9        tvShort       0.12\n",
              "10       tvPilot       0.00"
            ]
          },
          "execution_count": 64,
          "metadata": {},
          "output_type": "execute_result"
        }
      ],
      "source": [
        "# Pourcentage de films par types :\n",
        "\n",
        "pourcentage_film_par_type = round((data_title_basics[\"titleType\"].value_counts(normalize = True)* 100), 2)\n",
        "\n",
        "data_pourcentage_film_par_type = pd.DataFrame(pourcentage_film_par_type).reset_index() # Création d'un df avec le calcul du pourcentage par film\n",
        "data_pourcentage_film_par_type"
      ]
    },
    {
      "cell_type": "code",
      "execution_count": null,
      "metadata": {
        "id": "di7mMdGxbJRX",
        "outputId": "6b7fe162-0bf5-4693-f203-416ab37f5c52"
      },
      "outputs": [
        {
          "data": {
            "image/png": "[encoded data removed]",
            "text/plain": [
              "<Figure size 864x432 with 1 Axes>"
            ]
          },
          "metadata": {
            "needs_background": "light"
          },
          "output_type": "display_data"
        }
      ],
      "source": [
        "#graphique\n",
        "sns.catplot(data=data_title_basics,\n",
        "            x=\"titleType\",  \n",
        "            kind=\"count\",\n",
        "            height=6,\n",
        "            aspect=2,\n",
        "            legend=False,\n",
        "            ci=None,\n",
        "            color=\"royalblue\"\n",
        "           ).set(title='Nombre de films par genres, toutes catégories',\n",
        "                 ylabel=\"Nb films 1e6\",\n",
        "                 xlabel=\"Genre principal\"\n",
        "                )\n",
        "plt.xticks(rotation=70)\n",
        "plt.tight_layout()\n"
      ]
    },
    {
      "cell_type": "markdown",
      "metadata": {
        "id": "268g2nJObAq_"
      },
      "source": [
        "On ne gardera que le type \"Movie\" car c'est le plus cohérent pour le cinéma."
      ]
    },
    {
      "cell_type": "markdown",
      "metadata": {
        "id": "jbDPvtLtbbDH"
      },
      "source": [
        "On ne conservera pas la colonne primaryTitle dans notre sélection, car on utilisera le titre français et original."
      ]
    },
    {
      "cell_type": "code",
      "execution_count": null,
      "metadata": {
        "colab": {
          "base_uri": "https://localhost:8080/"
        },
        "id": "O_IyARS5b8dC",
        "outputId": "cf18d8b0-7763-4302-8e2a-b1cb6f856a36"
      },
      "outputs": [
        {
          "name": "stdout",
          "output_type": "stream",
          "text": [
            "Le pourcentage de doublons est de : 53.13 %.\n"
          ]
        }
      ],
      "source": [
        "#Colonne #originalTitle (string) :\n",
        "#Pourcentage de doublons :\n",
        "\n",
        "pourcentage_doublon_originalTitle = round(((data_title_basics[\"originalTitle\"].duplicated().sum()) / len(data_title_basics) * 100), 2)\n",
        "print(f\"Le pourcentage de doublons est de :\", pourcentage_doublon_originalTitle,\"%.\")\n"
      ]
    },
    {
      "cell_type": "code",
      "execution_count": null,
      "metadata": {
        "colab": {
          "base_uri": "https://localhost:8080/"
        },
        "id": "aeE-KTndmZ_j",
        "outputId": "6ccd8304-a624-4f74-a175-7a04d340c707"
      },
      "outputs": [
        {
          "name": "stdout",
          "output_type": "stream",
          "text": [
            "Le pourcentage de NaN est de : 0.0001 %.\n"
          ]
        }
      ],
      "source": [
        "#Colonne #originalTitle (string) :\n",
        "#Pourcentage de NaN :\n",
        "\n",
        "pourcentage_nan_originalTitle = round(((data_title_basics[\"originalTitle\"].isna().sum()) / len(data_title_basics) * 100), 4)\n",
        "print(f\"Le pourcentage de NaN est de :\", pourcentage_nan_originalTitle,\"%.\")"
      ]
    },
    {
      "cell_type": "code",
      "execution_count": null,
      "metadata": {
        "colab": {
          "base_uri": "https://localhost:8080/",
          "height": 300
        },
        "id": "_yLb-yGeh9yK",
        "outputId": "872dd224-0020-4143-c410-ff04e8b5a761"
      },
      "outputs": [
        {
          "data": {
            "text/html": [
              "<div>\n",
              "<style scoped>\n",
              "    .dataframe tbody tr th:only-of-type {\n",
              "        vertical-align: middle;\n",
              "    }\n",
              "\n",
              "    .dataframe tbody tr th {\n",
              "        vertical-align: top;\n",
              "    }\n",
              "\n",
              "    .dataframe thead th {\n",
              "        text-align: right;\n",
              "    }\n",
              "</style>\n",
              "<table border=\"1\" class=\"dataframe\">\n",
              "  <thead>\n",
              "    <tr style=\"text-align: right;\">\n",
              "      <th></th>\n",
              "      <th>tconst</th>\n",
              "      <th>titleType</th>\n",
              "      <th>primaryTitle</th>\n",
              "      <th>originalTitle</th>\n",
              "      <th>isAdult</th>\n",
              "      <th>startYear</th>\n",
              "      <th>endYear</th>\n",
              "      <th>runtimeMinutes</th>\n",
              "      <th>genres</th>\n",
              "    </tr>\n",
              "  </thead>\n",
              "  <tbody>\n",
              "    <tr>\n",
              "      <th>3460647</th>\n",
              "      <td>tt14510930</td>\n",
              "      <td>tvEpisode</td>\n",
              "      <td>NaN</td>\n",
              "      <td>NaN</td>\n",
              "      <td>0.0</td>\n",
              "      <td>NaN</td>\n",
              "      <td>NaN</td>\n",
              "      <td>NaN</td>\n",
              "      <td>NaN</td>\n",
              "    </tr>\n",
              "    <tr>\n",
              "      <th>3680645</th>\n",
              "      <td>tt14911452</td>\n",
              "      <td>tvEpisode</td>\n",
              "      <td>NaN</td>\n",
              "      <td>NaN</td>\n",
              "      <td>0.0</td>\n",
              "      <td>NaN</td>\n",
              "      <td>NaN</td>\n",
              "      <td>NaN</td>\n",
              "      <td>Drama,Thriller</td>\n",
              "    </tr>\n",
              "    <tr>\n",
              "      <th>4112908</th>\n",
              "      <td>tt15700278</td>\n",
              "      <td>tvEpisode</td>\n",
              "      <td>NaN</td>\n",
              "      <td>NaN</td>\n",
              "      <td>0.0</td>\n",
              "      <td>2021.0</td>\n",
              "      <td>NaN</td>\n",
              "      <td>NaN</td>\n",
              "      <td>Talk-Show</td>\n",
              "    </tr>\n",
              "    <tr>\n",
              "      <th>4803169</th>\n",
              "      <td>tt1971246</td>\n",
              "      <td>tvEpisode</td>\n",
              "      <td>NaN</td>\n",
              "      <td>NaN</td>\n",
              "      <td>0.0</td>\n",
              "      <td>2011.0</td>\n",
              "      <td>NaN</td>\n",
              "      <td>NaN</td>\n",
              "      <td>Biography</td>\n",
              "    </tr>\n",
              "    <tr>\n",
              "      <th>4895590</th>\n",
              "      <td>tt2067043</td>\n",
              "      <td>tvEpisode</td>\n",
              "      <td>NaN</td>\n",
              "      <td>NaN</td>\n",
              "      <td>0.0</td>\n",
              "      <td>1965.0</td>\n",
              "      <td>NaN</td>\n",
              "      <td>NaN</td>\n",
              "      <td>Music</td>\n",
              "    </tr>\n",
              "    <tr>\n",
              "      <th>6663485</th>\n",
              "      <td>tt5773048</td>\n",
              "      <td>tvEpisode</td>\n",
              "      <td>NaN</td>\n",
              "      <td>NaN</td>\n",
              "      <td>0.0</td>\n",
              "      <td>2015.0</td>\n",
              "      <td>NaN</td>\n",
              "      <td>NaN</td>\n",
              "      <td>Talk-Show</td>\n",
              "    </tr>\n",
              "    <tr>\n",
              "      <th>7889356</th>\n",
              "      <td>tt8473688</td>\n",
              "      <td>tvEpisode</td>\n",
              "      <td>NaN</td>\n",
              "      <td>NaN</td>\n",
              "      <td>0.0</td>\n",
              "      <td>1987.0</td>\n",
              "      <td>NaN</td>\n",
              "      <td>NaN</td>\n",
              "      <td>Drama</td>\n",
              "    </tr>\n",
              "    <tr>\n",
              "      <th>7920532</th>\n",
              "      <td>tt8541336</td>\n",
              "      <td>tvEpisode</td>\n",
              "      <td>NaN</td>\n",
              "      <td>NaN</td>\n",
              "      <td>0.0</td>\n",
              "      <td>2018.0</td>\n",
              "      <td>NaN</td>\n",
              "      <td>NaN</td>\n",
              "      <td>Reality-TV,Romance</td>\n",
              "    </tr>\n",
              "    <tr>\n",
              "      <th>8512584</th>\n",
              "      <td>tt9824302</td>\n",
              "      <td>tvEpisode</td>\n",
              "      <td>NaN</td>\n",
              "      <td>NaN</td>\n",
              "      <td>0.0</td>\n",
              "      <td>2016.0</td>\n",
              "      <td>NaN</td>\n",
              "      <td>NaN</td>\n",
              "      <td>Documentary</td>\n",
              "    </tr>\n",
              "  </tbody>\n",
              "</table>\n",
              "</div>"
            ],
            "text/plain": [
              "             tconst  titleType primaryTitle originalTitle  isAdult  startYear  \\\n",
              "3460647  tt14510930  tvEpisode          NaN           NaN      0.0        NaN   \n",
              "3680645  tt14911452  tvEpisode          NaN           NaN      0.0        NaN   \n",
              "4112908  tt15700278  tvEpisode          NaN           NaN      0.0     2021.0   \n",
              "4803169   tt1971246  tvEpisode          NaN           NaN      0.0     2011.0   \n",
              "4895590   tt2067043  tvEpisode          NaN           NaN      0.0     1965.0   \n",
              "6663485   tt5773048  tvEpisode          NaN           NaN      0.0     2015.0   \n",
              "7889356   tt8473688  tvEpisode          NaN           NaN      0.0     1987.0   \n",
              "7920532   tt8541336  tvEpisode          NaN           NaN      0.0     2018.0   \n",
              "8512584   tt9824302  tvEpisode          NaN           NaN      0.0     2016.0   \n",
              "\n",
              "         endYear runtimeMinutes              genres  \n",
              "3460647      NaN            NaN                 NaN  \n",
              "3680645      NaN            NaN      Drama,Thriller  \n",
              "4112908      NaN            NaN           Talk-Show  \n",
              "4803169      NaN            NaN           Biography  \n",
              "4895590      NaN            NaN               Music  \n",
              "6663485      NaN            NaN           Talk-Show  \n",
              "7889356      NaN            NaN               Drama  \n",
              "7920532      NaN            NaN  Reality-TV,Romance  \n",
              "8512584      NaN            NaN         Documentary  "
            ]
          },
          "execution_count": 68,
          "metadata": {},
          "output_type": "execute_result"
        }
      ],
      "source": [
        "#Visualisation des NaN\n",
        "\n",
        "df_na = data_title_basics.loc[(data_title_basics[\"originalTitle\"].isna())] #Sélection des NaN\n",
        "\n",
        "df_na"
      ]
    },
    {
      "cell_type": "code",
      "execution_count": null,
      "metadata": {
        "colab": {
          "base_uri": "https://localhost:8080/"
        },
        "id": "W9zwn6uHxZPG",
        "outputId": "201483ef-57f3-4c7e-f6f8-ac2c0f6f3efd"
      },
      "outputs": [
        {
          "name": "stdout",
          "output_type": "stream",
          "text": [
            "On a 1 valeurs NaN.\n",
            "On a 263622 valeurs 1.\n",
            "On a 8291805 valeurs 0.\n"
          ]
        }
      ],
      "source": [
        "#Colonne \"isAdult\" :\n",
        "valeur_na = data_title_basics['isAdult'].isna().sum()\n",
        "print(f\"On a\", valeur_na, \"valeurs NaN.\")\n",
        "valeur_1 = (data_title_basics['isAdult'] == 1).sum()\n",
        "print(f\"On a\", valeur_1, \"valeurs 1.\")\n",
        "valeur_0 = (data_title_basics['isAdult'] == 0).sum()\n",
        "print(f\"On a\", valeur_0, \"valeurs 0.\")"
      ]
    },
    {
      "cell_type": "code",
      "execution_count": null,
      "metadata": {
        "colab": {
          "base_uri": "https://localhost:8080/"
        },
        "id": "l7c4Tr9Uzvsu",
        "outputId": "648057ca-d6ca-4d41-d497-4fb964054569"
      },
      "outputs": [
        {
          "name": "stdout",
          "output_type": "stream",
          "text": [
            "Le pourcentage de films tous publics est de : 96.92 %.\n"
          ]
        }
      ],
      "source": [
        "pourcentage_film_tous = round((((data_title_basics['isAdult'] == 0).sum() / len(data_title_basics)) * 100), 2)\n",
        "print(f\"Le pourcentage de films tous publics est de :\", pourcentage_film_tous,\"%.\")"
      ]
    },
    {
      "cell_type": "code",
      "execution_count": null,
      "metadata": {
        "colab": {
          "base_uri": "https://localhost:8080/",
          "height": 412
        },
        "id": "lm4DjisBYRIx",
        "outputId": "891b44b2-d692-4d37-b6f6-dbad6f2d399c"
      },
      "outputs": [
        {
          "data": {
            "image/png": "[encoded data removed]",
            "text/plain": [
              "<Figure size 864x504 with 1 Axes>"
            ]
          },
          "metadata": {},
          "output_type": "display_data"
        }
      ],
      "source": [
        "labels = 'Film tout public', 'Film pour adulte'\n",
        "sizes = [pourcentage_film_tous, (100 - pourcentage_film_tous)]\n",
        "explode = (0, 0.5)\n",
        "\n",
        "fig1, ax1 = plt.subplots()\n",
        "ax1.pie(sizes, explode=explode, labels=labels, autopct='%1.1f%%',\n",
        "        shadow=True, startangle=90)\n",
        "ax1.axis('equal')\n",
        "\n",
        "plt.show()"
      ]
    },
    {
      "cell_type": "markdown",
      "metadata": {
        "id": "49yrkfKK45hs"
      },
      "source": [
        "96,9% des films sont tous publics, donc on prendra dans notre sélection uniquement les films tous publics."
      ]
    },
    {
      "cell_type": "code",
      "execution_count": null,
      "metadata": {
        "colab": {
          "base_uri": "https://localhost:8080/"
        },
        "id": "GzjIGTqjH1eL",
        "outputId": "53b4725b-94f5-4be9-e634-90d4c82c44e2"
      },
      "outputs": [
        {
          "data": {
            "text/plain": [
              "array([1894., 1892., 1893., 1895., 1896., 1898., 1897., 1900., 1899.,\n",
              "       1901., 1902., 1903., 1905., 1904., 1912., 1907., 1906., 1908.,\n",
              "       1910., 1909., 1914., 1911., 1913., 1915., 1919., 1916., 1917.,\n",
              "       1918., 1936., 1925., 1920., 1922., 1921., 1923., 2019., 1924.,\n",
              "       1928., 1926., 1927., 1929., 2000., 1993., 1935., 2014., 1930.,\n",
              "       1942., 1934., 1931., 1932., 1939., 1937., 1933., 1950., 1938.,\n",
              "       1951., 1945., 1946., 1996., 1940., 1944., 1949., 1947., 1941.,\n",
              "       1952., 1970., 1957., 1943., 1959., 1948., 2001., 1953., 2008.,\n",
              "       1954., 1965., 1983., 1980., 1973., 1961., 2021., 1995., 1955.,\n",
              "       1962., 1958., 1956., 1977., 1960., 1964., 1967., 1968., 1963.,\n",
              "       1986., 1971., 1969., 1972., 1966., 2002., 1976., 1990., 2020.,\n",
              "       1979., 1974., 1978., 1981., 1988., 1975., 1989., 1985.,   nan,\n",
              "       2009., 1987., 2010., 2018., 2007., 1984., 1982., 1992., 1991.,\n",
              "       1994., 1999., 2017., 2005., 2004., 1998., 1997., 2013., 2016.,\n",
              "       2006., 2003., 2012., 2015., 2011., 1891., 1888., 1890., 2022.,\n",
              "       1889., 2023., 2024., 2025., 2027., 2026., 2028., 1878., 1877.,\n",
              "       1882., 1881., 1887., 1874., 1883., 1885.])"
            ]
          },
          "execution_count": 72,
          "metadata": {},
          "output_type": "execute_result"
        }
      ],
      "source": [
        "# Colonne \"startYear\" (YYYY) :\n",
        "# Visualisation des valeurs uniques :\n",
        "\n",
        "data_title_basics[\"startYear\"].unique() "
      ]
    },
    {
      "cell_type": "code",
      "execution_count": null,
      "metadata": {
        "colab": {
          "base_uri": "https://localhost:8080/"
        },
        "id": "MFPzKhrWDJoj",
        "outputId": "8b79680a-0234-4e42-dd2d-0fcb461a9f08"
      },
      "outputs": [
        {
          "name": "stdout",
          "output_type": "stream",
          "text": [
            "On a 0.13 % de valeurs NaN. On peut donc les exclure de notre sélection.\n"
          ]
        }
      ],
      "source": [
        "# Calcul du pourcentage de NaN :\n",
        "\n",
        "year_na = round((data_title_basics[\"startYear\"].isna().sum() / len(data_title_basics)), 2)\n",
        "print(f\"On a\", year_na, \"% de valeurs NaN. On peut donc les exclure de notre sélection.\")"
      ]
    },
    {
      "cell_type": "code",
      "execution_count": null,
      "metadata": {
        "colab": {
          "base_uri": "https://localhost:8080/",
          "height": 629
        },
        "id": "CgETQAi_JYGl",
        "outputId": "ce2936b7-af59-4c25-8557-20da50c1461a"
      },
      "outputs": [
        {
          "name": "stderr",
          "output_type": "stream",
          "text": [
            "<ipython-input-74-064b3a639f80>:5: SettingWithCopyWarning: \n",
            "A value is trying to be set on a copy of a slice from a DataFrame\n",
            "\n",
            "See the caveats in the documentation: https://pandas.pydata.org/pandas-docs/stable/user_guide/indexing.html#returning-a-view-versus-a-copy\n",
            "  data_title_basics_pourc.dropna(inplace = True) # Suppression des NaN\n",
            "<ipython-input-74-064b3a639f80>:7: SettingWithCopyWarning: \n",
            "A value is trying to be set on a copy of a slice from a DataFrame\n",
            "\n",
            "See the caveats in the documentation: https://pandas.pydata.org/pandas-docs/stable/user_guide/indexing.html#returning-a-view-versus-a-copy\n",
            "  data_title_basics_pourc.sort_values(\"startYear\", inplace = True)  # Affichage des dates par ordre croissant\n"
          ]
        },
        {
          "data": {
            "text/html": [
              "<div>\n",
              "<style scoped>\n",
              "    .dataframe tbody tr th:only-of-type {\n",
              "        vertical-align: middle;\n",
              "    }\n",
              "\n",
              "    .dataframe tbody tr th {\n",
              "        vertical-align: top;\n",
              "    }\n",
              "\n",
              "    .dataframe thead th {\n",
              "        text-align: right;\n",
              "    }\n",
              "</style>\n",
              "<table border=\"1\" class=\"dataframe\">\n",
              "  <thead>\n",
              "    <tr style=\"text-align: right;\">\n",
              "      <th></th>\n",
              "      <th>startYear</th>\n",
              "      <th>tconst</th>\n",
              "    </tr>\n",
              "  </thead>\n",
              "  <tbody>\n",
              "    <tr>\n",
              "      <th>0</th>\n",
              "      <td>1874.0</td>\n",
              "      <td>1</td>\n",
              "    </tr>\n",
              "    <tr>\n",
              "      <th>1</th>\n",
              "      <td>1877.0</td>\n",
              "      <td>1</td>\n",
              "    </tr>\n",
              "    <tr>\n",
              "      <th>2</th>\n",
              "      <td>1878.0</td>\n",
              "      <td>2</td>\n",
              "    </tr>\n",
              "    <tr>\n",
              "      <th>3</th>\n",
              "      <td>1881.0</td>\n",
              "      <td>2</td>\n",
              "    </tr>\n",
              "    <tr>\n",
              "      <th>4</th>\n",
              "      <td>1882.0</td>\n",
              "      <td>2</td>\n",
              "    </tr>\n",
              "    <tr>\n",
              "      <th>...</th>\n",
              "      <td>...</td>\n",
              "      <td>...</td>\n",
              "    </tr>\n",
              "    <tr>\n",
              "      <th>144</th>\n",
              "      <td>2024.0</td>\n",
              "      <td>162</td>\n",
              "    </tr>\n",
              "    <tr>\n",
              "      <th>145</th>\n",
              "      <td>2025.0</td>\n",
              "      <td>36</td>\n",
              "    </tr>\n",
              "    <tr>\n",
              "      <th>146</th>\n",
              "      <td>2026.0</td>\n",
              "      <td>16</td>\n",
              "    </tr>\n",
              "    <tr>\n",
              "      <th>147</th>\n",
              "      <td>2027.0</td>\n",
              "      <td>13</td>\n",
              "    </tr>\n",
              "    <tr>\n",
              "      <th>148</th>\n",
              "      <td>2028.0</td>\n",
              "      <td>3</td>\n",
              "    </tr>\n",
              "  </tbody>\n",
              "</table>\n",
              "<p>149 rows × 2 columns</p>\n",
              "</div>"
            ],
            "text/plain": [
              "     startYear  tconst\n",
              "0       1874.0       1\n",
              "1       1877.0       1\n",
              "2       1878.0       2\n",
              "3       1881.0       2\n",
              "4       1882.0       2\n",
              "..         ...     ...\n",
              "144     2024.0     162\n",
              "145     2025.0      36\n",
              "146     2026.0      16\n",
              "147     2027.0      13\n",
              "148     2028.0       3\n",
              "\n",
              "[149 rows x 2 columns]"
            ]
          },
          "execution_count": 74,
          "metadata": {},
          "output_type": "execute_result"
        }
      ],
      "source": [
        "# Nombre de films par années :\n",
        "\n",
        "data_title_basics_pourc = data_title_basics[[\"tconst\", \"startYear\"]]\n",
        "\n",
        "data_title_basics_pourc.dropna(inplace = True) # Suppression des NaN\n",
        "\n",
        "data_title_basics_pourc.sort_values(\"startYear\", inplace = True)  # Affichage des dates par ordre croissant\n",
        "\n",
        "film_par_annee = data_title_basics_pourc.groupby(\"startYear\").count()[\"tconst\"]\n",
        "\n",
        "data_film_par_annee = pd.DataFrame(film_par_annee).reset_index()\n",
        "\n",
        "data_film_par_annee"
      ]
    },
    {
      "cell_type": "code",
      "execution_count": null,
      "metadata": {
        "id": "ZpAAMwb1KslB",
        "outputId": "d02560a4-94ab-41ff-ab3b-724a628aaf19"
      },
      "outputs": [
        {
          "data": {
            "image/png": "[encoded data removed]",
            "text/plain": [
              "<Figure size 720x504 with 1 Axes>"
            ]
          },
          "metadata": {
            "needs_background": "light"
          },
          "output_type": "display_data"
        }
      ],
      "source": [
        "# Graphique\n",
        "plt.subplots(figsize=(10,7))\n",
        "plt.bar(data_film_par_annee[\"startYear\"], \n",
        "        data_film_par_annee[\"tconst\"], \n",
        "        color='rosybrown',\n",
        "        width=1)\n",
        "plt.title('Nombre de films par année de sortie')\n",
        "plt.xlabel('Années\\n\\nCe graphique n\\'est pas représentatif car les années de sortie ne sont pas toutes renseignées.\\nCependant nous voyons une évolution dans le temps,\\nprincipalement due aux séries tv')\n",
        "plt.ylabel('Nb Films')\n",
        "\n",
        "plt.show()"
      ]
    },
    {
      "cell_type": "code",
      "execution_count": null,
      "metadata": {
        "colab": {
          "base_uri": "https://localhost:8080/"
        },
        "id": "nnyL9kc8ORqp",
        "outputId": "f993a490-f2b9-4c46-c724-a8b7fb755056"
      },
      "outputs": [
        {
          "name": "stdout",
          "output_type": "stream",
          "text": [
            "Le nombre de films minimum est de 1 et correspond à l'année 0\n"
          ]
        }
      ],
      "source": [
        "# Affichage du Min :\n",
        "\n",
        "minf = data_film_par_annee[\"tconst\"].min()\n",
        "idxminf = data_film_par_annee[\"tconst\"].idxmin()\n",
        "print(f\"Le nombre de films minimum est de\", minf, \"et correspond à l'année\", idxminf)"
      ]
    },
    {
      "cell_type": "code",
      "execution_count": null,
      "metadata": {
        "colab": {
          "base_uri": "https://localhost:8080/"
        },
        "id": "2o0FvwNFOkXx",
        "outputId": "65417e70-009c-4806-84f1-c56d60bd7d73"
      },
      "outputs": [
        {
          "name": "stdout",
          "output_type": "stream",
          "text": [
            "Le nombre de films maximum est de 408592 et correspond à l'année 138\n"
          ]
        }
      ],
      "source": [
        "# Affichage de Max :\n",
        "\n",
        "maxf = data_film_par_annee[\"tconst\"].max()\n",
        "idxmax = data_film_par_annee[\"tconst\"].idxmax()\n",
        "print(f\"Le nombre de films maximum est de\", maxf, \"et correspond à l'année\", idxmax)"
      ]
    },
    {
      "cell_type": "code",
      "execution_count": null,
      "metadata": {
        "colab": {
          "base_uri": "https://localhost:8080/"
        },
        "id": "yDlzdG7mOzM5",
        "outputId": "1d726585-8d56-466a-c8d9-f38bd9ac0487"
      },
      "outputs": [
        {
          "name": "stdout",
          "output_type": "stream",
          "text": [
            "min value : 1874.0\n",
            "decile 1 : 1976.0\n",
            "decile 2 : 1995.0\n",
            "decile 3 : 2003.0\n",
            "decile 4 : 2008.0\n",
            "decile 5 : 2011.0\n",
            "decile 6 : 2014.0\n",
            "decile 7 : 2016.0\n",
            "decile 8 : 2018.0\n",
            "decile 9 : 2019.0\n",
            "max value : 2028.0\n"
          ]
        }
      ],
      "source": [
        "# Affichage des Déciles :\n",
        "\n",
        "info_decile(data_title_basics[\"startYear\"])"
      ]
    },
    {
      "cell_type": "markdown",
      "metadata": {
        "id": "sHfQLdA3lrJ1"
      },
      "source": [
        "Au vu du graphique et des infos précédentes, on sélectionne les années qui ont un nombre de sorties de films pertinents : 1950 à 2022"
      ]
    },
    {
      "cell_type": "code",
      "execution_count": null,
      "metadata": {
        "colab": {
          "base_uri": "https://localhost:8080/"
        },
        "id": "kDykCH3-d6uu",
        "outputId": "d33b7ac5-e64b-4acf-d920-5e8b2aabc644"
      },
      "outputs": [
        {
          "data": {
            "text/plain": [
              "array([  nan, 1934., 1947., 1945., 1955., 1949., 1958., 1951., 1950.,\n",
              "       1952., 1954., 1957., 1953., 1956., 1967., 1971., 1959., 1963.,\n",
              "       1960., 1961., 1965., 1980., 2016., 1986., 1962., 1972., 1966.,\n",
              "       1970., 2009., 1973., 1987., 1997., 1974., 1992., 1976., 1975.,\n",
              "       1982., 2010., 1984., 1964., 1968., 1989., 1969., 1994., 2004.,\n",
              "       1981., 1999., 1988., 1985., 2003., 1977., 1978., 1993., 2001.,\n",
              "       2013., 1996., 2011., 2005., 1995., 1979., 2006., 1983., 1990.,\n",
              "       1998., 2008., 1991., 2020., 2007., 2021., 2018., 2015., 2014.,\n",
              "       2000., 2019., 2002., 2012., 2022., 2017., 1948., 1938., 1925.,\n",
              "       1942., 1933., 2026., 1944., 1946., 2024., 2023., 1937., 2030.,\n",
              "       2028., 2025., 1941., 1939., 1932., 1936., 1935., 2027.])"
            ]
          },
          "execution_count": 79,
          "metadata": {},
          "output_type": "execute_result"
        }
      ],
      "source": [
        "#Colonne \"endYear\" \n",
        "# Visualisation des valeurs de cette colonne\n",
        "data_title_basics[\"endYear\"].unique()"
      ]
    },
    {
      "cell_type": "code",
      "execution_count": null,
      "metadata": {
        "colab": {
          "base_uri": "https://localhost:8080/"
        },
        "id": "MHr-f3Pug3WQ",
        "outputId": "03a21c1f-caa3-4561-eb3f-397fe81a3ae6"
      },
      "outputs": [
        {
          "name": "stdout",
          "output_type": "stream",
          "text": [
            "On trouve 99.0 % de NaN.\n"
          ]
        }
      ],
      "source": [
        "#Pourcentage de NaN\n",
        "pourcentage_na_endYear = round(((data_title_basics[\"endYear\"].isna().sum() / len(data_title_basics))* 100), 2)\n",
        "print(f\"On trouve\", pourcentage_na_endYear, \"% de NaN.\")"
      ]
    },
    {
      "cell_type": "markdown",
      "metadata": {
        "id": "H17xPK6xnkoL"
      },
      "source": [
        "On trouve 99.0 % de NaN, donc on ne va pas garder cette colonne dans notre sélection."
      ]
    },
    {
      "cell_type": "code",
      "execution_count": null,
      "metadata": {
        "colab": {
          "base_uri": "https://localhost:8080/",
          "height": 363
        },
        "id": "IHFLWsS9r8CL",
        "outputId": "af0df42b-fe2f-48de-d42a-389c8908e717"
      },
      "outputs": [
        {
          "data": {
            "text/html": [
              "<div>\n",
              "<style scoped>\n",
              "    .dataframe tbody tr th:only-of-type {\n",
              "        vertical-align: middle;\n",
              "    }\n",
              "\n",
              "    .dataframe tbody tr th {\n",
              "        vertical-align: top;\n",
              "    }\n",
              "\n",
              "    .dataframe thead th {\n",
              "        text-align: right;\n",
              "    }\n",
              "</style>\n",
              "<table border=\"1\" class=\"dataframe\">\n",
              "  <thead>\n",
              "    <tr style=\"text-align: right;\">\n",
              "      <th></th>\n",
              "      <th>tconst</th>\n",
              "      <th>titleType</th>\n",
              "      <th>primaryTitle</th>\n",
              "      <th>originalTitle</th>\n",
              "      <th>isAdult</th>\n",
              "      <th>startYear</th>\n",
              "      <th>endYear</th>\n",
              "      <th>runtimeMinutes</th>\n",
              "      <th>genres</th>\n",
              "    </tr>\n",
              "  </thead>\n",
              "  <tbody>\n",
              "  </tbody>\n",
              "</table>\n",
              "</div>"
            ],
            "text/plain": [
              "Empty DataFrame\n",
              "Columns: [tconst, titleType, primaryTitle, originalTitle, isAdult, startYear, endYear, runtimeMinutes, genres]\n",
              "Index: []"
            ]
          },
          "execution_count": 81,
          "metadata": {},
          "output_type": "execute_result"
        }
      ],
      "source": [
        "# Visualisation des runtimeMinutes = 0 => à remplacer par des NaN\n",
        "\n",
        "cond_run_0 = data_title_basics[\"runtimeMinutes\"] == 0\n",
        "\n",
        "data_run_0 = data_title_basics.loc[(cond_run_0)]\n",
        "\n",
        "data_run_0"
      ]
    },
    {
      "cell_type": "code",
      "execution_count": null,
      "metadata": {
        "id": "BaLavzLysDym"
      },
      "outputs": [],
      "source": [
        "# Remplacement des Nan par des 0 :\n",
        "data_title_basics[\"runtimeMinutes\"] = data_title_basics[\"runtimeMinutes\"].replace(0, np.nan, regex = True)"
      ]
    },
    {
      "cell_type": "code",
      "execution_count": null,
      "metadata": {
        "colab": {
          "base_uri": "https://localhost:8080/"
        },
        "id": "bP5tqeiR7xtT",
        "outputId": "666fe437-82b8-42e5-f6bb-595d1633720d"
      },
      "outputs": [
        {
          "name": "stdout",
          "output_type": "stream",
          "text": [
            "On a 72.79 % de valeurs NaN.\n"
          ]
        }
      ],
      "source": [
        "# Colonne \"runtimeMinutes\"\n",
        "# Calcul du pourcentage de NaN :\n",
        "runtimeMinutes_na = round((data_title_basics[\"runtimeMinutes\"].isna().sum() / len(data_title_basics))*100, 2)\n",
        "print(f\"On a\", runtimeMinutes_na, \"% de valeurs NaN.\")"
      ]
    },
    {
      "cell_type": "code",
      "execution_count": null,
      "metadata": {
        "colab": {
          "base_uri": "https://localhost:8080/",
          "height": 795
        },
        "id": "RQ0aFNz1CFPu",
        "outputId": "7d59ae4b-9025-420a-bb09-36e8b19556ba"
      },
      "outputs": [
        {
          "name": "stderr",
          "output_type": "stream",
          "text": [
            "C:\\Users\\maell\\anaconda3\\lib\\site-packages\\pandas\\core\\series.py:4463: SettingWithCopyWarning: \n",
            "A value is trying to be set on a copy of a slice from a DataFrame\n",
            "\n",
            "See the caveats in the documentation: https://pandas.pydata.org/pandas-docs/stable/user_guide/indexing.html#returning-a-view-versus-a-copy\n",
            "  return super().fillna(\n"
          ]
        },
        {
          "data": {
            "text/html": [
              "<div>\n",
              "<style scoped>\n",
              "    .dataframe tbody tr th:only-of-type {\n",
              "        vertical-align: middle;\n",
              "    }\n",
              "\n",
              "    .dataframe tbody tr th {\n",
              "        vertical-align: top;\n",
              "    }\n",
              "\n",
              "    .dataframe thead th {\n",
              "        text-align: right;\n",
              "    }\n",
              "</style>\n",
              "<table border=\"1\" class=\"dataframe\">\n",
              "  <thead>\n",
              "    <tr style=\"text-align: right;\">\n",
              "      <th></th>\n",
              "      <th>startYear</th>\n",
              "      <th>runtimeMinutes</th>\n",
              "    </tr>\n",
              "  </thead>\n",
              "  <tbody>\n",
              "    <tr>\n",
              "      <th>0</th>\n",
              "      <td>2018.0</td>\n",
              "      <td>286217</td>\n",
              "    </tr>\n",
              "    <tr>\n",
              "      <th>1</th>\n",
              "      <td>2019.0</td>\n",
              "      <td>282711</td>\n",
              "    </tr>\n",
              "    <tr>\n",
              "      <th>2</th>\n",
              "      <td>2017.0</td>\n",
              "      <td>281818</td>\n",
              "    </tr>\n",
              "    <tr>\n",
              "      <th>3</th>\n",
              "      <td>2021.0</td>\n",
              "      <td>270135</td>\n",
              "    </tr>\n",
              "    <tr>\n",
              "      <th>4</th>\n",
              "      <td>2016.0</td>\n",
              "      <td>267553</td>\n",
              "    </tr>\n",
              "    <tr>\n",
              "      <th>5</th>\n",
              "      <td>2020.0</td>\n",
              "      <td>261869</td>\n",
              "    </tr>\n",
              "    <tr>\n",
              "      <th>6</th>\n",
              "      <td>2015.0</td>\n",
              "      <td>252608</td>\n",
              "    </tr>\n",
              "    <tr>\n",
              "      <th>7</th>\n",
              "      <td>2014.0</td>\n",
              "      <td>240377</td>\n",
              "    </tr>\n",
              "    <tr>\n",
              "      <th>8</th>\n",
              "      <td>2013.0</td>\n",
              "      <td>226585</td>\n",
              "    </tr>\n",
              "    <tr>\n",
              "      <th>9</th>\n",
              "      <td>2012.0</td>\n",
              "      <td>212435</td>\n",
              "    </tr>\n",
              "    <tr>\n",
              "      <th>10</th>\n",
              "      <td>2011.0</td>\n",
              "      <td>184558</td>\n",
              "    </tr>\n",
              "    <tr>\n",
              "      <th>11</th>\n",
              "      <td>2010.0</td>\n",
              "      <td>160364</td>\n",
              "    </tr>\n",
              "    <tr>\n",
              "      <th>12</th>\n",
              "      <td>2009.0</td>\n",
              "      <td>138935</td>\n",
              "    </tr>\n",
              "    <tr>\n",
              "      <th>13</th>\n",
              "      <td>2008.0</td>\n",
              "      <td>136654</td>\n",
              "    </tr>\n",
              "    <tr>\n",
              "      <th>14</th>\n",
              "      <td>2007.0</td>\n",
              "      <td>129179</td>\n",
              "    </tr>\n",
              "    <tr>\n",
              "      <th>15</th>\n",
              "      <td>2006.0</td>\n",
              "      <td>116005</td>\n",
              "    </tr>\n",
              "    <tr>\n",
              "      <th>16</th>\n",
              "      <td>2005.0</td>\n",
              "      <td>103036</td>\n",
              "    </tr>\n",
              "    <tr>\n",
              "      <th>17</th>\n",
              "      <td>2004.0</td>\n",
              "      <td>95588</td>\n",
              "    </tr>\n",
              "    <tr>\n",
              "      <th>18</th>\n",
              "      <td>2003.0</td>\n",
              "      <td>82602</td>\n",
              "    </tr>\n",
              "    <tr>\n",
              "      <th>19</th>\n",
              "      <td>2002.0</td>\n",
              "      <td>73699</td>\n",
              "    </tr>\n",
              "  </tbody>\n",
              "</table>\n",
              "</div>"
            ],
            "text/plain": [
              "    startYear  runtimeMinutes\n",
              "0      2018.0          286217\n",
              "1      2019.0          282711\n",
              "2      2017.0          281818\n",
              "3      2021.0          270135\n",
              "4      2016.0          267553\n",
              "5      2020.0          261869\n",
              "6      2015.0          252608\n",
              "7      2014.0          240377\n",
              "8      2013.0          226585\n",
              "9      2012.0          212435\n",
              "10     2011.0          184558\n",
              "11     2010.0          160364\n",
              "12     2009.0          138935\n",
              "13     2008.0          136654\n",
              "14     2007.0          129179\n",
              "15     2006.0          116005\n",
              "16     2005.0          103036\n",
              "17     2004.0           95588\n",
              "18     2003.0           82602\n",
              "19     2002.0           73699"
            ]
          },
          "execution_count": 84,
          "metadata": {},
          "output_type": "execute_result"
        }
      ],
      "source": [
        "# Nombre de NaN par année :\n",
        "\n",
        "data_run_na = data_title_basics.loc[(data_title_basics[\"runtimeMinutes\"].isna())] #df regroupant les lignes pour lesquelles runtimeMinutes est NaN\n",
        "\n",
        "data_run_na[\"runtimeMinutes\"].fillna(0, inplace = True) # Remplacement des NaN par des 0 pour faire le groupby :\n",
        "\n",
        "data_run_na_year = data_run_na.groupby(\"startYear\").count()[\"runtimeMinutes\"]\n",
        "\n",
        "data_run_na_year_count = data_run_na_year.to_frame().sort_values(\"runtimeMinutes\", ascending = False).reset_index()\n",
        "\n",
        "data_run_na_year_count.head(20)"
      ]
    },
    {
      "cell_type": "code",
      "execution_count": null,
      "metadata": {
        "colab": {
          "base_uri": "https://localhost:8080/"
        },
        "id": "Wk8wiyGXMF6L",
        "outputId": "e8c0c2e3-2a46-40a9-a6a5-4f94f4b9f328"
      },
      "outputs": [
        {
          "name": "stdout",
          "output_type": "stream",
          "text": [
            "Le nombre de NaN maximum est de 286217 et correspond à l'année 0\n"
          ]
        }
      ],
      "source": [
        "# Affichage du Max :\n",
        "maxn = data_run_na_year_count[\"runtimeMinutes\"].max()\n",
        "idxmaxn = data_run_na_year_count[\"runtimeMinutes\"].idxmax()\n",
        "print(f\"Le nombre de NaN maximum est de\", maxn, \"et correspond à l'année\", idxmaxn)\n",
        "\n",
        "# Cela semble logique puisque c'est l'année qui compte le plus de films."
      ]
    },
    {
      "cell_type": "code",
      "execution_count": null,
      "metadata": {
        "id": "eKF58HpdHZoD",
        "outputId": "71f77821-04df-41b3-d9b2-a2ef8b806892"
      },
      "outputs": [
        {
          "data": {
            "text/html": [
              "<div>\n",
              "<style scoped>\n",
              "    .dataframe tbody tr th:only-of-type {\n",
              "        vertical-align: middle;\n",
              "    }\n",
              "\n",
              "    .dataframe tbody tr th {\n",
              "        vertical-align: top;\n",
              "    }\n",
              "\n",
              "    .dataframe thead th {\n",
              "        text-align: right;\n",
              "    }\n",
              "</style>\n",
              "<table border=\"1\" class=\"dataframe\">\n",
              "  <thead>\n",
              "    <tr style=\"text-align: right;\">\n",
              "      <th></th>\n",
              "      <th>tconst</th>\n",
              "      <th>titleType</th>\n",
              "      <th>primaryTitle</th>\n",
              "      <th>originalTitle</th>\n",
              "      <th>isAdult</th>\n",
              "      <th>startYear</th>\n",
              "      <th>endYear</th>\n",
              "      <th>runtimeMinutes</th>\n",
              "      <th>genres</th>\n",
              "    </tr>\n",
              "  </thead>\n",
              "  <tbody>\n",
              "    <tr>\n",
              "      <th>1901104</th>\n",
              "      <td>tt11670006</td>\n",
              "      <td>tvEpisode</td>\n",
              "      <td>...ein angenehmer Unbequemer...\\t...ein angene...</td>\n",
              "      <td>0</td>\n",
              "      <td>1981.0</td>\n",
              "      <td>NaN</td>\n",
              "      <td>NaN</td>\n",
              "      <td>Documentary</td>\n",
              "      <td>NaN</td>\n",
              "    </tr>\n",
              "  </tbody>\n",
              "</table>\n",
              "</div>"
            ],
            "text/plain": [
              "             tconst  titleType  \\\n",
              "1901104  tt11670006  tvEpisode   \n",
              "\n",
              "                                              primaryTitle originalTitle  \\\n",
              "1901104  ...ein angenehmer Unbequemer...\\t...ein angene...             0   \n",
              "\n",
              "         isAdult  startYear  endYear runtimeMinutes genres  \n",
              "1901104   1981.0        NaN      NaN    Documentary    NaN  "
            ]
          },
          "execution_count": 86,
          "metadata": {},
          "output_type": "execute_result"
        }
      ],
      "source": [
        "# Vérification des données non numériques de runtimes\n",
        "# des information genres ont été renseignées dans la colonne runtimeMinutes, \n",
        "# essentiellement des tv épisodes, ne seront pas présents dans notre sélection\n",
        "\n",
        "non_num = data_title_basics[(data_title_basics[\"runtimeMinutes\"].notna()) & (data_title_basics[\"runtimeMinutes\"].str.isalpha())]\n",
        "non_num"
      ]
    },
    {
      "cell_type": "code",
      "execution_count": null,
      "metadata": {
        "colab": {
          "base_uri": "https://localhost:8080/"
        },
        "id": "Z6wmhtV4uCrR",
        "outputId": "bc9dae23-4953-41b6-d917-ca7ed0600889"
      },
      "outputs": [
        {
          "name": "stdout",
          "output_type": "stream",
          "text": [
            "On a 4.64 % de valeurs NaN.\n"
          ]
        }
      ],
      "source": [
        "# Colonne genres\n",
        "# Calcul du pourcentage de NaN :\n",
        "genres_na = round((data_title_basics[\"genres\"].isna().sum() / len(data_title_basics))*100, 2)\n",
        "print(f\"On a\", genres_na, \"% de valeurs NaN.\")"
      ]
    },
    {
      "cell_type": "code",
      "execution_count": null,
      "metadata": {
        "id": "h3uIBG7dhnnY",
        "outputId": "643d3ad3-7382-47b3-b64b-97483608c59b"
      },
      "outputs": [
        {
          "data": {
            "text/html": [
              "<div>\n",
              "<style scoped>\n",
              "    .dataframe tbody tr th:only-of-type {\n",
              "        vertical-align: middle;\n",
              "    }\n",
              "\n",
              "    .dataframe tbody tr th {\n",
              "        vertical-align: top;\n",
              "    }\n",
              "\n",
              "    .dataframe thead th {\n",
              "        text-align: right;\n",
              "    }\n",
              "</style>\n",
              "<table border=\"1\" class=\"dataframe\">\n",
              "  <thead>\n",
              "    <tr style=\"text-align: right;\">\n",
              "      <th></th>\n",
              "      <th>tconst</th>\n",
              "      <th>titleType</th>\n",
              "      <th>primaryTitle</th>\n",
              "      <th>originalTitle</th>\n",
              "      <th>isAdult</th>\n",
              "      <th>startYear</th>\n",
              "      <th>endYear</th>\n",
              "      <th>runtimeMinutes</th>\n",
              "      <th>genres</th>\n",
              "      <th>genres_split</th>\n",
              "    </tr>\n",
              "  </thead>\n",
              "  <tbody>\n",
              "    <tr>\n",
              "      <th>0</th>\n",
              "      <td>tt0000001</td>\n",
              "      <td>short</td>\n",
              "      <td>Carmencita</td>\n",
              "      <td>Carmencita</td>\n",
              "      <td>0.0</td>\n",
              "      <td>1894.0</td>\n",
              "      <td>NaN</td>\n",
              "      <td>1</td>\n",
              "      <td>Documentary,Short</td>\n",
              "      <td>[Documentary, Short]</td>\n",
              "    </tr>\n",
              "    <tr>\n",
              "      <th>1</th>\n",
              "      <td>tt0000002</td>\n",
              "      <td>short</td>\n",
              "      <td>Le clown et ses chiens</td>\n",
              "      <td>Le clown et ses chiens</td>\n",
              "      <td>0.0</td>\n",
              "      <td>1892.0</td>\n",
              "      <td>NaN</td>\n",
              "      <td>5</td>\n",
              "      <td>Animation,Short</td>\n",
              "      <td>[Animation, Short]</td>\n",
              "    </tr>\n",
              "    <tr>\n",
              "      <th>2</th>\n",
              "      <td>tt0000003</td>\n",
              "      <td>short</td>\n",
              "      <td>Pauvre Pierrot</td>\n",
              "      <td>Pauvre Pierrot</td>\n",
              "      <td>0.0</td>\n",
              "      <td>1892.0</td>\n",
              "      <td>NaN</td>\n",
              "      <td>4</td>\n",
              "      <td>Animation,Comedy,Romance</td>\n",
              "      <td>[Animation, Comedy, Romance]</td>\n",
              "    </tr>\n",
              "    <tr>\n",
              "      <th>3</th>\n",
              "      <td>tt0000004</td>\n",
              "      <td>short</td>\n",
              "      <td>Un bon bock</td>\n",
              "      <td>Un bon bock</td>\n",
              "      <td>0.0</td>\n",
              "      <td>1892.0</td>\n",
              "      <td>NaN</td>\n",
              "      <td>12</td>\n",
              "      <td>Animation,Short</td>\n",
              "      <td>[Animation, Short]</td>\n",
              "    </tr>\n",
              "    <tr>\n",
              "      <th>4</th>\n",
              "      <td>tt0000005</td>\n",
              "      <td>short</td>\n",
              "      <td>Blacksmith Scene</td>\n",
              "      <td>Blacksmith Scene</td>\n",
              "      <td>0.0</td>\n",
              "      <td>1893.0</td>\n",
              "      <td>NaN</td>\n",
              "      <td>1</td>\n",
              "      <td>Comedy,Short</td>\n",
              "      <td>[Comedy, Short]</td>\n",
              "    </tr>\n",
              "    <tr>\n",
              "      <th>...</th>\n",
              "      <td>...</td>\n",
              "      <td>...</td>\n",
              "      <td>...</td>\n",
              "      <td>...</td>\n",
              "      <td>...</td>\n",
              "      <td>...</td>\n",
              "      <td>...</td>\n",
              "      <td>...</td>\n",
              "      <td>...</td>\n",
              "      <td>...</td>\n",
              "    </tr>\n",
              "    <tr>\n",
              "      <th>8555432</th>\n",
              "      <td>tt9916848</td>\n",
              "      <td>tvEpisode</td>\n",
              "      <td>Episode #3.17</td>\n",
              "      <td>Episode #3.17</td>\n",
              "      <td>0.0</td>\n",
              "      <td>2010.0</td>\n",
              "      <td>NaN</td>\n",
              "      <td>NaN</td>\n",
              "      <td>Action,Drama,Family</td>\n",
              "      <td>[Action, Drama, Family]</td>\n",
              "    </tr>\n",
              "    <tr>\n",
              "      <th>8555433</th>\n",
              "      <td>tt9916850</td>\n",
              "      <td>tvEpisode</td>\n",
              "      <td>Episode #3.19</td>\n",
              "      <td>Episode #3.19</td>\n",
              "      <td>0.0</td>\n",
              "      <td>2010.0</td>\n",
              "      <td>NaN</td>\n",
              "      <td>NaN</td>\n",
              "      <td>Action,Drama,Family</td>\n",
              "      <td>[Action, Drama, Family]</td>\n",
              "    </tr>\n",
              "    <tr>\n",
              "      <th>8555434</th>\n",
              "      <td>tt9916852</td>\n",
              "      <td>tvEpisode</td>\n",
              "      <td>Episode #3.20</td>\n",
              "      <td>Episode #3.20</td>\n",
              "      <td>0.0</td>\n",
              "      <td>2010.0</td>\n",
              "      <td>NaN</td>\n",
              "      <td>NaN</td>\n",
              "      <td>Action,Drama,Family</td>\n",
              "      <td>[Action, Drama, Family]</td>\n",
              "    </tr>\n",
              "    <tr>\n",
              "      <th>8555435</th>\n",
              "      <td>tt9916856</td>\n",
              "      <td>short</td>\n",
              "      <td>The Wind</td>\n",
              "      <td>The Wind</td>\n",
              "      <td>0.0</td>\n",
              "      <td>2015.0</td>\n",
              "      <td>NaN</td>\n",
              "      <td>27</td>\n",
              "      <td>Short</td>\n",
              "      <td>[Short]</td>\n",
              "    </tr>\n",
              "    <tr>\n",
              "      <th>8555436</th>\n",
              "      <td>tt9916880</td>\n",
              "      <td>tvEpisode</td>\n",
              "      <td>Horrid Henry Knows It All</td>\n",
              "      <td>Horrid Henry Knows It All</td>\n",
              "      <td>0.0</td>\n",
              "      <td>2014.0</td>\n",
              "      <td>NaN</td>\n",
              "      <td>10</td>\n",
              "      <td>Adventure,Animation,Comedy</td>\n",
              "      <td>[Adventure, Animation, Comedy]</td>\n",
              "    </tr>\n",
              "  </tbody>\n",
              "</table>\n",
              "<p>8555437 rows × 10 columns</p>\n",
              "</div>"
            ],
            "text/plain": [
              "            tconst  titleType               primaryTitle  \\\n",
              "0        tt0000001      short                 Carmencita   \n",
              "1        tt0000002      short     Le clown et ses chiens   \n",
              "2        tt0000003      short             Pauvre Pierrot   \n",
              "3        tt0000004      short                Un bon bock   \n",
              "4        tt0000005      short           Blacksmith Scene   \n",
              "...            ...        ...                        ...   \n",
              "8555432  tt9916848  tvEpisode              Episode #3.17   \n",
              "8555433  tt9916850  tvEpisode              Episode #3.19   \n",
              "8555434  tt9916852  tvEpisode              Episode #3.20   \n",
              "8555435  tt9916856      short                   The Wind   \n",
              "8555436  tt9916880  tvEpisode  Horrid Henry Knows It All   \n",
              "\n",
              "                     originalTitle  isAdult  startYear  endYear  \\\n",
              "0                       Carmencita      0.0     1894.0      NaN   \n",
              "1           Le clown et ses chiens      0.0     1892.0      NaN   \n",
              "2                   Pauvre Pierrot      0.0     1892.0      NaN   \n",
              "3                      Un bon bock      0.0     1892.0      NaN   \n",
              "4                 Blacksmith Scene      0.0     1893.0      NaN   \n",
              "...                            ...      ...        ...      ...   \n",
              "8555432              Episode #3.17      0.0     2010.0      NaN   \n",
              "8555433              Episode #3.19      0.0     2010.0      NaN   \n",
              "8555434              Episode #3.20      0.0     2010.0      NaN   \n",
              "8555435                   The Wind      0.0     2015.0      NaN   \n",
              "8555436  Horrid Henry Knows It All      0.0     2014.0      NaN   \n",
              "\n",
              "        runtimeMinutes                      genres  \\\n",
              "0                    1           Documentary,Short   \n",
              "1                    5             Animation,Short   \n",
              "2                    4    Animation,Comedy,Romance   \n",
              "3                   12             Animation,Short   \n",
              "4                    1                Comedy,Short   \n",
              "...                ...                         ...   \n",
              "8555432            NaN         Action,Drama,Family   \n",
              "8555433            NaN         Action,Drama,Family   \n",
              "8555434            NaN         Action,Drama,Family   \n",
              "8555435             27                       Short   \n",
              "8555436             10  Adventure,Animation,Comedy   \n",
              "\n",
              "                           genres_split  \n",
              "0                  [Documentary, Short]  \n",
              "1                    [Animation, Short]  \n",
              "2          [Animation, Comedy, Romance]  \n",
              "3                    [Animation, Short]  \n",
              "4                       [Comedy, Short]  \n",
              "...                                 ...  \n",
              "8555432         [Action, Drama, Family]  \n",
              "8555433         [Action, Drama, Family]  \n",
              "8555434         [Action, Drama, Family]  \n",
              "8555435                         [Short]  \n",
              "8555436  [Adventure, Animation, Comedy]  \n",
              "\n",
              "[8555437 rows x 10 columns]"
            ]
          },
          "execution_count": 88,
          "metadata": {},
          "output_type": "execute_result"
        }
      ],
      "source": [
        "# Visualisation des différents genres :\n",
        "data_title_basics[\"genres_split\"] = data_title_basics[\"genres\"].str.split(\",\") # On met la colonne au format liste pour ensuite pouvoir appliquer le explode\n",
        "data_title_basics"
      ]
    },
    {
      "cell_type": "code",
      "execution_count": null,
      "metadata": {
        "colab": {
          "base_uri": "https://localhost:8080/",
          "height": 424
        },
        "id": "XJeZXIPViyNX",
        "outputId": "91d1d32a-ced7-4ce0-f57c-206a68ca4cfa"
      },
      "outputs": [
        {
          "data": {
            "text/html": [
              "<div>\n",
              "<style scoped>\n",
              "    .dataframe tbody tr th:only-of-type {\n",
              "        vertical-align: middle;\n",
              "    }\n",
              "\n",
              "    .dataframe tbody tr th {\n",
              "        vertical-align: top;\n",
              "    }\n",
              "\n",
              "    .dataframe thead th {\n",
              "        text-align: right;\n",
              "    }\n",
              "</style>\n",
              "<table border=\"1\" class=\"dataframe\">\n",
              "  <thead>\n",
              "    <tr style=\"text-align: right;\">\n",
              "      <th></th>\n",
              "      <th>tconst</th>\n",
              "      <th>titleType</th>\n",
              "      <th>primaryTitle</th>\n",
              "      <th>originalTitle</th>\n",
              "      <th>isAdult</th>\n",
              "      <th>startYear</th>\n",
              "      <th>endYear</th>\n",
              "      <th>runtimeMinutes</th>\n",
              "      <th>genres</th>\n",
              "      <th>genres_split</th>\n",
              "    </tr>\n",
              "  </thead>\n",
              "  <tbody>\n",
              "    <tr>\n",
              "      <th>0</th>\n",
              "      <td>tt0000001</td>\n",
              "      <td>short</td>\n",
              "      <td>Carmencita</td>\n",
              "      <td>Carmencita</td>\n",
              "      <td>0.0</td>\n",
              "      <td>1894.0</td>\n",
              "      <td>NaN</td>\n",
              "      <td>1</td>\n",
              "      <td>Documentary,Short</td>\n",
              "      <td>Documentary</td>\n",
              "    </tr>\n",
              "    <tr>\n",
              "      <th>0</th>\n",
              "      <td>tt0000001</td>\n",
              "      <td>short</td>\n",
              "      <td>Carmencita</td>\n",
              "      <td>Carmencita</td>\n",
              "      <td>0.0</td>\n",
              "      <td>1894.0</td>\n",
              "      <td>NaN</td>\n",
              "      <td>1</td>\n",
              "      <td>Documentary,Short</td>\n",
              "      <td>Short</td>\n",
              "    </tr>\n",
              "    <tr>\n",
              "      <th>1</th>\n",
              "      <td>tt0000002</td>\n",
              "      <td>short</td>\n",
              "      <td>Le clown et ses chiens</td>\n",
              "      <td>Le clown et ses chiens</td>\n",
              "      <td>0.0</td>\n",
              "      <td>1892.0</td>\n",
              "      <td>NaN</td>\n",
              "      <td>5</td>\n",
              "      <td>Animation,Short</td>\n",
              "      <td>Animation</td>\n",
              "    </tr>\n",
              "    <tr>\n",
              "      <th>1</th>\n",
              "      <td>tt0000002</td>\n",
              "      <td>short</td>\n",
              "      <td>Le clown et ses chiens</td>\n",
              "      <td>Le clown et ses chiens</td>\n",
              "      <td>0.0</td>\n",
              "      <td>1892.0</td>\n",
              "      <td>NaN</td>\n",
              "      <td>5</td>\n",
              "      <td>Animation,Short</td>\n",
              "      <td>Short</td>\n",
              "    </tr>\n",
              "    <tr>\n",
              "      <th>2</th>\n",
              "      <td>tt0000003</td>\n",
              "      <td>short</td>\n",
              "      <td>Pauvre Pierrot</td>\n",
              "      <td>Pauvre Pierrot</td>\n",
              "      <td>0.0</td>\n",
              "      <td>1892.0</td>\n",
              "      <td>NaN</td>\n",
              "      <td>4</td>\n",
              "      <td>Animation,Comedy,Romance</td>\n",
              "      <td>Animation</td>\n",
              "    </tr>\n",
              "    <tr>\n",
              "      <th>...</th>\n",
              "      <td>...</td>\n",
              "      <td>...</td>\n",
              "      <td>...</td>\n",
              "      <td>...</td>\n",
              "      <td>...</td>\n",
              "      <td>...</td>\n",
              "      <td>...</td>\n",
              "      <td>...</td>\n",
              "      <td>...</td>\n",
              "      <td>...</td>\n",
              "    </tr>\n",
              "    <tr>\n",
              "      <th>8555434</th>\n",
              "      <td>tt9916852</td>\n",
              "      <td>tvEpisode</td>\n",
              "      <td>Episode #3.20</td>\n",
              "      <td>Episode #3.20</td>\n",
              "      <td>0.0</td>\n",
              "      <td>2010.0</td>\n",
              "      <td>NaN</td>\n",
              "      <td>NaN</td>\n",
              "      <td>Action,Drama,Family</td>\n",
              "      <td>Family</td>\n",
              "    </tr>\n",
              "    <tr>\n",
              "      <th>8555435</th>\n",
              "      <td>tt9916856</td>\n",
              "      <td>short</td>\n",
              "      <td>The Wind</td>\n",
              "      <td>The Wind</td>\n",
              "      <td>0.0</td>\n",
              "      <td>2015.0</td>\n",
              "      <td>NaN</td>\n",
              "      <td>27</td>\n",
              "      <td>Short</td>\n",
              "      <td>Short</td>\n",
              "    </tr>\n",
              "    <tr>\n",
              "      <th>8555436</th>\n",
              "      <td>tt9916880</td>\n",
              "      <td>tvEpisode</td>\n",
              "      <td>Horrid Henry Knows It All</td>\n",
              "      <td>Horrid Henry Knows It All</td>\n",
              "      <td>0.0</td>\n",
              "      <td>2014.0</td>\n",
              "      <td>NaN</td>\n",
              "      <td>10</td>\n",
              "      <td>Adventure,Animation,Comedy</td>\n",
              "      <td>Adventure</td>\n",
              "    </tr>\n",
              "    <tr>\n",
              "      <th>8555436</th>\n",
              "      <td>tt9916880</td>\n",
              "      <td>tvEpisode</td>\n",
              "      <td>Horrid Henry Knows It All</td>\n",
              "      <td>Horrid Henry Knows It All</td>\n",
              "      <td>0.0</td>\n",
              "      <td>2014.0</td>\n",
              "      <td>NaN</td>\n",
              "      <td>10</td>\n",
              "      <td>Adventure,Animation,Comedy</td>\n",
              "      <td>Animation</td>\n",
              "    </tr>\n",
              "    <tr>\n",
              "      <th>8555436</th>\n",
              "      <td>tt9916880</td>\n",
              "      <td>tvEpisode</td>\n",
              "      <td>Horrid Henry Knows It All</td>\n",
              "      <td>Horrid Henry Knows It All</td>\n",
              "      <td>0.0</td>\n",
              "      <td>2014.0</td>\n",
              "      <td>NaN</td>\n",
              "      <td>10</td>\n",
              "      <td>Adventure,Animation,Comedy</td>\n",
              "      <td>Comedy</td>\n",
              "    </tr>\n",
              "  </tbody>\n",
              "</table>\n",
              "<p>13556098 rows × 10 columns</p>\n",
              "</div>"
            ],
            "text/plain": [
              "            tconst  titleType               primaryTitle  \\\n",
              "0        tt0000001      short                 Carmencita   \n",
              "0        tt0000001      short                 Carmencita   \n",
              "1        tt0000002      short     Le clown et ses chiens   \n",
              "1        tt0000002      short     Le clown et ses chiens   \n",
              "2        tt0000003      short             Pauvre Pierrot   \n",
              "...            ...        ...                        ...   \n",
              "8555434  tt9916852  tvEpisode              Episode #3.20   \n",
              "8555435  tt9916856      short                   The Wind   \n",
              "8555436  tt9916880  tvEpisode  Horrid Henry Knows It All   \n",
              "8555436  tt9916880  tvEpisode  Horrid Henry Knows It All   \n",
              "8555436  tt9916880  tvEpisode  Horrid Henry Knows It All   \n",
              "\n",
              "                     originalTitle  isAdult  startYear  endYear  \\\n",
              "0                       Carmencita      0.0     1894.0      NaN   \n",
              "0                       Carmencita      0.0     1894.0      NaN   \n",
              "1           Le clown et ses chiens      0.0     1892.0      NaN   \n",
              "1           Le clown et ses chiens      0.0     1892.0      NaN   \n",
              "2                   Pauvre Pierrot      0.0     1892.0      NaN   \n",
              "...                            ...      ...        ...      ...   \n",
              "8555434              Episode #3.20      0.0     2010.0      NaN   \n",
              "8555435                   The Wind      0.0     2015.0      NaN   \n",
              "8555436  Horrid Henry Knows It All      0.0     2014.0      NaN   \n",
              "8555436  Horrid Henry Knows It All      0.0     2014.0      NaN   \n",
              "8555436  Horrid Henry Knows It All      0.0     2014.0      NaN   \n",
              "\n",
              "        runtimeMinutes                      genres genres_split  \n",
              "0                    1           Documentary,Short  Documentary  \n",
              "0                    1           Documentary,Short        Short  \n",
              "1                    5             Animation,Short    Animation  \n",
              "1                    5             Animation,Short        Short  \n",
              "2                    4    Animation,Comedy,Romance    Animation  \n",
              "...                ...                         ...          ...  \n",
              "8555434            NaN         Action,Drama,Family       Family  \n",
              "8555435             27                       Short        Short  \n",
              "8555436             10  Adventure,Animation,Comedy    Adventure  \n",
              "8555436             10  Adventure,Animation,Comedy    Animation  \n",
              "8555436             10  Adventure,Animation,Comedy       Comedy  \n",
              "\n",
              "[13556098 rows x 10 columns]"
            ]
          },
          "execution_count": 89,
          "metadata": {},
          "output_type": "execute_result"
        }
      ],
      "source": [
        "# Création d'un df data_genres pour étudier les genres :\n",
        "data_genres = data_title_basics.explode(\"genres_split\")\n",
        "data_genres"
      ]
    },
    {
      "cell_type": "code",
      "execution_count": null,
      "metadata": {
        "colab": {
          "base_uri": "https://localhost:8080/"
        },
        "id": "R6GXIunjjw_I",
        "outputId": "2a410d30-8c64-4f19-bd02-01769bbdf8f6"
      },
      "outputs": [
        {
          "data": {
            "text/plain": [
              "array(['Documentary', 'Short', 'Animation', 'Comedy', 'Romance', 'Sport',\n",
              "       'News', 'Drama', 'Fantasy', 'Horror', 'Biography', 'Music', 'War',\n",
              "       'Crime', 'Western', 'Family', 'Adventure', 'Action', 'History',\n",
              "       'Mystery', nan, 'Sci-Fi', 'Musical', 'Thriller', 'Film-Noir',\n",
              "       'Talk-Show', 'Game-Show', 'Reality-TV', 'Adult'], dtype=object)"
            ]
          },
          "execution_count": 90,
          "metadata": {},
          "output_type": "execute_result"
        }
      ],
      "source": [
        "# Visualisation des valeurs/genres uniques \n",
        "data_genres[\"genres_split\"].unique() # la valeur \"Short\" semble correspondre un à type de film, et non à un genre."
      ]
    },
    {
      "cell_type": "code",
      "execution_count": null,
      "metadata": {
        "colab": {
          "base_uri": "https://localhost:8080/"
        },
        "id": "6nauyZJjwll6",
        "outputId": "02cc5a07-7c7f-4226-b3e9-85cf64b4893f"
      },
      "outputs": [
        {
          "data": {
            "text/html": [
              "<div>\n",
              "<style scoped>\n",
              "    .dataframe tbody tr th:only-of-type {\n",
              "        vertical-align: middle;\n",
              "    }\n",
              "\n",
              "    .dataframe tbody tr th {\n",
              "        vertical-align: top;\n",
              "    }\n",
              "\n",
              "    .dataframe thead th {\n",
              "        text-align: right;\n",
              "    }\n",
              "</style>\n",
              "<table border=\"1\" class=\"dataframe\">\n",
              "  <thead>\n",
              "    <tr style=\"text-align: right;\">\n",
              "      <th></th>\n",
              "      <th>index</th>\n",
              "      <th>genres_split</th>\n",
              "    </tr>\n",
              "  </thead>\n",
              "  <tbody>\n",
              "    <tr>\n",
              "      <th>0</th>\n",
              "      <td>Drama</td>\n",
              "      <td>2403787</td>\n",
              "    </tr>\n",
              "    <tr>\n",
              "      <th>1</th>\n",
              "      <td>Comedy</td>\n",
              "      <td>1746809</td>\n",
              "    </tr>\n",
              "    <tr>\n",
              "      <th>2</th>\n",
              "      <td>Talk-Show</td>\n",
              "      <td>1010480</td>\n",
              "    </tr>\n",
              "    <tr>\n",
              "      <th>3</th>\n",
              "      <td>Short</td>\n",
              "      <td>976761</td>\n",
              "    </tr>\n",
              "    <tr>\n",
              "      <th>4</th>\n",
              "      <td>Documentary</td>\n",
              "      <td>807204</td>\n",
              "    </tr>\n",
              "    <tr>\n",
              "      <th>5</th>\n",
              "      <td>Romance</td>\n",
              "      <td>767765</td>\n",
              "    </tr>\n",
              "    <tr>\n",
              "      <th>6</th>\n",
              "      <td>News</td>\n",
              "      <td>752623</td>\n",
              "    </tr>\n",
              "    <tr>\n",
              "      <th>7</th>\n",
              "      <td>Family</td>\n",
              "      <td>621143</td>\n",
              "    </tr>\n",
              "    <tr>\n",
              "      <th>8</th>\n",
              "      <td>Reality-TV</td>\n",
              "      <td>456525</td>\n",
              "    </tr>\n",
              "    <tr>\n",
              "      <th>9</th>\n",
              "      <td>Animation</td>\n",
              "      <td>429643</td>\n",
              "    </tr>\n",
              "    <tr>\n",
              "      <th>10</th>\n",
              "      <td>Crime</td>\n",
              "      <td>357873</td>\n",
              "    </tr>\n",
              "    <tr>\n",
              "      <th>11</th>\n",
              "      <td>Music</td>\n",
              "      <td>344386</td>\n",
              "    </tr>\n",
              "    <tr>\n",
              "      <th>12</th>\n",
              "      <td>Action</td>\n",
              "      <td>338628</td>\n",
              "    </tr>\n",
              "    <tr>\n",
              "      <th>13</th>\n",
              "      <td>Adventure</td>\n",
              "      <td>322520</td>\n",
              "    </tr>\n",
              "    <tr>\n",
              "      <th>14</th>\n",
              "      <td>Game-Show</td>\n",
              "      <td>287864</td>\n",
              "    </tr>\n",
              "    <tr>\n",
              "      <th>15</th>\n",
              "      <td>Adult</td>\n",
              "      <td>259666</td>\n",
              "    </tr>\n",
              "    <tr>\n",
              "      <th>16</th>\n",
              "      <td>Sport</td>\n",
              "      <td>199104</td>\n",
              "    </tr>\n",
              "    <tr>\n",
              "      <th>17</th>\n",
              "      <td>Fantasy</td>\n",
              "      <td>178095</td>\n",
              "    </tr>\n",
              "    <tr>\n",
              "      <th>18</th>\n",
              "      <td>Mystery</td>\n",
              "      <td>167579</td>\n",
              "    </tr>\n",
              "    <tr>\n",
              "      <th>19</th>\n",
              "      <td>Horror</td>\n",
              "      <td>150327</td>\n",
              "    </tr>\n",
              "    <tr>\n",
              "      <th>20</th>\n",
              "      <td>Thriller</td>\n",
              "      <td>141515</td>\n",
              "    </tr>\n",
              "    <tr>\n",
              "      <th>21</th>\n",
              "      <td>History</td>\n",
              "      <td>122026</td>\n",
              "    </tr>\n",
              "    <tr>\n",
              "      <th>22</th>\n",
              "      <td>Sci-Fi</td>\n",
              "      <td>97876</td>\n",
              "    </tr>\n",
              "    <tr>\n",
              "      <th>23</th>\n",
              "      <td>Biography</td>\n",
              "      <td>91020</td>\n",
              "    </tr>\n",
              "    <tr>\n",
              "      <th>24</th>\n",
              "      <td>Musical</td>\n",
              "      <td>66252</td>\n",
              "    </tr>\n",
              "    <tr>\n",
              "      <th>25</th>\n",
              "      <td>War</td>\n",
              "      <td>32568</td>\n",
              "    </tr>\n",
              "    <tr>\n",
              "      <th>26</th>\n",
              "      <td>Western</td>\n",
              "      <td>28730</td>\n",
              "    </tr>\n",
              "    <tr>\n",
              "      <th>27</th>\n",
              "      <td>Film-Noir</td>\n",
              "      <td>766</td>\n",
              "    </tr>\n",
              "  </tbody>\n",
              "</table>\n",
              "</div>"
            ],
            "text/plain": [
              "          index  genres_split\n",
              "0         Drama       2403787\n",
              "1        Comedy       1746809\n",
              "2     Talk-Show       1010480\n",
              "3         Short        976761\n",
              "4   Documentary        807204\n",
              "5       Romance        767765\n",
              "6          News        752623\n",
              "7        Family        621143\n",
              "8    Reality-TV        456525\n",
              "9     Animation        429643\n",
              "10        Crime        357873\n",
              "11        Music        344386\n",
              "12       Action        338628\n",
              "13    Adventure        322520\n",
              "14    Game-Show        287864\n",
              "15        Adult        259666\n",
              "16        Sport        199104\n",
              "17      Fantasy        178095\n",
              "18      Mystery        167579\n",
              "19       Horror        150327\n",
              "20     Thriller        141515\n",
              "21      History        122026\n",
              "22       Sci-Fi         97876\n",
              "23    Biography         91020\n",
              "24      Musical         66252\n",
              "25          War         32568\n",
              "26      Western         28730\n",
              "27    Film-Noir           766"
            ]
          },
          "execution_count": 91,
          "metadata": {},
          "output_type": "execute_result"
        }
      ],
      "source": [
        "#Nombre de film par genre :\n",
        "count_genre = data_genres[\"genres_split\"].value_counts().to_frame().reset_index()\n",
        "count_genre"
      ]
    },
    {
      "cell_type": "code",
      "execution_count": null,
      "metadata": {
        "id": "x3ukWlFxMNMi",
        "outputId": "76e41314-2c16-49ff-81bc-40b0df6d471a"
      },
      "outputs": [
        {
          "data": {
            "image/png": "[encoded data removed]",
            "text/plain": [
              "<Figure size 864x432 with 1 Axes>"
            ]
          },
          "metadata": {
            "needs_background": "light"
          },
          "output_type": "display_data"
        }
      ],
      "source": [
        "# Graphique\n",
        "sns.catplot(data=data_genres,\n",
        "            x=\"genres_split\",\n",
        "            kind=\"count\",\n",
        "            height=6,\n",
        "            aspect=2,\n",
        "            legend=False,\n",
        "            ci=None\n",
        "           ).set(title='Nombre de films par genres',\n",
        "                 ylabel=\"Nb films\",\n",
        "                 xlabel=\"Genre\"\n",
        "                )\n",
        "plt.xticks(rotation=70)\n",
        "plt.tight_layout()\n",
        "# Afficher graph\n",
        "plt.show()\n"
      ]
    },
    {
      "cell_type": "code",
      "execution_count": null,
      "metadata": {
        "id": "za-wEW3HHZoE",
        "outputId": "f62f5a57-45cb-4676-a3f8-ed38563715e3"
      },
      "outputs": [
        {
          "data": {
            "text/html": [
              "<div>\n",
              "<style scoped>\n",
              "    .dataframe tbody tr th:only-of-type {\n",
              "        vertical-align: middle;\n",
              "    }\n",
              "\n",
              "    .dataframe tbody tr th {\n",
              "        vertical-align: top;\n",
              "    }\n",
              "\n",
              "    .dataframe thead th {\n",
              "        text-align: right;\n",
              "    }\n",
              "</style>\n",
              "<table border=\"1\" class=\"dataframe\">\n",
              "  <thead>\n",
              "    <tr style=\"text-align: right;\">\n",
              "      <th></th>\n",
              "      <th>index</th>\n",
              "      <th>genres_split</th>\n",
              "    </tr>\n",
              "  </thead>\n",
              "  <tbody>\n",
              "    <tr>\n",
              "      <th>0</th>\n",
              "      <td>Drama</td>\n",
              "      <td>214519</td>\n",
              "    </tr>\n",
              "    <tr>\n",
              "      <th>1</th>\n",
              "      <td>Documentary</td>\n",
              "      <td>110439</td>\n",
              "    </tr>\n",
              "    <tr>\n",
              "      <th>2</th>\n",
              "      <td>Comedy</td>\n",
              "      <td>101496</td>\n",
              "    </tr>\n",
              "    <tr>\n",
              "      <th>3</th>\n",
              "      <td>Action</td>\n",
              "      <td>50049</td>\n",
              "    </tr>\n",
              "    <tr>\n",
              "      <th>4</th>\n",
              "      <td>Romance</td>\n",
              "      <td>43952</td>\n",
              "    </tr>\n",
              "  </tbody>\n",
              "</table>\n",
              "</div>"
            ],
            "text/plain": [
              "         index  genres_split\n",
              "0        Drama        214519\n",
              "1  Documentary        110439\n",
              "2       Comedy        101496\n",
              "3       Action         50049\n",
              "4      Romance         43952"
            ]
          },
          "execution_count": 93,
          "metadata": {},
          "output_type": "execute_result"
        }
      ],
      "source": [
        "#Nombre de film par genre type movie:\n",
        "data_genres_movie = data_genres[data_genres[\"titleType\"] == \"movie\"]\n",
        "count_genre_movie = data_genres_movie[\"genres_split\"].value_counts().to_frame().reset_index()\n",
        "count_genre_movie.head()"
      ]
    },
    {
      "cell_type": "code",
      "execution_count": null,
      "metadata": {
        "id": "il_mGRL6HZoE",
        "outputId": "11f425a0-5538-473d-851b-f44ef320ef7f"
      },
      "outputs": [
        {
          "data": {
            "image/png": "[encoded data removed]",
            "text/plain": [
              "<Figure size 864x432 with 1 Axes>"
            ]
          },
          "metadata": {
            "needs_background": "light"
          },
          "output_type": "display_data"
        }
      ],
      "source": [
        "# Graphique\n",
        "sns.catplot(data=data_genres_movie,\n",
        "            x=\"genres_split\",\n",
        "            kind=\"count\",\n",
        "            height=6,\n",
        "            aspect=2,\n",
        "            legend=False,\n",
        "            ci=None\n",
        "           ).set(title='Nombre de films type movie par genres',\n",
        "                 ylabel=\"Nb films\",\n",
        "                 xlabel=\"Genre\"\n",
        "                )\n",
        "plt.xticks(rotation=70)\n",
        "plt.tight_layout()\n",
        "# Afficher graph\n",
        "plt.show()"
      ]
    },
    {
      "cell_type": "markdown",
      "metadata": {
        "id": "LgvvICCAxVKj"
      },
      "source": [
        "### Conclusion Table 3 : title.basics.tsv.gz - Titres des films et séries\n",
        "Après exploration et analyse de la table title_basics, nous avons décidé d'exclure les colonnes suivantes dont le nombre de valeurs nulles est important :\n",
        "\n",
        "-  **isAdult**         96,9 %\n",
        "-  **endYear**         99 %\n",
        "\n",
        "D'autre part, nous exclurons de notre sélection la colonne **primaryTitle**, car nous utiliserons les titres français et originaux.\n",
        "\n",
        "Nous opterons pour les films ayant une durée (**runtimeMinutes**) comprise entre 69 et 240 minutes. Les NaN seront exclus.\n",
        "\n",
        "Pour les colonnes suivantes, nous sélectionnerons :\n",
        "-  **genres**    : Drama, Comedy, Romance \n",
        "-  **isAdult**   : filtre excluant les films adultes\n",
        "-  **titleType** : movie\n",
        "-  **startYear** : comprise entre 1950 et 2022\n",
        "\n",
        "Enfin, nous conserverons l'intégralité des colonnes :\n",
        "-  **originalTitle**\n",
        "-  **tconst** (qui servira de clé de jointure)"
      ]
    },
    {
      "cell_type": "code",
      "execution_count": null,
      "metadata": {
        "id": "dVHLp-GbHZoE",
        "outputId": "cc5e07fb-77b3-4985-da56-88fd3bbae950"
      },
      "outputs": [
        {
          "name": "stderr",
          "output_type": "stream",
          "text": [
            "<ipython-input-103-c463d99f4c47>:5: SettingWithCopyWarning: \n",
            "A value is trying to be set on a copy of a slice from a DataFrame.\n",
            "Try using .loc[row_indexer,col_indexer] = value instead\n",
            "\n",
            "See the caveats in the documentation: https://pandas.pydata.org/pandas-docs/stable/user_guide/indexing.html#returning-a-view-versus-a-copy\n",
            "  selection_title_basics['runtimeMinutes'] = pd.to_numeric(selection_title_basics['runtimeMinutes'])\n"
          ]
        }
      ],
      "source": [
        "# selection title basics :\n",
        "\n",
        "selection_title_basics = data_title_basics[data_title_basics[\"titleType\"] == \"movie\"]\n",
        "# passage valeurs runtime en numérique float\n",
        "selection_title_basics['runtimeMinutes'] = pd.to_numeric(selection_title_basics['runtimeMinutes'])\n",
        "selection_title_basics = selection_title_basics[   ((selection_title_basics['startYear'] >= 1950)\n",
        "                              & (selection_title_basics['startYear'] <= 2022))                              \n",
        "                              & (selection_title_basics['isAdult'] == 0)\n",
        "                              & ((selection_title_basics['runtimeMinutes'] > 69)\n",
        "                              & (selection_title_basics['runtimeMinutes'] < 240))\n",
        "                              & (selection_title_basics['genres'].notna())]\n",
        "selection_title_basics = selection_title_basics[[\"tconst\", \"originalTitle\", \"genres\", \"genres_split\", \"runtimeMinutes\", \"startYear\"]]"
      ]
    },
    {
      "cell_type": "code",
      "execution_count": null,
      "metadata": {
        "id": "fBezlyiUHZoF",
        "outputId": "a697063c-a258-4fc1-be97-e990b627e3dc"
      },
      "outputs": [
        {
          "data": {
            "text/html": [
              "<div>\n",
              "<style scoped>\n",
              "    .dataframe tbody tr th:only-of-type {\n",
              "        vertical-align: middle;\n",
              "    }\n",
              "\n",
              "    .dataframe tbody tr th {\n",
              "        vertical-align: top;\n",
              "    }\n",
              "\n",
              "    .dataframe thead th {\n",
              "        text-align: right;\n",
              "    }\n",
              "</style>\n",
              "<table border=\"1\" class=\"dataframe\">\n",
              "  <thead>\n",
              "    <tr style=\"text-align: right;\">\n",
              "      <th></th>\n",
              "      <th>tconst</th>\n",
              "      <th>originalTitle</th>\n",
              "      <th>genres</th>\n",
              "      <th>genres_split</th>\n",
              "      <th>runtimeMinutes</th>\n",
              "      <th>startYear</th>\n",
              "    </tr>\n",
              "  </thead>\n",
              "  <tbody>\n",
              "    <tr>\n",
              "      <th>15487</th>\n",
              "      <td>tt0015724</td>\n",
              "      <td>Dama de noche</td>\n",
              "      <td>Drama,Mystery,Romance</td>\n",
              "      <td>[Drama, Mystery, Romance]</td>\n",
              "      <td>102.0</td>\n",
              "      <td>1993.0</td>\n",
              "    </tr>\n",
              "    <tr>\n",
              "      <th>16657</th>\n",
              "      <td>tt0016906</td>\n",
              "      <td>Frivolinas</td>\n",
              "      <td>Comedy,Musical</td>\n",
              "      <td>[Comedy, Musical]</td>\n",
              "      <td>80.0</td>\n",
              "      <td>2014.0</td>\n",
              "    </tr>\n",
              "    <tr>\n",
              "      <th>21712</th>\n",
              "      <td>tt0022064</td>\n",
              "      <td>Lebbra bianca</td>\n",
              "      <td>Drama</td>\n",
              "      <td>[Drama]</td>\n",
              "      <td>100.0</td>\n",
              "      <td>1951.0</td>\n",
              "    </tr>\n",
              "    <tr>\n",
              "      <th>25117</th>\n",
              "      <td>tt0025557</td>\n",
              "      <td>El negro que tenía el alma blanca</td>\n",
              "      <td>Drama,Musical</td>\n",
              "      <td>[Drama, Musical]</td>\n",
              "      <td>87.0</td>\n",
              "      <td>1951.0</td>\n",
              "    </tr>\n",
              "    <tr>\n",
              "      <th>30454</th>\n",
              "      <td>tt0030998</td>\n",
              "      <td>You're Only Young Twice</td>\n",
              "      <td>Comedy</td>\n",
              "      <td>[Comedy]</td>\n",
              "      <td>81.0</td>\n",
              "      <td>1952.0</td>\n",
              "    </tr>\n",
              "  </tbody>\n",
              "</table>\n",
              "</div>"
            ],
            "text/plain": [
              "          tconst                      originalTitle                 genres  \\\n",
              "15487  tt0015724                      Dama de noche  Drama,Mystery,Romance   \n",
              "16657  tt0016906                         Frivolinas         Comedy,Musical   \n",
              "21712  tt0022064                      Lebbra bianca                  Drama   \n",
              "25117  tt0025557  El negro que tenía el alma blanca          Drama,Musical   \n",
              "30454  tt0030998            You're Only Young Twice                 Comedy   \n",
              "\n",
              "                    genres_split  runtimeMinutes  startYear  \n",
              "15487  [Drama, Mystery, Romance]           102.0     1993.0  \n",
              "16657          [Comedy, Musical]            80.0     2014.0  \n",
              "21712                    [Drama]           100.0     1951.0  \n",
              "25117           [Drama, Musical]            87.0     1951.0  \n",
              "30454                   [Comedy]            81.0     1952.0  "
            ]
          },
          "execution_count": 104,
          "metadata": {},
          "output_type": "execute_result"
        }
      ],
      "source": [
        "selection_title_basics.head()"
      ]
    },
    {
      "cell_type": "code",
      "execution_count": null,
      "metadata": {
        "id": "LqMRpJrHHZoF"
      },
      "outputs": [],
      "source": [
        ""
      ]
    },
    {
      "cell_type": "markdown",
      "metadata": {
        "id": "OLSPxIbW62No"
      },
      "source": [
        "# Table 4 : title.crew.tsv.gz - Réalisateur et scénariste pour chaque titre"
      ]
    },
    {
      "cell_type": "markdown",
      "metadata": {
        "id": "kkopXdUm7SKj"
      },
      "source": [
        "Elle donne les infos suivantes sur le réalisateur et le scénariste pour tous les titres :\n",
        "\n",
        "- tconst (string) = identificateur unique alphanumérique du titre\n",
        "- directors (array of nconsts) = réalisateur(s) du titre donné\n",
        "- writers (array of nconsts) = auteur(s) du titre donné"
      ]
    },
    {
      "cell_type": "code",
      "execution_count": null,
      "metadata": {
        "id": "2WclOaOP6lJU",
        "outputId": "ce45db3c-83b6-45f5-8599-ddb5fdf837ac"
      },
      "outputs": [
        {
          "data": {
            "text/html": [
              "<div>\n",
              "<style scoped>\n",
              "    .dataframe tbody tr th:only-of-type {\n",
              "        vertical-align: middle;\n",
              "    }\n",
              "\n",
              "    .dataframe tbody tr th {\n",
              "        vertical-align: top;\n",
              "    }\n",
              "\n",
              "    .dataframe thead th {\n",
              "        text-align: right;\n",
              "    }\n",
              "</style>\n",
              "<table border=\"1\" class=\"dataframe\">\n",
              "  <thead>\n",
              "    <tr style=\"text-align: right;\">\n",
              "      <th></th>\n",
              "      <th>tconst</th>\n",
              "      <th>directors</th>\n",
              "      <th>writers</th>\n",
              "    </tr>\n",
              "  </thead>\n",
              "  <tbody>\n",
              "    <tr>\n",
              "      <th>0</th>\n",
              "      <td>tt0000001</td>\n",
              "      <td>nm0005690</td>\n",
              "      <td>NaN</td>\n",
              "    </tr>\n",
              "    <tr>\n",
              "      <th>1</th>\n",
              "      <td>tt0000002</td>\n",
              "      <td>nm0721526</td>\n",
              "      <td>NaN</td>\n",
              "    </tr>\n",
              "  </tbody>\n",
              "</table>\n",
              "</div>"
            ],
            "text/plain": [
              "      tconst  directors writers\n",
              "0  tt0000001  nm0005690     NaN\n",
              "1  tt0000002  nm0721526     NaN"
            ]
          },
          "execution_count": 105,
          "metadata": {},
          "output_type": "execute_result"
        }
      ],
      "source": [
        "data_title_crew.head(2)"
      ]
    },
    {
      "cell_type": "code",
      "execution_count": null,
      "metadata": {
        "id": "kTxsPQ7d7uog",
        "outputId": "2ad4d01b-853c-4295-824d-c9fcc3db28e9"
      },
      "outputs": [
        {
          "name": "stdout",
          "output_type": "stream",
          "text": [
            "Nombre de lignes : 8558802\n",
            "Nombre de colonnes : 3\n",
            "\n",
            "<class 'pandas.core.frame.DataFrame'>\n",
            "RangeIndex: 8558802 entries, 0 to 8558801\n",
            "Data columns (total 3 columns):\n",
            " #   Column     Dtype \n",
            "---  ------     ----- \n",
            " 0   tconst     object\n",
            " 1   directors  object\n",
            " 2   writers    object\n",
            "dtypes: object(3)\n",
            "memory usage: 195.9+ MB\n"
          ]
        },
        {
          "data": {
            "text/plain": [
              "(None,\n",
              "             tconst  directors    writers\n",
              " count      8558802    4882381    4365402\n",
              " unique     8558802     834142    1153985\n",
              " top     tt14743824  nm0022750  nm6352729\n",
              " freq             1       6281      11652)"
            ]
          },
          "execution_count": 106,
          "metadata": {},
          "output_type": "execute_result"
        }
      ],
      "source": [
        "info_df(data_title_crew) "
      ]
    },
    {
      "cell_type": "code",
      "execution_count": null,
      "metadata": {
        "id": "WopzRFi-7xZt",
        "outputId": "f9b66c81-4fff-4748-9627-53ee48338832"
      },
      "outputs": [
        {
          "name": "stdout",
          "output_type": "stream",
          "text": [
            "\n",
            "Nombre total de valeurs nulles : \n",
            "7869821\n",
            "\n",
            "Nombre de valeurs nulles par colonnes :\n",
            "\n",
            "tconst             0\n",
            "directors    3676421\n",
            "writers      4193400\n",
            "dtype: int64\n"
          ]
        }
      ],
      "source": [
        "info_na(data_title_crew)"
      ]
    },
    {
      "cell_type": "code",
      "execution_count": null,
      "metadata": {
        "colab": {
          "base_uri": "https://localhost:8080/"
        },
        "outputId": "648057ca-d6ca-4d41-d497-4fb964054569",
        "id": "S7M76O3xHZoG"
      },
      "outputs": [
        {
          "name": "stdout",
          "output_type": "stream",
          "text": [
            "Le pourcentage de réalisateurs est de : 57.05 %.\n"
          ]
        }
      ],
      "source": [
        "pourcentage_dir = round((((data_title_crew['directors'].notna()).sum() / len(data_title_crew)) * 100), 2)\n",
        "print(f\"Le pourcentage de réalisateurs est de :\", pourcentage_dir,\"%.\")"
      ]
    },
    {
      "cell_type": "code",
      "execution_count": null,
      "metadata": {
        "colab": {
          "base_uri": "https://localhost:8080/",
          "height": 412
        },
        "outputId": "891b44b2-d692-4d37-b6f6-dbad6f2d399c",
        "id": "DD3gQ09mHZoG"
      },
      "outputs": [
        {
          "data": {
            "image/png": "[encoded data removed]",
            "text/plain": [
              "<Figure size 864x504 with 1 Axes>"
            ]
          },
          "metadata": {},
          "output_type": "display_data"
        }
      ],
      "source": [
        "labels = 'Est réalisteur', \"N'est pas réalisateur\"\n",
        "sizes = [pourcentage_dir, (100 - pourcentage_dir)]\n",
        "explode = (0, 0.05)\n",
        "\n",
        "fig1, ax1 = plt.subplots()\n",
        "ax1.pie(sizes, explode=explode, labels=labels, autopct='%1.1f%%',\n",
        "        shadow=True, startangle=90)\n",
        "ax1.axis('equal')\n",
        "\n",
        "plt.show()"
      ]
    },
    {
      "cell_type": "code",
      "execution_count": null,
      "metadata": {
        "colab": {
          "base_uri": "https://localhost:8080/"
        },
        "outputId": "648057ca-d6ca-4d41-d497-4fb964054569",
        "id": "6S7SDT3KHZoG"
      },
      "outputs": [
        {
          "name": "stdout",
          "output_type": "stream",
          "text": [
            "Le pourcentage d'auteurs est de : 51.0 %.\n"
          ]
        }
      ],
      "source": [
        "pourcentage_wri = round((((data_title_crew['writers'].notna()).sum() / len(data_title_crew)) * 100), 2)\n",
        "print(f\"Le pourcentage d'auteurs est de :\", pourcentage_wri,\"%.\")"
      ]
    },
    {
      "cell_type": "code",
      "execution_count": null,
      "metadata": {
        "colab": {
          "base_uri": "https://localhost:8080/",
          "height": 412
        },
        "outputId": "891b44b2-d692-4d37-b6f6-dbad6f2d399c",
        "id": "NmL60f7oHZoG"
      },
      "outputs": [
        {
          "data": {
            "image/png": "[encoded data removed]",
            "text/plain": [
              "<Figure size 864x504 with 1 Axes>"
            ]
          },
          "metadata": {},
          "output_type": "display_data"
        }
      ],
      "source": [
        "labels = 'Est auteur', \"N'est pas auteur\"\n",
        "sizes = [pourcentage_wri, (100 - pourcentage_wri)]\n",
        "explode = (0, 0.05)\n",
        "\n",
        "fig1, ax1 = plt.subplots()\n",
        "ax1.pie(sizes, explode=explode, labels=labels, autopct='%1.1f%%',\n",
        "        shadow=True, startangle=90)\n",
        "ax1.axis('equal')\n",
        "\n",
        "plt.show()"
      ]
    },
    {
      "cell_type": "code",
      "execution_count": null,
      "metadata": {
        "id": "9kaxrslp8pdC"
      },
      "outputs": [],
      "source": [
        "# Check si les colonnes \"directors\" et \"writers\" ont des valeurs nulles :\n",
        "\n",
        "crew_null = data_title_crew[(data_title_crew.directors.isnull()) & (data_title_crew.writers.isnull())]"
      ]
    },
    {
      "cell_type": "code",
      "execution_count": null,
      "metadata": {
        "id": "YMhBdACr8vzC",
        "outputId": "58f9b683-1892-4aac-84bb-270af7f8189e"
      },
      "outputs": [
        {
          "name": "stdout",
          "output_type": "stream",
          "text": [
            "Nb lignes : 3059777\n"
          ]
        }
      ],
      "source": [
        "print(\"Nb lignes :\", len(crew_null))"
      ]
    },
    {
      "cell_type": "code",
      "execution_count": null,
      "metadata": {
        "id": "iUL5dx7S87zs",
        "outputId": "fd8c9877-7c7b-401e-e068-82f07edac8df"
      },
      "outputs": [
        {
          "data": {
            "text/html": [
              "<div>\n",
              "<style scoped>\n",
              "    .dataframe tbody tr th:only-of-type {\n",
              "        vertical-align: middle;\n",
              "    }\n",
              "\n",
              "    .dataframe tbody tr th {\n",
              "        vertical-align: top;\n",
              "    }\n",
              "\n",
              "    .dataframe thead th {\n",
              "        text-align: right;\n",
              "    }\n",
              "</style>\n",
              "<table border=\"1\" class=\"dataframe\">\n",
              "  <thead>\n",
              "    <tr style=\"text-align: right;\">\n",
              "      <th></th>\n",
              "      <th>tconst</th>\n",
              "      <th>directors</th>\n",
              "      <th>writers</th>\n",
              "    </tr>\n",
              "  </thead>\n",
              "  <tbody>\n",
              "    <tr>\n",
              "      <th>37</th>\n",
              "      <td>tt0000039</td>\n",
              "      <td>NaN</td>\n",
              "      <td>NaN</td>\n",
              "    </tr>\n",
              "  </tbody>\n",
              "</table>\n",
              "</div>"
            ],
            "text/plain": [
              "       tconst directors writers\n",
              "37  tt0000039       NaN     NaN"
            ]
          },
          "execution_count": 114,
          "metadata": {},
          "output_type": "execute_result"
        }
      ],
      "source": [
        "crew_null.head(1)"
      ]
    },
    {
      "cell_type": "code",
      "execution_count": null,
      "metadata": {
        "id": "u32BRPMZHZoH",
        "outputId": "8b40a5bf-8914-4893-a04a-49ef679978de"
      },
      "outputs": [
        {
          "name": "stdout",
          "output_type": "stream",
          "text": [
            "Le pourcentage de doublons est de : 0.0 %.\n"
          ]
        }
      ],
      "source": [
        "pourcentage_doublon_crew= round(((data_title_crew[\"tconst\"].duplicated().sum()) / len(data_title_crew) * 100), 2)\n",
        "print(f\"Le pourcentage de doublons est de :\", pourcentage_doublon_crew,\"%.\")"
      ]
    },
    {
      "cell_type": "code",
      "execution_count": null,
      "metadata": {
        "id": "5UvMp1fO8-Gm"
      },
      "outputs": [],
      "source": [
        "# Sélection des cellules \"directors\" et \"writers\" non nulles :\n",
        "\n",
        "selection_crew = data_title_crew[(data_title_crew.directors.notnull())]"
      ]
    },
    {
      "cell_type": "code",
      "execution_count": null,
      "metadata": {
        "id": "obrbg5sr9JwS",
        "outputId": "c36bc06f-e35d-4eb5-c18b-8f5f5cae5016"
      },
      "outputs": [
        {
          "name": "stdout",
          "output_type": "stream",
          "text": [
            "Nb lignes : 4882381\n"
          ]
        }
      ],
      "source": [
        "print(\"Nb lignes :\", len(selection_crew))"
      ]
    },
    {
      "cell_type": "code",
      "execution_count": null,
      "metadata": {
        "id": "EbmoksuR9MZ3",
        "outputId": "db298867-c401-4044-e9e8-cad90fbe521c"
      },
      "outputs": [
        {
          "data": {
            "text/html": [
              "<div>\n",
              "<style scoped>\n",
              "    .dataframe tbody tr th:only-of-type {\n",
              "        vertical-align: middle;\n",
              "    }\n",
              "\n",
              "    .dataframe tbody tr th {\n",
              "        vertical-align: top;\n",
              "    }\n",
              "\n",
              "    .dataframe thead th {\n",
              "        text-align: right;\n",
              "    }\n",
              "</style>\n",
              "<table border=\"1\" class=\"dataframe\">\n",
              "  <thead>\n",
              "    <tr style=\"text-align: right;\">\n",
              "      <th></th>\n",
              "      <th>tconst</th>\n",
              "      <th>directors</th>\n",
              "      <th>writers</th>\n",
              "    </tr>\n",
              "  </thead>\n",
              "  <tbody>\n",
              "    <tr>\n",
              "      <th>0</th>\n",
              "      <td>tt0000001</td>\n",
              "      <td>nm0005690</td>\n",
              "      <td>NaN</td>\n",
              "    </tr>\n",
              "  </tbody>\n",
              "</table>\n",
              "</div>"
            ],
            "text/plain": [
              "      tconst  directors writers\n",
              "0  tt0000001  nm0005690     NaN"
            ]
          },
          "execution_count": 118,
          "metadata": {},
          "output_type": "execute_result"
        }
      ],
      "source": [
        "# sélection des films \n",
        "selection_crew.head(1)"
      ]
    },
    {
      "cell_type": "code",
      "execution_count": null,
      "metadata": {
        "id": "VuFswnyaHZoH"
      },
      "outputs": [],
      "source": [
        "# Comptage des régions par film avec \"groupby\" sera à joindre au df final :\n",
        "\n",
        "compte_dir_crew = selection_crew.groupby([\"tconst\"])[\"directors\"].size().reset_index().rename(columns = {\"directors\" : \"nb_director\"})"
      ]
    },
    {
      "cell_type": "code",
      "execution_count": null,
      "metadata": {
        "id": "qgVPBqSJHZoI",
        "outputId": "311b1ad5-f1ab-4846-af3c-b5c0d637af7e"
      },
      "outputs": [
        {
          "data": {
            "text/html": [
              "<div>\n",
              "<style scoped>\n",
              "    .dataframe tbody tr th:only-of-type {\n",
              "        vertical-align: middle;\n",
              "    }\n",
              "\n",
              "    .dataframe tbody tr th {\n",
              "        vertical-align: top;\n",
              "    }\n",
              "\n",
              "    .dataframe thead th {\n",
              "        text-align: right;\n",
              "    }\n",
              "</style>\n",
              "<table border=\"1\" class=\"dataframe\">\n",
              "  <thead>\n",
              "    <tr style=\"text-align: right;\">\n",
              "      <th></th>\n",
              "      <th>tconst</th>\n",
              "      <th>nb_director</th>\n",
              "    </tr>\n",
              "  </thead>\n",
              "  <tbody>\n",
              "    <tr>\n",
              "      <th>0</th>\n",
              "      <td>tt0000001</td>\n",
              "      <td>1</td>\n",
              "    </tr>\n",
              "  </tbody>\n",
              "</table>\n",
              "</div>"
            ],
            "text/plain": [
              "      tconst  nb_director\n",
              "0  tt0000001            1"
            ]
          },
          "execution_count": 120,
          "metadata": {},
          "output_type": "execute_result"
        }
      ],
      "source": [
        "# Filtre sur les réal présents\n",
        "nb_director_crew = compte_dir_crew[compte_dir_crew[\"nb_director\"]> 0]\n",
        "nb_director_crew.head(1)"
      ]
    },
    {
      "cell_type": "markdown",
      "metadata": {
        "id": "fSpHtn1PHZoI"
      },
      "source": [
        "### Conclusion Table 4 : title.crew.tsv.gz - Réalisateur et scénariste pour chaque titre\n",
        "\n",
        "Après exploration et analyse de la table title_crew, nous avons décidé de conserver cette table avec la selection des valeurs non nulles **directors**.\n",
        "\n",
        "Nous conserverons la colonne **tconst**, et exclurons la colonne **writers**.\n",
        "\n",
        "Cette table permettra de connaître le réalisateur de chaque film, par une jointure des tconst."
      ]
    },
    {
      "cell_type": "code",
      "execution_count": null,
      "metadata": {
        "id": "2sjoNWvIHZoI"
      },
      "outputs": [],
      "source": [
        "# Sélection df final table crew\n",
        "selection_crew = selection_crew[[\"tconst\", \"directors\"]]"
      ]
    },
    {
      "cell_type": "markdown",
      "metadata": {
        "id": "09TEiGi4T-IY"
      },
      "source": [
        "# Table 5 : title.episode.tsv.gz - Titres des épisodes de séries"
      ]
    },
    {
      "cell_type": "markdown",
      "metadata": {
        "id": "uwoy2JS4XSeX"
      },
      "source": [
        "Elle donne les infos suivantes sur les épisodes tv :\n",
        "- tconst (string) = identificateur alphanumérique de l’épisode\n",
        "- parentTconst (string) = identificateur alphanumérique de la série télévisée parente\n",
        "- seasonNumber (integer) = numéro de saison auquel appartient l’épisode\n",
        "- episodeNumber (integer) = numéro d’épisode du tconst dans la série télévisée"
      ]
    },
    {
      "cell_type": "code",
      "execution_count": null,
      "metadata": {
        "id": "QrplD-tf-kuZ",
        "outputId": "b74deed1-86ad-4bf6-8868-9f76a7230d96"
      },
      "outputs": [
        {
          "name": "stdout",
          "output_type": "stream",
          "text": [
            "Nombre de lignes : 6386757\n",
            "Nombre de colonnes : 4\n",
            "\n",
            "<class 'pandas.core.frame.DataFrame'>\n",
            "RangeIndex: 6386757 entries, 0 to 6386756\n",
            "Data columns (total 4 columns):\n",
            " #   Column         Dtype  \n",
            "---  ------         -----  \n",
            " 0   tconst         object \n",
            " 1   parentTconst   object \n",
            " 2   seasonNumber   float64\n",
            " 3   episodeNumber  float64\n",
            "dtypes: float64(2), object(2)\n",
            "memory usage: 194.9+ MB\n"
          ]
        },
        {
          "data": {
            "text/plain": [
              "(None,\n",
              "        seasonNumber  episodeNumber\n",
              " count  5.019226e+06   5.019226e+06\n",
              " mean   3.806406e+00   3.606998e+02\n",
              " std    2.519345e+01   1.244227e+03\n",
              " min    1.000000e+00   0.000000e+00\n",
              " 25%    1.000000e+00   7.000000e+00\n",
              " 50%    1.000000e+00   2.400000e+01\n",
              " 75%    3.000000e+00   1.310000e+02\n",
              " max    2.021000e+03   9.133400e+04)"
            ]
          },
          "execution_count": 122,
          "metadata": {},
          "output_type": "execute_result"
        }
      ],
      "source": [
        "info_df(data_title_episode)"
      ]
    },
    {
      "cell_type": "markdown",
      "metadata": {
        "id": "j8a8_Y-2HZoI"
      },
      "source": [
        "### Conclusion Table 5 : title.episode.tsv.gz - Titres des épisodes de séries\n",
        "\n",
        "Nous avons pris la décision de ne pas exploiter cette table car elle ne nous servira pas pour notre sélection.\n",
        "\n",
        "En effet, cette table se concentre sur les séries et non sur les films.\n"
      ]
    },
    {
      "cell_type": "markdown",
      "metadata": {
        "id": "mHpeXCrYEH5b"
      },
      "source": [
        "# Table 6 : title.principals.tsv.gz - Distribution/équipe par titre"
      ]
    },
    {
      "cell_type": "markdown",
      "metadata": {
        "id": "AtRUXIhfEVX-"
      },
      "source": [
        "Elle donne les infos suivantes sur la distribution/l’équipe principale des titres :\n",
        "- tconst (string) = identificateur unique alphanumérique du titre\n",
        "- ordering (integer) = nombre permettant d’identifier de manière unique les lignes pour un titleId donné\n",
        "- nconst (string) = identificateur unique alphanumérique du nom/de la personne\n",
        "- category (string) = catégorie d’emploi dans laquelle cette personne se trouvait\n",
        "- job (string) = titre spécifique du poste, le cas échéant, sinon '\\N'\n",
        "-characters (string) = nom du personnage joué le cas échéant, sinon '\\N'"
      ]
    },
    {
      "cell_type": "markdown",
      "metadata": {
        "id": "mZvkbUp1HZoJ"
      },
      "source": [
        "#### Objectifs:\n",
        "*  Récupérer les acteurs, actrices, self et réalisateurs de chaque film\n",
        "*  Compter le nombre de films dans lesquels ils ont participé"
      ]
    },
    {
      "cell_type": "code",
      "execution_count": null,
      "metadata": {
        "id": "gABlBf_HHZoJ",
        "outputId": "55fce831-fb3d-4eb8-fc0e-0e685edbcaef"
      },
      "outputs": [
        {
          "data": {
            "text/html": [
              "<div>\n",
              "<style scoped>\n",
              "    .dataframe tbody tr th:only-of-type {\n",
              "        vertical-align: middle;\n",
              "    }\n",
              "\n",
              "    .dataframe tbody tr th {\n",
              "        vertical-align: top;\n",
              "    }\n",
              "\n",
              "    .dataframe thead th {\n",
              "        text-align: right;\n",
              "    }\n",
              "</style>\n",
              "<table border=\"1\" class=\"dataframe\">\n",
              "  <thead>\n",
              "    <tr style=\"text-align: right;\">\n",
              "      <th></th>\n",
              "      <th>tconst</th>\n",
              "      <th>ordering</th>\n",
              "      <th>nconst</th>\n",
              "      <th>category</th>\n",
              "      <th>job</th>\n",
              "      <th>characters</th>\n",
              "    </tr>\n",
              "  </thead>\n",
              "  <tbody>\n",
              "    <tr>\n",
              "      <th>0</th>\n",
              "      <td>tt0000001</td>\n",
              "      <td>1</td>\n",
              "      <td>nm1588970</td>\n",
              "      <td>self</td>\n",
              "      <td>NaN</td>\n",
              "      <td>[\"Self\"]</td>\n",
              "    </tr>\n",
              "    <tr>\n",
              "      <th>1</th>\n",
              "      <td>tt0000001</td>\n",
              "      <td>2</td>\n",
              "      <td>nm0005690</td>\n",
              "      <td>director</td>\n",
              "      <td>NaN</td>\n",
              "      <td>NaN</td>\n",
              "    </tr>\n",
              "  </tbody>\n",
              "</table>\n",
              "</div>"
            ],
            "text/plain": [
              "      tconst  ordering     nconst  category  job characters\n",
              "0  tt0000001         1  nm1588970      self  NaN   [\"Self\"]\n",
              "1  tt0000001         2  nm0005690  director  NaN        NaN"
            ]
          },
          "execution_count": 123,
          "metadata": {},
          "output_type": "execute_result"
        }
      ],
      "source": [
        "data_title_principals.head(2)"
      ]
    },
    {
      "cell_type": "code",
      "execution_count": null,
      "metadata": {
        "id": "nMwNfG2JEBVO",
        "outputId": "3cf46826-a552-45d8-d656-04687312260f"
      },
      "outputs": [
        {
          "name": "stdout",
          "output_type": "stream",
          "text": [
            "Nombre de lignes : 48121496\n",
            "Nombre de colonnes : 6\n",
            "\n",
            "<class 'pandas.core.frame.DataFrame'>\n",
            "RangeIndex: 48121496 entries, 0 to 48121495\n",
            "Data columns (total 6 columns):\n",
            " #   Column      Dtype \n",
            "---  ------      ----- \n",
            " 0   tconst      object\n",
            " 1   ordering    int64 \n",
            " 2   nconst      object\n",
            " 3   category    object\n",
            " 4   job         object\n",
            " 5   characters  object\n",
            "dtypes: int64(1), object(5)\n",
            "memory usage: 2.2+ GB\n"
          ]
        },
        {
          "data": {
            "text/plain": [
              "(None,\n",
              "            ordering\n",
              " count  4.812150e+07\n",
              " mean   4.582720e+00\n",
              " std    2.776680e+00\n",
              " min    1.000000e+00\n",
              " 25%    2.000000e+00\n",
              " 50%    4.000000e+00\n",
              " 75%    7.000000e+00\n",
              " max    1.000000e+01)"
            ]
          },
          "execution_count": 124,
          "metadata": {},
          "output_type": "execute_result"
        }
      ],
      "source": [
        "info_df(data_title_principals)"
      ]
    },
    {
      "cell_type": "code",
      "execution_count": null,
      "metadata": {
        "id": "8uSYVhZPHZoJ",
        "outputId": "7afdaf69-a4e1-4eaa-ad39-9bcefb48e1a0"
      },
      "outputs": [
        {
          "name": "stdout",
          "output_type": "stream",
          "text": [
            "\n",
            "Nombre total de valeurs nulles : \n",
            "64650316\n",
            "\n",
            "Nombre de valeurs nulles par colonnes :\n",
            "\n",
            "tconst               0\n",
            "ordering             0\n",
            "nconst               0\n",
            "category             0\n",
            "job           40293947\n",
            "characters    24356369\n",
            "dtype: int64\n"
          ]
        }
      ],
      "source": [
        "info_na(data_title_principals)"
      ]
    },
    {
      "cell_type": "code",
      "execution_count": null,
      "metadata": {
        "id": "HmswQ891HZoJ",
        "outputId": "ff52f1fa-fa68-487c-d41d-b6945be1d1ed"
      },
      "outputs": [
        {
          "name": "stdout",
          "output_type": "stream",
          "text": [
            "On a 83.73 % de valeurs NaN.\n",
            "Cette colonne ne nous servira pas car trop incomplète\n"
          ]
        }
      ],
      "source": [
        "# Colonne job\n",
        "# Calcul du pourcentage de NaN :\n",
        "job_na = round((data_title_principals[\"job\"].isna().sum() / len(data_title_principals))*100, 2)\n",
        "print(f\"On a\", job_na, \"% de valeurs NaN.\")\n",
        "print(\"Cette colonne ne nous servira pas car trop incomplète\")"
      ]
    },
    {
      "cell_type": "code",
      "execution_count": null,
      "metadata": {
        "id": "YcsS_apvHZoK",
        "outputId": "33109306-708c-4512-dee1-cdd421defda3"
      },
      "outputs": [
        {
          "name": "stdout",
          "output_type": "stream",
          "text": [
            "On a 50.61 % de valeurs NaN.\n",
            "Cette colonne ne nous servira pas car trop incomplète\n"
          ]
        }
      ],
      "source": [
        "# Colonne characters\n",
        "# Calcul du pourcentage de NaN :\n",
        "characters_na = round((data_title_principals[\"characters\"].isna().sum() / len(data_title_principals))*100, 2)\n",
        "print(f\"On a\", characters_na, \"% de valeurs NaN.\")\n",
        "print(\"Cette colonne ne nous servira pas car trop incomplète\")"
      ]
    },
    {
      "cell_type": "code",
      "execution_count": null,
      "metadata": {
        "id": "KaUA_2T7GI8U"
      },
      "outputs": [],
      "source": [
        "# Pour notre sélection, nous utilisons la colonne category afin de cibler puis compter les différents rôles\n",
        "# Ajout nouvelles colonnes, on fera la somme des True director, actress, actor, self indiquant le rôle de l'individu\n",
        "\n",
        "data_title_principals['director'] = np.where((data_title_principals[\"category\"] == 'director'), 1, 0)\n",
        "data_title_principals['actor'] = np.where((data_title_principals[\"category\"] == 'actor'), 1, 0)\n",
        "data_title_principals['actress'] = np.where((data_title_principals[\"category\"] == 'actress'), 1, 0)\n",
        "data_title_principals['self'] = np.where((data_title_principals[\"category\"] == 'self'), 1, 0)"
      ]
    },
    {
      "cell_type": "code",
      "execution_count": null,
      "metadata": {
        "id": "NL-wsgG3GQe6",
        "outputId": "9223d6fe-5b7f-4cfe-ee5c-1f2e3f563018"
      },
      "outputs": [
        {
          "data": {
            "text/html": [
              "<div>\n",
              "<style scoped>\n",
              "    .dataframe tbody tr th:only-of-type {\n",
              "        vertical-align: middle;\n",
              "    }\n",
              "\n",
              "    .dataframe tbody tr th {\n",
              "        vertical-align: top;\n",
              "    }\n",
              "\n",
              "    .dataframe thead th {\n",
              "        text-align: right;\n",
              "    }\n",
              "</style>\n",
              "<table border=\"1\" class=\"dataframe\">\n",
              "  <thead>\n",
              "    <tr style=\"text-align: right;\">\n",
              "      <th></th>\n",
              "      <th>tconst</th>\n",
              "      <th>ordering</th>\n",
              "      <th>nconst</th>\n",
              "      <th>category</th>\n",
              "      <th>job</th>\n",
              "      <th>characters</th>\n",
              "      <th>director</th>\n",
              "      <th>actor</th>\n",
              "      <th>actress</th>\n",
              "      <th>self</th>\n",
              "    </tr>\n",
              "  </thead>\n",
              "  <tbody>\n",
              "    <tr>\n",
              "      <th>0</th>\n",
              "      <td>tt0000001</td>\n",
              "      <td>1</td>\n",
              "      <td>nm1588970</td>\n",
              "      <td>self</td>\n",
              "      <td>NaN</td>\n",
              "      <td>[\"Self\"]</td>\n",
              "      <td>0</td>\n",
              "      <td>0</td>\n",
              "      <td>0</td>\n",
              "      <td>1</td>\n",
              "    </tr>\n",
              "    <tr>\n",
              "      <th>1</th>\n",
              "      <td>tt0000001</td>\n",
              "      <td>2</td>\n",
              "      <td>nm0005690</td>\n",
              "      <td>director</td>\n",
              "      <td>NaN</td>\n",
              "      <td>NaN</td>\n",
              "      <td>1</td>\n",
              "      <td>0</td>\n",
              "      <td>0</td>\n",
              "      <td>0</td>\n",
              "    </tr>\n",
              "  </tbody>\n",
              "</table>\n",
              "</div>"
            ],
            "text/plain": [
              "      tconst  ordering     nconst  category  job characters  director  actor  \\\n",
              "0  tt0000001         1  nm1588970      self  NaN   [\"Self\"]         0      0   \n",
              "1  tt0000001         2  nm0005690  director  NaN        NaN         1      0   \n",
              "\n",
              "   actress  self  \n",
              "0        0     1  \n",
              "1        0     0  "
            ]
          },
          "execution_count": 129,
          "metadata": {},
          "output_type": "execute_result"
        }
      ],
      "source": [
        "data_title_principals.head(2)"
      ]
    },
    {
      "cell_type": "code",
      "execution_count": null,
      "metadata": {
        "id": "-pZuCJYJJvcB",
        "outputId": "096f1797-9604-4e72-efc3-064ddb347200"
      },
      "outputs": [
        {
          "data": {
            "text/html": [
              "<div>\n",
              "<style scoped>\n",
              "    .dataframe tbody tr th:only-of-type {\n",
              "        vertical-align: middle;\n",
              "    }\n",
              "\n",
              "    .dataframe tbody tr th {\n",
              "        vertical-align: top;\n",
              "    }\n",
              "\n",
              "    .dataframe thead th {\n",
              "        text-align: right;\n",
              "    }\n",
              "</style>\n",
              "<table border=\"1\" class=\"dataframe\">\n",
              "  <thead>\n",
              "    <tr style=\"text-align: right;\">\n",
              "      <th></th>\n",
              "      <th>tconst</th>\n",
              "      <th>nb_director</th>\n",
              "    </tr>\n",
              "  </thead>\n",
              "  <tbody>\n",
              "    <tr>\n",
              "      <th>0</th>\n",
              "      <td>tt0000001</td>\n",
              "      <td>1</td>\n",
              "    </tr>\n",
              "  </tbody>\n",
              "</table>\n",
              "</div>"
            ],
            "text/plain": [
              "      tconst  nb_director\n",
              "0  tt0000001            1"
            ]
          },
          "execution_count": 130,
          "metadata": {},
          "output_type": "execute_result"
        }
      ],
      "source": [
        "# Nombre de réalisateurs par film :\n",
        "\n",
        "nb_director = data_title_principals.groupby([\"tconst\"])[\"director\"].sum().reset_index().rename(columns={\"director\":'nb_director'})\n",
        "nb_director.head(1)"
      ]
    },
    {
      "cell_type": "code",
      "execution_count": null,
      "metadata": {
        "id": "tT7pOcg-HZoL",
        "outputId": "4679e60d-acf3-479f-a681-a920dc0bb643"
      },
      "outputs": [
        {
          "data": {
            "text/html": [
              "<div>\n",
              "<style scoped>\n",
              "    .dataframe tbody tr th:only-of-type {\n",
              "        vertical-align: middle;\n",
              "    }\n",
              "\n",
              "    .dataframe tbody tr th {\n",
              "        vertical-align: top;\n",
              "    }\n",
              "\n",
              "    .dataframe thead th {\n",
              "        text-align: right;\n",
              "    }\n",
              "</style>\n",
              "<table border=\"1\" class=\"dataframe\">\n",
              "  <thead>\n",
              "    <tr style=\"text-align: right;\">\n",
              "      <th></th>\n",
              "      <th>tconst</th>\n",
              "      <th>nb_director</th>\n",
              "    </tr>\n",
              "  </thead>\n",
              "  <tbody>\n",
              "    <tr>\n",
              "      <th>0</th>\n",
              "      <td>tt0000001</td>\n",
              "      <td>1</td>\n",
              "    </tr>\n",
              "  </tbody>\n",
              "</table>\n",
              "</div>"
            ],
            "text/plain": [
              "      tconst  nb_director\n",
              "0  tt0000001            1"
            ]
          },
          "execution_count": 131,
          "metadata": {},
          "output_type": "execute_result"
        }
      ],
      "source": [
        "# Filtre sur les réal présents\n",
        "nb_director = nb_director[nb_director[\"nb_director\" ]> 0]\n",
        "nb_director.head(1)"
      ]
    },
    {
      "cell_type": "code",
      "execution_count": null,
      "metadata": {
        "id": "NfKsGxd5J-pL",
        "outputId": "7c7c4c52-590d-4476-e929-559b6f486039"
      },
      "outputs": [
        {
          "data": {
            "text/html": [
              "<div>\n",
              "<style scoped>\n",
              "    .dataframe tbody tr th:only-of-type {\n",
              "        vertical-align: middle;\n",
              "    }\n",
              "\n",
              "    .dataframe tbody tr th {\n",
              "        vertical-align: top;\n",
              "    }\n",
              "\n",
              "    .dataframe thead th {\n",
              "        text-align: right;\n",
              "    }\n",
              "</style>\n",
              "<table border=\"1\" class=\"dataframe\">\n",
              "  <thead>\n",
              "    <tr style=\"text-align: right;\">\n",
              "      <th></th>\n",
              "      <th>tconst</th>\n",
              "      <th>nb_actor</th>\n",
              "    </tr>\n",
              "  </thead>\n",
              "  <tbody>\n",
              "    <tr>\n",
              "      <th>0</th>\n",
              "      <td>tt0000001</td>\n",
              "      <td>0</td>\n",
              "    </tr>\n",
              "  </tbody>\n",
              "</table>\n",
              "</div>"
            ],
            "text/plain": [
              "      tconst  nb_actor\n",
              "0  tt0000001         0"
            ]
          },
          "execution_count": 132,
          "metadata": {},
          "output_type": "execute_result"
        }
      ],
      "source": [
        "# Nbre d'acteurs par film :\n",
        "\n",
        "nb_actor = data_title_principals.groupby([\"tconst\"])[\"actor\"].sum().reset_index().rename(columns = {\"actor\" : 'nb_actor'})\n",
        "nb_actor.head(1)"
      ]
    },
    {
      "cell_type": "code",
      "execution_count": null,
      "metadata": {
        "id": "hPy2GcKJKNmc",
        "outputId": "12a46bad-891f-4bce-9450-abc3f3f14969"
      },
      "outputs": [
        {
          "data": {
            "text/html": [
              "<div>\n",
              "<style scoped>\n",
              "    .dataframe tbody tr th:only-of-type {\n",
              "        vertical-align: middle;\n",
              "    }\n",
              "\n",
              "    .dataframe tbody tr th {\n",
              "        vertical-align: top;\n",
              "    }\n",
              "\n",
              "    .dataframe thead th {\n",
              "        text-align: right;\n",
              "    }\n",
              "</style>\n",
              "<table border=\"1\" class=\"dataframe\">\n",
              "  <thead>\n",
              "    <tr style=\"text-align: right;\">\n",
              "      <th></th>\n",
              "      <th>tconst</th>\n",
              "      <th>nb_actor</th>\n",
              "    </tr>\n",
              "  </thead>\n",
              "  <tbody>\n",
              "    <tr>\n",
              "      <th>4</th>\n",
              "      <td>tt0000005</td>\n",
              "      <td>2</td>\n",
              "    </tr>\n",
              "  </tbody>\n",
              "</table>\n",
              "</div>"
            ],
            "text/plain": [
              "      tconst  nb_actor\n",
              "4  tt0000005         2"
            ]
          },
          "execution_count": 133,
          "metadata": {},
          "output_type": "execute_result"
        }
      ],
      "source": [
        "# Filtre sur les acteurs présents\n",
        "nb_actor = nb_actor[nb_actor[\"nb_actor\" ] > 0]\n",
        "nb_actor.head(1)"
      ]
    },
    {
      "cell_type": "code",
      "execution_count": null,
      "metadata": {
        "id": "0PYkMj49KZQN",
        "outputId": "b009c653-4222-4d63-9305-ec7b9ecb722d"
      },
      "outputs": [
        {
          "data": {
            "text/html": [
              "<div>\n",
              "<style scoped>\n",
              "    .dataframe tbody tr th:only-of-type {\n",
              "        vertical-align: middle;\n",
              "    }\n",
              "\n",
              "    .dataframe tbody tr th {\n",
              "        vertical-align: top;\n",
              "    }\n",
              "\n",
              "    .dataframe thead th {\n",
              "        text-align: right;\n",
              "    }\n",
              "</style>\n",
              "<table border=\"1\" class=\"dataframe\">\n",
              "  <thead>\n",
              "    <tr style=\"text-align: right;\">\n",
              "      <th></th>\n",
              "      <th>tconst</th>\n",
              "      <th>nb_actress</th>\n",
              "    </tr>\n",
              "  </thead>\n",
              "  <tbody>\n",
              "    <tr>\n",
              "      <th>0</th>\n",
              "      <td>tt0000001</td>\n",
              "      <td>0</td>\n",
              "    </tr>\n",
              "  </tbody>\n",
              "</table>\n",
              "</div>"
            ],
            "text/plain": [
              "      tconst  nb_actress\n",
              "0  tt0000001           0"
            ]
          },
          "execution_count": 134,
          "metadata": {},
          "output_type": "execute_result"
        }
      ],
      "source": [
        "# Nbre d'actrices par film :\n",
        "\n",
        "nb_actress = data_title_principals.groupby([\"tconst\"])[\"actress\"].sum().reset_index().rename(columns={\"actress\":'nb_actress'})\n",
        "nb_actress.head(1)"
      ]
    },
    {
      "cell_type": "code",
      "execution_count": null,
      "metadata": {
        "id": "he50uMc5KdE7",
        "outputId": "c4c5a557-e7ed-4959-830f-5f81d31b40ea"
      },
      "outputs": [
        {
          "data": {
            "text/html": [
              "<div>\n",
              "<style scoped>\n",
              "    .dataframe tbody tr th:only-of-type {\n",
              "        vertical-align: middle;\n",
              "    }\n",
              "\n",
              "    .dataframe tbody tr th {\n",
              "        vertical-align: top;\n",
              "    }\n",
              "\n",
              "    .dataframe thead th {\n",
              "        text-align: right;\n",
              "    }\n",
              "</style>\n",
              "<table border=\"1\" class=\"dataframe\">\n",
              "  <thead>\n",
              "    <tr style=\"text-align: right;\">\n",
              "      <th></th>\n",
              "      <th>tconst</th>\n",
              "      <th>nb_actress</th>\n",
              "    </tr>\n",
              "  </thead>\n",
              "  <tbody>\n",
              "    <tr>\n",
              "      <th>8</th>\n",
              "      <td>tt0000009</td>\n",
              "      <td>1</td>\n",
              "    </tr>\n",
              "  </tbody>\n",
              "</table>\n",
              "</div>"
            ],
            "text/plain": [
              "      tconst  nb_actress\n",
              "8  tt0000009           1"
            ]
          },
          "execution_count": 135,
          "metadata": {},
          "output_type": "execute_result"
        }
      ],
      "source": [
        "# Filtre sur les actrices présentes\n",
        "nb_actress = nb_actress[nb_actress[\"nb_actress\" ] > 0]\n",
        "nb_actress.head(1)"
      ]
    },
    {
      "cell_type": "code",
      "execution_count": null,
      "metadata": {
        "id": "35C5sol3HZoM",
        "outputId": "0d9a672a-f6c8-4e8a-f823-f69c3ff31810"
      },
      "outputs": [
        {
          "data": {
            "text/html": [
              "<div>\n",
              "<style scoped>\n",
              "    .dataframe tbody tr th:only-of-type {\n",
              "        vertical-align: middle;\n",
              "    }\n",
              "\n",
              "    .dataframe tbody tr th {\n",
              "        vertical-align: top;\n",
              "    }\n",
              "\n",
              "    .dataframe thead th {\n",
              "        text-align: right;\n",
              "    }\n",
              "</style>\n",
              "<table border=\"1\" class=\"dataframe\">\n",
              "  <thead>\n",
              "    <tr style=\"text-align: right;\">\n",
              "      <th></th>\n",
              "      <th>tconst</th>\n",
              "      <th>nb_self</th>\n",
              "    </tr>\n",
              "  </thead>\n",
              "  <tbody>\n",
              "    <tr>\n",
              "      <th>0</th>\n",
              "      <td>tt0000001</td>\n",
              "      <td>1</td>\n",
              "    </tr>\n",
              "  </tbody>\n",
              "</table>\n",
              "</div>"
            ],
            "text/plain": [
              "      tconst  nb_self\n",
              "0  tt0000001        1"
            ]
          },
          "execution_count": 136,
          "metadata": {},
          "output_type": "execute_result"
        }
      ],
      "source": [
        "# Nbre self par film  ayant joué son propre rôle :\n",
        "\n",
        "nb_self = data_title_principals.groupby([\"tconst\"])[\"self\"].sum().reset_index().rename(columns={\"self\":'nb_self'})\n",
        "nb_self.head(1)"
      ]
    },
    {
      "cell_type": "code",
      "execution_count": null,
      "metadata": {
        "id": "lAUiABhiHZoM",
        "outputId": "a3467f79-2121-4f3d-fc1a-61d7fa549545"
      },
      "outputs": [
        {
          "data": {
            "text/html": [
              "<div>\n",
              "<style scoped>\n",
              "    .dataframe tbody tr th:only-of-type {\n",
              "        vertical-align: middle;\n",
              "    }\n",
              "\n",
              "    .dataframe tbody tr th {\n",
              "        vertical-align: top;\n",
              "    }\n",
              "\n",
              "    .dataframe thead th {\n",
              "        text-align: right;\n",
              "    }\n",
              "</style>\n",
              "<table border=\"1\" class=\"dataframe\">\n",
              "  <thead>\n",
              "    <tr style=\"text-align: right;\">\n",
              "      <th></th>\n",
              "      <th>tconst</th>\n",
              "      <th>nb_self</th>\n",
              "    </tr>\n",
              "  </thead>\n",
              "  <tbody>\n",
              "    <tr>\n",
              "      <th>0</th>\n",
              "      <td>tt0000001</td>\n",
              "      <td>1</td>\n",
              "    </tr>\n",
              "  </tbody>\n",
              "</table>\n",
              "</div>"
            ],
            "text/plain": [
              "      tconst  nb_self\n",
              "0  tt0000001        1"
            ]
          },
          "execution_count": 137,
          "metadata": {},
          "output_type": "execute_result"
        }
      ],
      "source": [
        "# Filtre sur les self présents\n",
        "nb_self = nb_self[nb_self[\"nb_self\" ] > 0]\n",
        "nb_self.head(1)"
      ]
    },
    {
      "cell_type": "code",
      "execution_count": null,
      "metadata": {
        "id": "H5Fscta5LFTP"
      },
      "outputs": [],
      "source": [
        "# Merge des résultats obtenus avec title_basics :\n",
        "# nb actors\n",
        "merge_title = pd.merge(selection_title_basics, nb_actor, on = \"tconst\", how = \"left\")"
      ]
    },
    {
      "cell_type": "code",
      "execution_count": null,
      "metadata": {
        "id": "U_lCtCq1LIn0"
      },
      "outputs": [],
      "source": [
        "# nb actress\n",
        "merge_title = pd.merge(merge_title, nb_actress, on = \"tconst\", how = \"left\")"
      ]
    },
    {
      "cell_type": "code",
      "execution_count": null,
      "metadata": {
        "id": "UkeGDSHeLL2k"
      },
      "outputs": [],
      "source": [
        "# nb real\n",
        "merge_title = pd.merge(merge_title, nb_director, on = \"tconst\", how = \"left\")"
      ]
    },
    {
      "cell_type": "code",
      "execution_count": null,
      "metadata": {
        "id": "D4LvCw1VHZoM"
      },
      "outputs": [],
      "source": [
        "# nb self\n",
        "merge_title = pd.merge(merge_title, nb_self, on = \"tconst\", how = \"left\")"
      ]
    },
    {
      "cell_type": "code",
      "execution_count": null,
      "metadata": {
        "id": "s_hmWTBfLRqo",
        "outputId": "114355b0-31bf-4ee4-9d62-64308d58eb2b"
      },
      "outputs": [
        {
          "data": {
            "text/html": [
              "<div>\n",
              "<style scoped>\n",
              "    .dataframe tbody tr th:only-of-type {\n",
              "        vertical-align: middle;\n",
              "    }\n",
              "\n",
              "    .dataframe tbody tr th {\n",
              "        vertical-align: top;\n",
              "    }\n",
              "\n",
              "    .dataframe thead th {\n",
              "        text-align: right;\n",
              "    }\n",
              "</style>\n",
              "<table border=\"1\" class=\"dataframe\">\n",
              "  <thead>\n",
              "    <tr style=\"text-align: right;\">\n",
              "      <th></th>\n",
              "      <th>tconst</th>\n",
              "      <th>originalTitle</th>\n",
              "      <th>genres</th>\n",
              "      <th>genres_split</th>\n",
              "      <th>runtimeMinutes</th>\n",
              "      <th>startYear</th>\n",
              "      <th>nb_actor</th>\n",
              "      <th>nb_actress</th>\n",
              "      <th>nb_director</th>\n",
              "      <th>nb_self</th>\n",
              "    </tr>\n",
              "  </thead>\n",
              "  <tbody>\n",
              "    <tr>\n",
              "      <th>0</th>\n",
              "      <td>tt0015724</td>\n",
              "      <td>Dama de noche</td>\n",
              "      <td>Drama,Mystery,Romance</td>\n",
              "      <td>[Drama, Mystery, Romance]</td>\n",
              "      <td>102.0</td>\n",
              "      <td>1993.0</td>\n",
              "      <td>2.0</td>\n",
              "      <td>2.0</td>\n",
              "      <td>1.0</td>\n",
              "      <td>NaN</td>\n",
              "    </tr>\n",
              "    <tr>\n",
              "      <th>1</th>\n",
              "      <td>tt0016906</td>\n",
              "      <td>Frivolinas</td>\n",
              "      <td>Comedy,Musical</td>\n",
              "      <td>[Comedy, Musical]</td>\n",
              "      <td>80.0</td>\n",
              "      <td>2014.0</td>\n",
              "      <td>3.0</td>\n",
              "      <td>2.0</td>\n",
              "      <td>1.0</td>\n",
              "      <td>NaN</td>\n",
              "    </tr>\n",
              "    <tr>\n",
              "      <th>2</th>\n",
              "      <td>tt0022064</td>\n",
              "      <td>Lebbra bianca</td>\n",
              "      <td>Drama</td>\n",
              "      <td>[Drama]</td>\n",
              "      <td>100.0</td>\n",
              "      <td>1951.0</td>\n",
              "      <td>3.0</td>\n",
              "      <td>1.0</td>\n",
              "      <td>1.0</td>\n",
              "      <td>NaN</td>\n",
              "    </tr>\n",
              "    <tr>\n",
              "      <th>3</th>\n",
              "      <td>tt0025557</td>\n",
              "      <td>El negro que tenía el alma blanca</td>\n",
              "      <td>Drama,Musical</td>\n",
              "      <td>[Drama, Musical]</td>\n",
              "      <td>87.0</td>\n",
              "      <td>1951.0</td>\n",
              "      <td>3.0</td>\n",
              "      <td>1.0</td>\n",
              "      <td>NaN</td>\n",
              "      <td>NaN</td>\n",
              "    </tr>\n",
              "    <tr>\n",
              "      <th>4</th>\n",
              "      <td>tt0030998</td>\n",
              "      <td>You're Only Young Twice</td>\n",
              "      <td>Comedy</td>\n",
              "      <td>[Comedy]</td>\n",
              "      <td>81.0</td>\n",
              "      <td>1952.0</td>\n",
              "      <td>4.0</td>\n",
              "      <td>NaN</td>\n",
              "      <td>1.0</td>\n",
              "      <td>NaN</td>\n",
              "    </tr>\n",
              "  </tbody>\n",
              "</table>\n",
              "</div>"
            ],
            "text/plain": [
              "      tconst                      originalTitle                 genres  \\\n",
              "0  tt0015724                      Dama de noche  Drama,Mystery,Romance   \n",
              "1  tt0016906                         Frivolinas         Comedy,Musical   \n",
              "2  tt0022064                      Lebbra bianca                  Drama   \n",
              "3  tt0025557  El negro que tenía el alma blanca          Drama,Musical   \n",
              "4  tt0030998            You're Only Young Twice                 Comedy   \n",
              "\n",
              "                genres_split  runtimeMinutes  startYear  nb_actor  nb_actress  \\\n",
              "0  [Drama, Mystery, Romance]           102.0     1993.0       2.0         2.0   \n",
              "1          [Comedy, Musical]            80.0     2014.0       3.0         2.0   \n",
              "2                    [Drama]           100.0     1951.0       3.0         1.0   \n",
              "3           [Drama, Musical]            87.0     1951.0       3.0         1.0   \n",
              "4                   [Comedy]            81.0     1952.0       4.0         NaN   \n",
              "\n",
              "   nb_director  nb_self  \n",
              "0          1.0      NaN  \n",
              "1          1.0      NaN  \n",
              "2          1.0      NaN  \n",
              "3          NaN      NaN  \n",
              "4          1.0      NaN  "
            ]
          },
          "execution_count": 142,
          "metadata": {},
          "output_type": "execute_result"
        }
      ],
      "source": [
        "merge_title.head()"
      ]
    },
    {
      "cell_type": "code",
      "execution_count": null,
      "metadata": {
        "id": "PL5K3ReLLTxo",
        "outputId": "636feadc-16cb-4d43-f8de-fca1140a7632"
      },
      "outputs": [
        {
          "name": "stdout",
          "output_type": "stream",
          "text": [
            "Nombre de lignes : 258700\n",
            "Nombre de colonnes : 10\n",
            "\n",
            "<class 'pandas.core.frame.DataFrame'>\n",
            "Int64Index: 258700 entries, 0 to 258699\n",
            "Data columns (total 10 columns):\n",
            " #   Column          Non-Null Count   Dtype  \n",
            "---  ------          --------------   -----  \n",
            " 0   tconst          258700 non-null  object \n",
            " 1   originalTitle   258700 non-null  object \n",
            " 2   genres          258700 non-null  object \n",
            " 3   genres_split    258700 non-null  object \n",
            " 4   runtimeMinutes  258700 non-null  float64\n",
            " 5   startYear       258700 non-null  float64\n",
            " 6   nb_actor        214675 non-null  float64\n",
            " 7   nb_actress      188424 non-null  float64\n",
            " 8   nb_director     239045 non-null  float64\n",
            " 9   nb_self         23453 non-null   float64\n",
            "dtypes: float64(6), object(4)\n",
            "memory usage: 21.7+ MB\n"
          ]
        },
        {
          "data": {
            "text/plain": [
              "(None,\n",
              "        runtimeMinutes      startYear       nb_actor     nb_actress  \\\n",
              " count    258700.00000  258700.000000  214675.000000  188424.000000   \n",
              " mean         97.42148    1999.680669       2.727183       1.835860   \n",
              " std          19.97213      19.617348       1.209836       0.918401   \n",
              " min          70.00000    1950.000000       1.000000       1.000000   \n",
              " 25%          85.00000    1986.000000       2.000000       1.000000   \n",
              " 50%          93.00000    2008.000000       3.000000       2.000000   \n",
              " 75%         105.00000    2015.000000       3.000000       2.000000   \n",
              " max         239.00000    2022.000000      10.000000      10.000000   \n",
              " \n",
              "          nb_director       nb_self  \n",
              " count  239045.000000  23453.000000  \n",
              " mean        1.113196      3.317827  \n",
              " std         0.469809      1.924674  \n",
              " min         1.000000      1.000000  \n",
              " 25%         1.000000      2.000000  \n",
              " 50%         1.000000      4.000000  \n",
              " 75%         1.000000      4.000000  \n",
              " max        10.000000     10.000000  )"
            ]
          },
          "execution_count": 143,
          "metadata": {},
          "output_type": "execute_result"
        }
      ],
      "source": [
        "info_df(merge_title)"
      ]
    },
    {
      "cell_type": "code",
      "execution_count": null,
      "metadata": {
        "id": "ItMXru0pLcVO",
        "outputId": "890f870d-0a4b-4bf3-b7dd-03009f09c5a5"
      },
      "outputs": [
        {
          "name": "stdout",
          "output_type": "stream",
          "text": [
            "\n",
            "Nombre de doublons : 0\n"
          ]
        },
        {
          "data": {
            "text/html": [
              "<div>\n",
              "<style scoped>\n",
              "    .dataframe tbody tr th:only-of-type {\n",
              "        vertical-align: middle;\n",
              "    }\n",
              "\n",
              "    .dataframe tbody tr th {\n",
              "        vertical-align: top;\n",
              "    }\n",
              "\n",
              "    .dataframe thead th {\n",
              "        text-align: right;\n",
              "    }\n",
              "</style>\n",
              "<table border=\"1\" class=\"dataframe\">\n",
              "  <thead>\n",
              "    <tr style=\"text-align: right;\">\n",
              "      <th></th>\n",
              "      <th>tconst</th>\n",
              "      <th>total</th>\n",
              "    </tr>\n",
              "  </thead>\n",
              "  <tbody>\n",
              "  </tbody>\n",
              "</table>\n",
              "</div>"
            ],
            "text/plain": [
              "Empty DataFrame\n",
              "Columns: [tconst, total]\n",
              "Index: []"
            ]
          },
          "execution_count": 144,
          "metadata": {},
          "output_type": "execute_result"
        }
      ],
      "source": [
        "# Dernier check de doublons :\n",
        "\n",
        "doublons(merge_title, [\"tconst\"])"
      ]
    },
    {
      "cell_type": "code",
      "execution_count": null,
      "metadata": {
        "id": "4qIwpLIAHZoN",
        "outputId": "e73ff377-fb3b-432d-8258-1c7ce54e2eb7"
      },
      "outputs": [
        {
          "data": {
            "text/html": [
              "<div>\n",
              "<style scoped>\n",
              "    .dataframe tbody tr th:only-of-type {\n",
              "        vertical-align: middle;\n",
              "    }\n",
              "\n",
              "    .dataframe tbody tr th {\n",
              "        vertical-align: top;\n",
              "    }\n",
              "\n",
              "    .dataframe thead th {\n",
              "        text-align: right;\n",
              "    }\n",
              "</style>\n",
              "<table border=\"1\" class=\"dataframe\">\n",
              "  <thead>\n",
              "    <tr style=\"text-align: right;\">\n",
              "      <th></th>\n",
              "      <th>tconst</th>\n",
              "      <th>originalTitle</th>\n",
              "      <th>genres</th>\n",
              "      <th>genres_split</th>\n",
              "      <th>runtimeMinutes</th>\n",
              "      <th>startYear</th>\n",
              "      <th>nb_actor</th>\n",
              "      <th>nb_actress</th>\n",
              "      <th>nb_director</th>\n",
              "      <th>nb_self</th>\n",
              "    </tr>\n",
              "  </thead>\n",
              "  <tbody>\n",
              "    <tr>\n",
              "      <th>0</th>\n",
              "      <td>tt0015724</td>\n",
              "      <td>Dama de noche</td>\n",
              "      <td>Drama,Mystery,Romance</td>\n",
              "      <td>[Drama, Mystery, Romance]</td>\n",
              "      <td>102.0</td>\n",
              "      <td>1993.0</td>\n",
              "      <td>2.0</td>\n",
              "      <td>2.0</td>\n",
              "      <td>1.0</td>\n",
              "      <td>0.0</td>\n",
              "    </tr>\n",
              "    <tr>\n",
              "      <th>1</th>\n",
              "      <td>tt0016906</td>\n",
              "      <td>Frivolinas</td>\n",
              "      <td>Comedy,Musical</td>\n",
              "      <td>[Comedy, Musical]</td>\n",
              "      <td>80.0</td>\n",
              "      <td>2014.0</td>\n",
              "      <td>3.0</td>\n",
              "      <td>2.0</td>\n",
              "      <td>1.0</td>\n",
              "      <td>0.0</td>\n",
              "    </tr>\n",
              "  </tbody>\n",
              "</table>\n",
              "</div>"
            ],
            "text/plain": [
              "      tconst  originalTitle                 genres               genres_split  \\\n",
              "0  tt0015724  Dama de noche  Drama,Mystery,Romance  [Drama, Mystery, Romance]   \n",
              "1  tt0016906     Frivolinas         Comedy,Musical          [Comedy, Musical]   \n",
              "\n",
              "   runtimeMinutes  startYear  nb_actor  nb_actress  nb_director  nb_self  \n",
              "0           102.0     1993.0       2.0         2.0          1.0      0.0  \n",
              "1            80.0     2014.0       3.0         2.0          1.0      0.0  "
            ]
          },
          "execution_count": 145,
          "metadata": {},
          "output_type": "execute_result"
        }
      ],
      "source": [
        "# remplacer les totaux nan par 0\n",
        "merge_title.fillna({'nb_actor': 0, 'nb_actress' : 0, 'nb_self' : 0, 'nb_director' : 0}, inplace=True)\n",
        "merge_title.head(2)"
      ]
    },
    {
      "cell_type": "code",
      "execution_count": null,
      "metadata": {
        "id": "VsLAkylYHZoN",
        "outputId": "9220b5ca-f293-44f0-b910-1884f6f4b78e"
      },
      "outputs": [
        {
          "data": {
            "text/plain": [
              "tconst            0\n",
              "originalTitle     0\n",
              "genres            0\n",
              "genres_split      0\n",
              "runtimeMinutes    0\n",
              "startYear         0\n",
              "nb_actor          0\n",
              "nb_actress        0\n",
              "nb_director       0\n",
              "nb_self           0\n",
              "dtype: int64"
            ]
          },
          "execution_count": 146,
          "metadata": {},
          "output_type": "execute_result"
        }
      ],
      "source": [
        "merge_title.isna().sum()"
      ]
    },
    {
      "cell_type": "markdown",
      "metadata": {
        "id": "Vwm6Em24HZoN"
      },
      "source": [
        "### Conclusion Table 6 : title.principals.tsv.gz - Distribution/équipe par titre\n",
        "\n",
        "Après exploration et analyse de la table title_principals, nous avons décidé d'exclure les colonnes suivantes qui ne semblaient pas nécessaires à notre modèle :\n",
        "\n",
        "-  **ordering** : cette colonne indique seulement le numéro de ligne d'un tconst\n",
        "-  **nconst**   : nous n'envisageons pas de faire de jointure de cette table avec les acteurs\n",
        "-  **category** : cette colonne nous a permis de faire le compte des catégories que nous avons sélectionnées, elle n'est plus utile\n",
        "-  **job**      : trop de valeurs manquantes (83.73 %)\n",
        "-  **characters**      : trop de valeurs manquantes (50.61 %)\n",
        "\n",
        "\n",
        "Pour la colonne suivante, nous sélectionnerons :\n",
        "-  **category** : Actor, Actress, Director, Self ---> représentés sous de nouvelles colonnes par catégorie\n",
        "-  **genres**   : nous permettra de créer des features pour notre modèle dans un second temps \n",
        "\n",
        "Enfin, nous conserverons l'intégralité de la colonne :\n",
        "-  **tconst** : qui servira de clé de jointure"
      ]
    },
    {
      "cell_type": "code",
      "execution_count": null,
      "metadata": {
        "id": "7z3at-i_HZoN"
      },
      "outputs": [],
      "source": [
        "# merge title basics et principal ok pour merge final\n",
        "selection_title_principals_basics = merge_title.copy()"
      ]
    },
    {
      "cell_type": "code",
      "execution_count": null,
      "metadata": {
        "id": "qK3ZLDuoHZoO",
        "outputId": "30bac59b-5dcd-4578-9514-025029a18e33"
      },
      "outputs": [
        {
          "data": {
            "text/plain": [
              "tconst            0\n",
              "originalTitle     0\n",
              "genres            0\n",
              "genres_split      0\n",
              "runtimeMinutes    0\n",
              "startYear         0\n",
              "nb_actor          0\n",
              "nb_actress        0\n",
              "nb_director       0\n",
              "nb_self           0\n",
              "dtype: int64"
            ]
          },
          "execution_count": 148,
          "metadata": {},
          "output_type": "execute_result"
        }
      ],
      "source": [
        "selection_title_principals_basics.isna().sum()"
      ]
    },
    {
      "cell_type": "markdown",
      "metadata": {
        "id": "jDbxftz9Hna7"
      },
      "source": [
        "# Table 7 : title.ratings.tsv.gz - Notation et votes par films"
      ]
    },
    {
      "cell_type": "markdown",
      "metadata": {
        "id": "8jl_AseBZt62"
      },
      "source": [
        "Elle donne les infos suivantes sur les notations IMDb et votes par films:\n",
        "\n",
        "- tconst (string) = identificateur unique alphanumérique du titre\n",
        "- averageRating = moyenne pondérée de toutes les évaluations individuelles des utilisateurs\n",
        "- numVotes = nombre de votes reçus par titre de film"
      ]
    },
    {
      "cell_type": "markdown",
      "metadata": {
        "id": "jBq7k4RcHZoO"
      },
      "source": [
        "#### Objectifs:\n",
        "* Récupérer les notes de chaque film\n",
        "* Compter le nombre de vote par film"
      ]
    },
    {
      "cell_type": "code",
      "execution_count": null,
      "metadata": {
        "id": "YHcRqT9NVqf_",
        "outputId": "c9b0e08f-ff1a-46b8-a5a4-a60cae973119"
      },
      "outputs": [
        {
          "name": "stdout",
          "output_type": "stream",
          "text": [
            "Nombre de lignes : 1199691\n",
            "Nombre de colonnes : 3\n",
            "\n",
            "<class 'pandas.core.frame.DataFrame'>\n",
            "RangeIndex: 1199691 entries, 0 to 1199690\n",
            "Data columns (total 3 columns):\n",
            " #   Column         Non-Null Count    Dtype  \n",
            "---  ------         --------------    -----  \n",
            " 0   tconst         1199691 non-null  object \n",
            " 1   averageRating  1199691 non-null  float64\n",
            " 2   numVotes       1199691 non-null  int64  \n",
            "dtypes: float64(1), int64(1), object(1)\n",
            "memory usage: 27.5+ MB\n"
          ]
        },
        {
          "data": {
            "text/plain": [
              "(None,\n",
              "        averageRating      numVotes\n",
              " count   1.199691e+06  1.199691e+06\n",
              " mean    6.924953e+00  9.943017e+02\n",
              " std     1.397160e+00  1.656326e+04\n",
              " min     1.000000e+00  5.000000e+00\n",
              " 25%     6.200000e+00  1.100000e+01\n",
              " 50%     7.100000e+00  2.400000e+01\n",
              " 75%     7.900000e+00  9.400000e+01\n",
              " max     1.000000e+01  2.513534e+06)"
            ]
          },
          "execution_count": 149,
          "metadata": {},
          "output_type": "execute_result"
        }
      ],
      "source": [
        "info_df(data_title_ratings)"
      ]
    },
    {
      "cell_type": "code",
      "execution_count": null,
      "metadata": {
        "id": "mNw-v-wwPNCa",
        "outputId": "74f907bb-5069-4535-b736-823d2fe735f8"
      },
      "outputs": [
        {
          "name": "stdout",
          "output_type": "stream",
          "text": [
            "\n",
            "Nombre total de valeurs nulles : \n",
            "0\n",
            "\n",
            "Nombre de valeurs nulles par colonnes :\n",
            "\n",
            "tconst           0\n",
            "averageRating    0\n",
            "numVotes         0\n",
            "dtype: int64\n"
          ]
        }
      ],
      "source": [
        "info_na(data_title_ratings)"
      ]
    },
    {
      "cell_type": "code",
      "execution_count": null,
      "metadata": {
        "id": "CCP-6ed-Jv1z",
        "outputId": "bcc39412-d622-4a85-e958-46cef2575600"
      },
      "outputs": [
        {
          "name": "stdout",
          "output_type": "stream",
          "text": [
            "\n",
            "Nombre de doublons : 0\n"
          ]
        },
        {
          "data": {
            "text/html": [
              "<div>\n",
              "<style scoped>\n",
              "    .dataframe tbody tr th:only-of-type {\n",
              "        vertical-align: middle;\n",
              "    }\n",
              "\n",
              "    .dataframe tbody tr th {\n",
              "        vertical-align: top;\n",
              "    }\n",
              "\n",
              "    .dataframe thead th {\n",
              "        text-align: right;\n",
              "    }\n",
              "</style>\n",
              "<table border=\"1\" class=\"dataframe\">\n",
              "  <thead>\n",
              "    <tr style=\"text-align: right;\">\n",
              "      <th></th>\n",
              "      <th>tconst</th>\n",
              "      <th>total</th>\n",
              "    </tr>\n",
              "  </thead>\n",
              "  <tbody>\n",
              "  </tbody>\n",
              "</table>\n",
              "</div>"
            ],
            "text/plain": [
              "Empty DataFrame\n",
              "Columns: [tconst, total]\n",
              "Index: []"
            ]
          },
          "execution_count": 151,
          "metadata": {},
          "output_type": "execute_result"
        }
      ],
      "source": [
        "# Check des doublons :\n",
        "doublons(data_title_ratings, [\"tconst\"])"
      ]
    },
    {
      "cell_type": "markdown",
      "metadata": {
        "id": "cMWFDUuVHZoP"
      },
      "source": [
        "### Conclusion Table 7 : title.ratings.tsv.gz - Notation et votes par films\n",
        "\n",
        "Après exploration et analyse de la table ratings, nous conservons la totalité de la table.\n",
        "\n",
        "Les informations sont complètes, elle pourra être rapprochée de notre sélection par un merge, via la clée de jointure **tconst**."
      ]
    },
    {
      "cell_type": "markdown",
      "metadata": {
        "id": "kSVoE3r6HZoP"
      },
      "source": [
        "# SELECTION FINALE"
      ]
    },
    {
      "cell_type": "code",
      "execution_count": null,
      "metadata": {
        "id": "MK2sI0AnKEhk"
      },
      "outputs": [],
      "source": [
        "# Merge titles / ratings grâce à la colonne \"tconst\" :\n",
        "\n",
        "selection_merge = pd.merge(selection_title_principals_basics, data_title_ratings, on = \"tconst\", how = \"left\")"
      ]
    },
    {
      "cell_type": "code",
      "execution_count": null,
      "metadata": {
        "id": "Ybfrl8odKhP5",
        "outputId": "23858886-2e58-4e2c-bdf4-c65e4d37de9e"
      },
      "outputs": [
        {
          "name": "stdout",
          "output_type": "stream",
          "text": [
            "\n",
            "Nombre de doublons : 0\n"
          ]
        },
        {
          "data": {
            "text/html": [
              "<div>\n",
              "<style scoped>\n",
              "    .dataframe tbody tr th:only-of-type {\n",
              "        vertical-align: middle;\n",
              "    }\n",
              "\n",
              "    .dataframe tbody tr th {\n",
              "        vertical-align: top;\n",
              "    }\n",
              "\n",
              "    .dataframe thead th {\n",
              "        text-align: right;\n",
              "    }\n",
              "</style>\n",
              "<table border=\"1\" class=\"dataframe\">\n",
              "  <thead>\n",
              "    <tr style=\"text-align: right;\">\n",
              "      <th></th>\n",
              "      <th>tconst</th>\n",
              "      <th>total</th>\n",
              "    </tr>\n",
              "  </thead>\n",
              "  <tbody>\n",
              "  </tbody>\n",
              "</table>\n",
              "</div>"
            ],
            "text/plain": [
              "Empty DataFrame\n",
              "Columns: [tconst, total]\n",
              "Index: []"
            ]
          },
          "execution_count": 153,
          "metadata": {},
          "output_type": "execute_result"
        }
      ],
      "source": [
        "# Nouvau check de doublons après merge :\n",
        "\n",
        "doublons(selection_merge, [\"tconst\"])"
      ]
    },
    {
      "cell_type": "code",
      "execution_count": null,
      "metadata": {
        "id": "E3JDDsH9HZoP",
        "outputId": "9f1d7b68-6d25-47aa-8991-0509a377b85e"
      },
      "outputs": [
        {
          "data": {
            "text/html": [
              "<div>\n",
              "<style scoped>\n",
              "    .dataframe tbody tr th:only-of-type {\n",
              "        vertical-align: middle;\n",
              "    }\n",
              "\n",
              "    .dataframe tbody tr th {\n",
              "        vertical-align: top;\n",
              "    }\n",
              "\n",
              "    .dataframe thead th {\n",
              "        text-align: right;\n",
              "    }\n",
              "</style>\n",
              "<table border=\"1\" class=\"dataframe\">\n",
              "  <thead>\n",
              "    <tr style=\"text-align: right;\">\n",
              "      <th></th>\n",
              "      <th>tconst</th>\n",
              "      <th>originalTitle</th>\n",
              "      <th>genres</th>\n",
              "      <th>genres_split</th>\n",
              "      <th>runtimeMinutes</th>\n",
              "      <th>startYear</th>\n",
              "      <th>nb_actor</th>\n",
              "      <th>nb_actress</th>\n",
              "      <th>nb_director</th>\n",
              "      <th>nb_self</th>\n",
              "      <th>averageRating</th>\n",
              "      <th>numVotes</th>\n",
              "    </tr>\n",
              "  </thead>\n",
              "  <tbody>\n",
              "    <tr>\n",
              "      <th>0</th>\n",
              "      <td>tt0015724</td>\n",
              "      <td>Dama de noche</td>\n",
              "      <td>Drama,Mystery,Romance</td>\n",
              "      <td>[Drama, Mystery, Romance]</td>\n",
              "      <td>102.0</td>\n",
              "      <td>1993.0</td>\n",
              "      <td>2.0</td>\n",
              "      <td>2.0</td>\n",
              "      <td>1.0</td>\n",
              "      <td>0.0</td>\n",
              "      <td>6.2</td>\n",
              "      <td>25.0</td>\n",
              "    </tr>\n",
              "    <tr>\n",
              "      <th>1</th>\n",
              "      <td>tt0016906</td>\n",
              "      <td>Frivolinas</td>\n",
              "      <td>Comedy,Musical</td>\n",
              "      <td>[Comedy, Musical]</td>\n",
              "      <td>80.0</td>\n",
              "      <td>2014.0</td>\n",
              "      <td>3.0</td>\n",
              "      <td>2.0</td>\n",
              "      <td>1.0</td>\n",
              "      <td>0.0</td>\n",
              "      <td>5.6</td>\n",
              "      <td>20.0</td>\n",
              "    </tr>\n",
              "  </tbody>\n",
              "</table>\n",
              "</div>"
            ],
            "text/plain": [
              "      tconst  originalTitle                 genres               genres_split  \\\n",
              "0  tt0015724  Dama de noche  Drama,Mystery,Romance  [Drama, Mystery, Romance]   \n",
              "1  tt0016906     Frivolinas         Comedy,Musical          [Comedy, Musical]   \n",
              "\n",
              "   runtimeMinutes  startYear  nb_actor  nb_actress  nb_director  nb_self  \\\n",
              "0           102.0     1993.0       2.0         2.0          1.0      0.0   \n",
              "1            80.0     2014.0       3.0         2.0          1.0      0.0   \n",
              "\n",
              "   averageRating  numVotes  \n",
              "0            6.2      25.0  \n",
              "1            5.6      20.0  "
            ]
          },
          "execution_count": 154,
          "metadata": {},
          "output_type": "execute_result"
        }
      ],
      "source": [
        "selection_merge.head(2)"
      ]
    },
    {
      "cell_type": "code",
      "execution_count": null,
      "metadata": {
        "id": "io6SXjl6LCOP"
      },
      "outputs": [],
      "source": [
        "# Merge akas avec df en utilisant \"merge_title_rates\" :\n",
        "\n",
        "selection_merge = pd.merge(selection_merge, version_fr, on = \"tconst\", how = \"left\")"
      ]
    },
    {
      "cell_type": "code",
      "execution_count": null,
      "metadata": {
        "id": "OOB_0BPVLYiX",
        "outputId": "9a42c8bd-1a3e-4ff1-eabc-660ce62c64fe"
      },
      "outputs": [
        {
          "name": "stdout",
          "output_type": "stream",
          "text": [
            "\n",
            "Nombre de doublons : 0\n"
          ]
        },
        {
          "data": {
            "text/html": [
              "<div>\n",
              "<style scoped>\n",
              "    .dataframe tbody tr th:only-of-type {\n",
              "        vertical-align: middle;\n",
              "    }\n",
              "\n",
              "    .dataframe tbody tr th {\n",
              "        vertical-align: top;\n",
              "    }\n",
              "\n",
              "    .dataframe thead th {\n",
              "        text-align: right;\n",
              "    }\n",
              "</style>\n",
              "<table border=\"1\" class=\"dataframe\">\n",
              "  <thead>\n",
              "    <tr style=\"text-align: right;\">\n",
              "      <th></th>\n",
              "      <th>tconst</th>\n",
              "      <th>total</th>\n",
              "    </tr>\n",
              "  </thead>\n",
              "  <tbody>\n",
              "  </tbody>\n",
              "</table>\n",
              "</div>"
            ],
            "text/plain": [
              "Empty DataFrame\n",
              "Columns: [tconst, total]\n",
              "Index: []"
            ]
          },
          "execution_count": 156,
          "metadata": {},
          "output_type": "execute_result"
        }
      ],
      "source": [
        "# Check doublons de \"selection_merge\" :\n",
        "doublons(selection_merge, [\"tconst\"])"
      ]
    },
    {
      "cell_type": "code",
      "execution_count": null,
      "metadata": {
        "id": "8vZaqysQMJJ4"
      },
      "outputs": [],
      "source": [
        "# Merge \"selection_merge\" et \"version_us\" :\n",
        "\n",
        "selection_merge = pd.merge(selection_merge, version_us, on = \"tconst\", how = \"left\")"
      ]
    },
    {
      "cell_type": "code",
      "execution_count": null,
      "metadata": {
        "id": "_oB35T1jMZxB"
      },
      "outputs": [],
      "source": [
        "# Merge \"selection_merge\" et \"version_gb\" :\n",
        "\n",
        "selection_merge = pd.merge(selection_merge, version_gb, on = \"tconst\", how = \"left\")"
      ]
    },
    {
      "cell_type": "code",
      "execution_count": null,
      "metadata": {
        "id": "ZX7-WBORM-8C"
      },
      "outputs": [],
      "source": [
        "# Merge \"selection_merge\" et \"compte_region\" :\n",
        "\n",
        "selection_merge = pd.merge(selection_merge, compte_region, on = \"tconst\", how = \"left\")"
      ]
    },
    {
      "cell_type": "code",
      "execution_count": null,
      "metadata": {
        "id": "qRupCYFtNJip",
        "outputId": "dd6fd649-af6e-48cf-89f1-c906cf5470a1"
      },
      "outputs": [
        {
          "data": {
            "text/plain": [
              "258700"
            ]
          },
          "execution_count": 160,
          "metadata": {},
          "output_type": "execute_result"
        }
      ],
      "source": [
        "# Nombre d'éléments dans selection_merge :\n",
        "\n",
        "len(selection_merge)"
      ]
    },
    {
      "cell_type": "code",
      "execution_count": null,
      "metadata": {
        "id": "fzsWKTZ4Nj_A"
      },
      "outputs": [],
      "source": [
        "# \"fillna\" des colonnes fr, gb et us dans \"merge_akas\" :\n",
        "selection_merge = selection_merge.fillna({'fr': 0, 'gb': 0, 'us': 0})"
      ]
    },
    {
      "cell_type": "code",
      "execution_count": null,
      "metadata": {
        "id": "tdw_p-_3HZoQ",
        "outputId": "b5ed370d-2655-4b20-c6b0-a8802dada3b5"
      },
      "outputs": [
        {
          "name": "stdout",
          "output_type": "stream",
          "text": [
            "\n",
            "Nombre total de valeurs nulles : \n",
            "331517\n",
            "\n",
            "Nombre de valeurs nulles par colonnes :\n",
            "\n",
            "tconst                 0\n",
            "originalTitle          0\n",
            "genres                 0\n",
            "genres_split           0\n",
            "runtimeMinutes         0\n",
            "startYear              0\n",
            "nb_actor               0\n",
            "nb_actress             0\n",
            "nb_director            0\n",
            "nb_self                0\n",
            "averageRating      61866\n",
            "numVotes           61866\n",
            "title_fr          207015\n",
            "fr                     0\n",
            "us                     0\n",
            "gb                     0\n",
            "nb_region            770\n",
            "dtype: int64\n"
          ]
        }
      ],
      "source": [
        "info_na(selection_merge)"
      ]
    },
    {
      "cell_type": "code",
      "execution_count": null,
      "metadata": {
        "id": "2dtbsIBsHZoR"
      },
      "outputs": [],
      "source": [
        "# ~ : on sera certains qu'un titre de film ne comportera pas de tildé\n",
        "selection_merge = selection_merge.fillna({'title_fr': \"~\", \"averageRating\": 0, \"numVotes\": 0, \"nb_region\": 0})"
      ]
    },
    {
      "cell_type": "code",
      "execution_count": null,
      "metadata": {
        "id": "BvSt2oG_HZoR"
      },
      "outputs": [],
      "source": [
        "# filtre des titres ayant le genre Comédie et/ou Drama et/ou Romance pour notre sélection\n",
        "\n",
        "selection_merge = selection_merge[(selection_merge['genres'].str.contains(\"Comedy\")) \n",
        "                                | (selection_merge['genres'].str.contains(\"Drama\"))\n",
        "                                | (selection_merge['genres'].str.contains(\"Romance\"))\n",
        "                            ]"
      ]
    },
    {
      "cell_type": "code",
      "execution_count": null,
      "metadata": {
        "id": "c8BUI7ofHZoR",
        "outputId": "a31e81ae-d3e4-4f86-be74-dc9c836e76af"
      },
      "outputs": [
        {
          "data": {
            "text/html": [
              "<div>\n",
              "<style scoped>\n",
              "    .dataframe tbody tr th:only-of-type {\n",
              "        vertical-align: middle;\n",
              "    }\n",
              "\n",
              "    .dataframe tbody tr th {\n",
              "        vertical-align: top;\n",
              "    }\n",
              "\n",
              "    .dataframe thead th {\n",
              "        text-align: right;\n",
              "    }\n",
              "</style>\n",
              "<table border=\"1\" class=\"dataframe\">\n",
              "  <thead>\n",
              "    <tr style=\"text-align: right;\">\n",
              "      <th></th>\n",
              "      <th>tconst</th>\n",
              "      <th>originalTitle</th>\n",
              "      <th>genres</th>\n",
              "      <th>genres_split</th>\n",
              "      <th>runtimeMinutes</th>\n",
              "      <th>startYear</th>\n",
              "      <th>nb_actor</th>\n",
              "      <th>nb_actress</th>\n",
              "      <th>nb_director</th>\n",
              "      <th>nb_self</th>\n",
              "      <th>averageRating</th>\n",
              "      <th>numVotes</th>\n",
              "      <th>title_fr</th>\n",
              "      <th>fr</th>\n",
              "      <th>us</th>\n",
              "      <th>gb</th>\n",
              "      <th>nb_region</th>\n",
              "    </tr>\n",
              "  </thead>\n",
              "  <tbody>\n",
              "    <tr>\n",
              "      <th>0</th>\n",
              "      <td>tt0015724</td>\n",
              "      <td>Dama de noche</td>\n",
              "      <td>Drama,Mystery,Romance</td>\n",
              "      <td>[Drama, Mystery, Romance]</td>\n",
              "      <td>102.0</td>\n",
              "      <td>1993.0</td>\n",
              "      <td>2.0</td>\n",
              "      <td>2.0</td>\n",
              "      <td>1.0</td>\n",
              "      <td>0.0</td>\n",
              "      <td>6.2</td>\n",
              "      <td>25.0</td>\n",
              "      <td>~</td>\n",
              "      <td>0.0</td>\n",
              "      <td>0.0</td>\n",
              "      <td>0.0</td>\n",
              "      <td>4.0</td>\n",
              "    </tr>\n",
              "    <tr>\n",
              "      <th>1</th>\n",
              "      <td>tt0016906</td>\n",
              "      <td>Frivolinas</td>\n",
              "      <td>Comedy,Musical</td>\n",
              "      <td>[Comedy, Musical]</td>\n",
              "      <td>80.0</td>\n",
              "      <td>2014.0</td>\n",
              "      <td>3.0</td>\n",
              "      <td>2.0</td>\n",
              "      <td>1.0</td>\n",
              "      <td>0.0</td>\n",
              "      <td>5.6</td>\n",
              "      <td>20.0</td>\n",
              "      <td>~</td>\n",
              "      <td>0.0</td>\n",
              "      <td>0.0</td>\n",
              "      <td>0.0</td>\n",
              "      <td>2.0</td>\n",
              "    </tr>\n",
              "    <tr>\n",
              "      <th>2</th>\n",
              "      <td>tt0022064</td>\n",
              "      <td>Lebbra bianca</td>\n",
              "      <td>Drama</td>\n",
              "      <td>[Drama]</td>\n",
              "      <td>100.0</td>\n",
              "      <td>1951.0</td>\n",
              "      <td>3.0</td>\n",
              "      <td>1.0</td>\n",
              "      <td>1.0</td>\n",
              "      <td>0.0</td>\n",
              "      <td>5.2</td>\n",
              "      <td>54.0</td>\n",
              "      <td>La cité des stupéfiants</td>\n",
              "      <td>1.0</td>\n",
              "      <td>0.0</td>\n",
              "      <td>0.0</td>\n",
              "      <td>8.0</td>\n",
              "    </tr>\n",
              "  </tbody>\n",
              "</table>\n",
              "</div>"
            ],
            "text/plain": [
              "      tconst  originalTitle                 genres               genres_split  \\\n",
              "0  tt0015724  Dama de noche  Drama,Mystery,Romance  [Drama, Mystery, Romance]   \n",
              "1  tt0016906     Frivolinas         Comedy,Musical          [Comedy, Musical]   \n",
              "2  tt0022064  Lebbra bianca                  Drama                    [Drama]   \n",
              "\n",
              "   runtimeMinutes  startYear  nb_actor  nb_actress  nb_director  nb_self  \\\n",
              "0           102.0     1993.0       2.0         2.0          1.0      0.0   \n",
              "1            80.0     2014.0       3.0         2.0          1.0      0.0   \n",
              "2           100.0     1951.0       3.0         1.0          1.0      0.0   \n",
              "\n",
              "   averageRating  numVotes                 title_fr   fr   us   gb  nb_region  \n",
              "0            6.2      25.0                        ~  0.0  0.0  0.0        4.0  \n",
              "1            5.6      20.0                        ~  0.0  0.0  0.0        2.0  \n",
              "2            5.2      54.0  La cité des stupéfiants  1.0  0.0  0.0        8.0  "
            ]
          },
          "execution_count": 165,
          "metadata": {},
          "output_type": "execute_result"
        }
      ],
      "source": [
        "selection_merge.head(3)"
      ]
    },
    {
      "cell_type": "code",
      "execution_count": null,
      "metadata": {
        "id": "VsZH70cpHZoR",
        "outputId": "de376ae8-814d-4b98-f195-e107506f21db"
      },
      "outputs": [
        {
          "name": "stdout",
          "output_type": "stream",
          "text": [
            "<class 'pandas.core.frame.DataFrame'>\n",
            "Int64Index: 169940 entries, 0 to 258698\n",
            "Data columns (total 17 columns):\n",
            " #   Column          Non-Null Count   Dtype  \n",
            "---  ------          --------------   -----  \n",
            " 0   tconst          169940 non-null  object \n",
            " 1   originalTitle   169940 non-null  object \n",
            " 2   genres          169940 non-null  object \n",
            " 3   genres_split    169940 non-null  object \n",
            " 4   runtimeMinutes  169940 non-null  float64\n",
            " 5   startYear       169940 non-null  float64\n",
            " 6   nb_actor        169940 non-null  float64\n",
            " 7   nb_actress      169940 non-null  float64\n",
            " 8   nb_director     169940 non-null  float64\n",
            " 9   nb_self         169940 non-null  float64\n",
            " 10  averageRating   169940 non-null  float64\n",
            " 11  numVotes        169940 non-null  float64\n",
            " 12  title_fr        169940 non-null  object \n",
            " 13  fr              169940 non-null  float64\n",
            " 14  us              169940 non-null  float64\n",
            " 15  gb              169940 non-null  float64\n",
            " 16  nb_region       169940 non-null  float64\n",
            "dtypes: float64(12), object(5)\n",
            "memory usage: 23.3+ MB\n"
          ]
        }
      ],
      "source": [
        "selection_merge.info()"
      ]
    },
    {
      "cell_type": "code",
      "execution_count": null,
      "metadata": {
        "id": "Qf5BEm-WHZoR"
      },
      "outputs": [],
      "source": [
        "selection_merge.to_csv(\"donnees/dataset_nb1.csv\", index=False)"
      ]
    },
    {
      "cell_type": "markdown",
      "metadata": {
        "id": "09UNt-vnHZoS"
      },
      "source": [
        "# ANALYSE GRAPHIQUE DONNEES GENERALES"
      ]
    },
    {
      "cell_type": "markdown",
      "metadata": {
        "id": "neOZ-fWi9lgy"
      },
      "source": [
        "## GRAPHIQUES"
      ]
    },
    {
      "cell_type": "code",
      "execution_count": null,
      "metadata": {
        "id": "QUoW3mJ4HZoS"
      },
      "outputs": [],
      "source": [
        "# df pour graphs\n",
        "data_graph = selection_merge.copy()"
      ]
    },
    {
      "cell_type": "code",
      "execution_count": null,
      "metadata": {
        "id": "hrllmOIqHZoS"
      },
      "outputs": [],
      "source": [
        "data_graph.to_csv(\"donnees/data_graph.csv\", index=False)"
      ]
    },
    {
      "cell_type": "code",
      "execution_count": null,
      "metadata": {
        "id": "JvmnNn8IPY47",
        "outputId": "a2fcedc1-920d-46eb-9e1a-65b7bcd5b737"
      },
      "outputs": [
        {
          "data": {
            "image/png": "[encoded data removed]",
            "text/plain": [
              "<Figure size 1080x720 with 1 Axes>"
            ]
          },
          "metadata": {
            "needs_background": "light"
          },
          "output_type": "display_data"
        }
      ],
      "source": [
        "# Histplot affichant la répartition des notes moyennes des internautes :\n",
        "\n",
        "fig, ax = plt.subplots(1, 1, figsize = (15, 10))\n",
        "ax.hist(data_graph['averageRating'], histtype = 'bar')\n",
        "ax.set_title('Répartition des notes moyennes des internautes')\n",
        "ax.set_xlabel('Ratings')\n",
        "ax.set_ylabel('Notes moyennes attribuées')\n",
        "\n",
        "plt.show()"
      ]
    },
    {
      "cell_type": "markdown",
      "metadata": {
        "id": "jKn-y-nyQp7y"
      },
      "source": [
        "On observe que les internautes sont plutôt généreux en matière de notation : beaucoup de notes entre 7 et 8/10."
      ]
    },
    {
      "cell_type": "code",
      "execution_count": null,
      "metadata": {
        "id": "urV9wv9RHZoS",
        "outputId": "743b8117-6dfb-4e62-b212-0b7cb71069a2"
      },
      "outputs": [
        {
          "data": {
            "text/html": [
              "<div>\n",
              "<style scoped>\n",
              "    .dataframe tbody tr th:only-of-type {\n",
              "        vertical-align: middle;\n",
              "    }\n",
              "\n",
              "    .dataframe tbody tr th {\n",
              "        vertical-align: top;\n",
              "    }\n",
              "\n",
              "    .dataframe thead th {\n",
              "        text-align: right;\n",
              "    }\n",
              "</style>\n",
              "<table border=\"1\" class=\"dataframe\">\n",
              "  <thead>\n",
              "    <tr style=\"text-align: right;\">\n",
              "      <th></th>\n",
              "      <th>tconst</th>\n",
              "      <th>originalTitle</th>\n",
              "      <th>genres</th>\n",
              "      <th>genres_split</th>\n",
              "      <th>runtimeMinutes</th>\n",
              "      <th>startYear</th>\n",
              "      <th>nb_actor</th>\n",
              "      <th>nb_actress</th>\n",
              "      <th>nb_director</th>\n",
              "      <th>nb_self</th>\n",
              "      <th>averageRating</th>\n",
              "      <th>numVotes</th>\n",
              "      <th>title_fr</th>\n",
              "      <th>fr</th>\n",
              "      <th>us</th>\n",
              "      <th>gb</th>\n",
              "      <th>nb_region</th>\n",
              "    </tr>\n",
              "  </thead>\n",
              "  <tbody>\n",
              "    <tr>\n",
              "      <th>0</th>\n",
              "      <td>tt0015724</td>\n",
              "      <td>Dama de noche</td>\n",
              "      <td>Drama,Mystery,Romance</td>\n",
              "      <td>[Drama, Mystery, Romance]</td>\n",
              "      <td>102.0</td>\n",
              "      <td>1993.0</td>\n",
              "      <td>2.0</td>\n",
              "      <td>2.0</td>\n",
              "      <td>1.0</td>\n",
              "      <td>0.0</td>\n",
              "      <td>6.2</td>\n",
              "      <td>25.0</td>\n",
              "      <td>~</td>\n",
              "      <td>0.0</td>\n",
              "      <td>0.0</td>\n",
              "      <td>0.0</td>\n",
              "      <td>4.0</td>\n",
              "    </tr>\n",
              "    <tr>\n",
              "      <th>1</th>\n",
              "      <td>tt0016906</td>\n",
              "      <td>Frivolinas</td>\n",
              "      <td>Comedy,Musical</td>\n",
              "      <td>[Comedy, Musical]</td>\n",
              "      <td>80.0</td>\n",
              "      <td>2014.0</td>\n",
              "      <td>3.0</td>\n",
              "      <td>2.0</td>\n",
              "      <td>1.0</td>\n",
              "      <td>0.0</td>\n",
              "      <td>5.6</td>\n",
              "      <td>20.0</td>\n",
              "      <td>~</td>\n",
              "      <td>0.0</td>\n",
              "      <td>0.0</td>\n",
              "      <td>0.0</td>\n",
              "      <td>2.0</td>\n",
              "    </tr>\n",
              "    <tr>\n",
              "      <th>2</th>\n",
              "      <td>tt0022064</td>\n",
              "      <td>Lebbra bianca</td>\n",
              "      <td>Drama</td>\n",
              "      <td>[Drama]</td>\n",
              "      <td>100.0</td>\n",
              "      <td>1951.0</td>\n",
              "      <td>3.0</td>\n",
              "      <td>1.0</td>\n",
              "      <td>1.0</td>\n",
              "      <td>0.0</td>\n",
              "      <td>5.2</td>\n",
              "      <td>54.0</td>\n",
              "      <td>La cité des stupéfiants</td>\n",
              "      <td>1.0</td>\n",
              "      <td>0.0</td>\n",
              "      <td>0.0</td>\n",
              "      <td>8.0</td>\n",
              "    </tr>\n",
              "    <tr>\n",
              "      <th>3</th>\n",
              "      <td>tt0025557</td>\n",
              "      <td>El negro que tenía el alma blanca</td>\n",
              "      <td>Drama,Musical</td>\n",
              "      <td>[Drama, Musical]</td>\n",
              "      <td>87.0</td>\n",
              "      <td>1951.0</td>\n",
              "      <td>3.0</td>\n",
              "      <td>1.0</td>\n",
              "      <td>0.0</td>\n",
              "      <td>0.0</td>\n",
              "      <td>6.8</td>\n",
              "      <td>40.0</td>\n",
              "      <td>~</td>\n",
              "      <td>0.0</td>\n",
              "      <td>0.0</td>\n",
              "      <td>0.0</td>\n",
              "      <td>5.0</td>\n",
              "    </tr>\n",
              "    <tr>\n",
              "      <th>4</th>\n",
              "      <td>tt0030998</td>\n",
              "      <td>You're Only Young Twice</td>\n",
              "      <td>Comedy</td>\n",
              "      <td>[Comedy]</td>\n",
              "      <td>81.0</td>\n",
              "      <td>1952.0</td>\n",
              "      <td>4.0</td>\n",
              "      <td>0.0</td>\n",
              "      <td>1.0</td>\n",
              "      <td>0.0</td>\n",
              "      <td>6.0</td>\n",
              "      <td>84.0</td>\n",
              "      <td>~</td>\n",
              "      <td>0.0</td>\n",
              "      <td>0.0</td>\n",
              "      <td>1.0</td>\n",
              "      <td>2.0</td>\n",
              "    </tr>\n",
              "  </tbody>\n",
              "</table>\n",
              "</div>"
            ],
            "text/plain": [
              "      tconst                      originalTitle                 genres  \\\n",
              "0  tt0015724                      Dama de noche  Drama,Mystery,Romance   \n",
              "1  tt0016906                         Frivolinas         Comedy,Musical   \n",
              "2  tt0022064                      Lebbra bianca                  Drama   \n",
              "3  tt0025557  El negro que tenía el alma blanca          Drama,Musical   \n",
              "4  tt0030998            You're Only Young Twice                 Comedy   \n",
              "\n",
              "                genres_split  runtimeMinutes  startYear  nb_actor  nb_actress  \\\n",
              "0  [Drama, Mystery, Romance]           102.0     1993.0       2.0         2.0   \n",
              "1          [Comedy, Musical]            80.0     2014.0       3.0         2.0   \n",
              "2                    [Drama]           100.0     1951.0       3.0         1.0   \n",
              "3           [Drama, Musical]            87.0     1951.0       3.0         1.0   \n",
              "4                   [Comedy]            81.0     1952.0       4.0         0.0   \n",
              "\n",
              "   nb_director  nb_self  averageRating  numVotes                 title_fr  \\\n",
              "0          1.0      0.0            6.2      25.0                        ~   \n",
              "1          1.0      0.0            5.6      20.0                        ~   \n",
              "2          1.0      0.0            5.2      54.0  La cité des stupéfiants   \n",
              "3          0.0      0.0            6.8      40.0                        ~   \n",
              "4          1.0      0.0            6.0      84.0                        ~   \n",
              "\n",
              "    fr   us   gb  nb_region  \n",
              "0  0.0  0.0  0.0        4.0  \n",
              "1  0.0  0.0  0.0        2.0  \n",
              "2  1.0  0.0  0.0        8.0  \n",
              "3  0.0  0.0  0.0        5.0  \n",
              "4  0.0  0.0  1.0        2.0  "
            ]
          },
          "execution_count": 171,
          "metadata": {},
          "output_type": "execute_result"
        }
      ],
      "source": [
        "data_graph.head()"
      ]
    },
    {
      "cell_type": "code",
      "execution_count": null,
      "metadata": {
        "id": "uQqgtH61HZoT",
        "outputId": "c46a6541-e295-4c21-c9f6-78ac490a55cc"
      },
      "outputs": [
        {
          "data": {
            "text/html": [
              "<div>\n",
              "<style scoped>\n",
              "    .dataframe tbody tr th:only-of-type {\n",
              "        vertical-align: middle;\n",
              "    }\n",
              "\n",
              "    .dataframe tbody tr th {\n",
              "        vertical-align: top;\n",
              "    }\n",
              "\n",
              "    .dataframe thead th {\n",
              "        text-align: right;\n",
              "    }\n",
              "</style>\n",
              "<table border=\"1\" class=\"dataframe\">\n",
              "  <thead>\n",
              "    <tr style=\"text-align: right;\">\n",
              "      <th></th>\n",
              "      <th>tconst</th>\n",
              "      <th>titleType</th>\n",
              "      <th>primaryTitle</th>\n",
              "      <th>originalTitle</th>\n",
              "      <th>isAdult</th>\n",
              "      <th>startYear</th>\n",
              "      <th>endYear</th>\n",
              "      <th>runtimeMinutes</th>\n",
              "      <th>genres</th>\n",
              "      <th>genres_split</th>\n",
              "    </tr>\n",
              "  </thead>\n",
              "  <tbody>\n",
              "    <tr>\n",
              "      <th>0</th>\n",
              "      <td>tt0000001</td>\n",
              "      <td>short</td>\n",
              "      <td>Carmencita</td>\n",
              "      <td>Carmencita</td>\n",
              "      <td>0.0</td>\n",
              "      <td>1894.0</td>\n",
              "      <td>NaN</td>\n",
              "      <td>1</td>\n",
              "      <td>Documentary,Short</td>\n",
              "      <td>[Documentary, Short]</td>\n",
              "    </tr>\n",
              "    <tr>\n",
              "      <th>1</th>\n",
              "      <td>tt0000002</td>\n",
              "      <td>short</td>\n",
              "      <td>Le clown et ses chiens</td>\n",
              "      <td>Le clown et ses chiens</td>\n",
              "      <td>0.0</td>\n",
              "      <td>1892.0</td>\n",
              "      <td>NaN</td>\n",
              "      <td>5</td>\n",
              "      <td>Animation,Short</td>\n",
              "      <td>[Animation, Short]</td>\n",
              "    </tr>\n",
              "    <tr>\n",
              "      <th>2</th>\n",
              "      <td>tt0000003</td>\n",
              "      <td>short</td>\n",
              "      <td>Pauvre Pierrot</td>\n",
              "      <td>Pauvre Pierrot</td>\n",
              "      <td>0.0</td>\n",
              "      <td>1892.0</td>\n",
              "      <td>NaN</td>\n",
              "      <td>4</td>\n",
              "      <td>Animation,Comedy,Romance</td>\n",
              "      <td>[Animation, Comedy, Romance]</td>\n",
              "    </tr>\n",
              "    <tr>\n",
              "      <th>3</th>\n",
              "      <td>tt0000004</td>\n",
              "      <td>short</td>\n",
              "      <td>Un bon bock</td>\n",
              "      <td>Un bon bock</td>\n",
              "      <td>0.0</td>\n",
              "      <td>1892.0</td>\n",
              "      <td>NaN</td>\n",
              "      <td>12</td>\n",
              "      <td>Animation,Short</td>\n",
              "      <td>[Animation, Short]</td>\n",
              "    </tr>\n",
              "    <tr>\n",
              "      <th>4</th>\n",
              "      <td>tt0000005</td>\n",
              "      <td>short</td>\n",
              "      <td>Blacksmith Scene</td>\n",
              "      <td>Blacksmith Scene</td>\n",
              "      <td>0.0</td>\n",
              "      <td>1893.0</td>\n",
              "      <td>NaN</td>\n",
              "      <td>1</td>\n",
              "      <td>Comedy,Short</td>\n",
              "      <td>[Comedy, Short]</td>\n",
              "    </tr>\n",
              "  </tbody>\n",
              "</table>\n",
              "</div>"
            ],
            "text/plain": [
              "      tconst titleType            primaryTitle           originalTitle  \\\n",
              "0  tt0000001     short              Carmencita              Carmencita   \n",
              "1  tt0000002     short  Le clown et ses chiens  Le clown et ses chiens   \n",
              "2  tt0000003     short          Pauvre Pierrot          Pauvre Pierrot   \n",
              "3  tt0000004     short             Un bon bock             Un bon bock   \n",
              "4  tt0000005     short        Blacksmith Scene        Blacksmith Scene   \n",
              "\n",
              "   isAdult  startYear  endYear runtimeMinutes                    genres  \\\n",
              "0      0.0     1894.0      NaN              1         Documentary,Short   \n",
              "1      0.0     1892.0      NaN              5           Animation,Short   \n",
              "2      0.0     1892.0      NaN              4  Animation,Comedy,Romance   \n",
              "3      0.0     1892.0      NaN             12           Animation,Short   \n",
              "4      0.0     1893.0      NaN              1              Comedy,Short   \n",
              "\n",
              "                   genres_split  \n",
              "0          [Documentary, Short]  \n",
              "1            [Animation, Short]  \n",
              "2  [Animation, Comedy, Romance]  \n",
              "3            [Animation, Short]  \n",
              "4               [Comedy, Short]  "
            ]
          },
          "execution_count": 172,
          "metadata": {},
          "output_type": "execute_result"
        }
      ],
      "source": [
        "# Filtre valeurs numériques et non nan pour graphiques\n",
        "plot = data_title_basics[data_title_basics[\"runtimeMinutes\"].notna() & (data_title_basics[\"runtimeMinutes\"].str.isnumeric() >= 0)]\n",
        "plot.head()"
      ]
    },
    {
      "cell_type": "code",
      "execution_count": null,
      "metadata": {
        "id": "8g373lzqHZoT"
      },
      "outputs": [],
      "source": [
        "# fonction pour extraire les valeurs numériques\n",
        "def numbers(element):\n",
        "    \n",
        "    return \"\".join(filter(str.isnumeric, element))"
      ]
    },
    {
      "cell_type": "code",
      "execution_count": null,
      "metadata": {
        "id": "mYZ4zSLaHZoT",
        "outputId": "60564699-634d-43b2-ee7a-5a41dc755595"
      },
      "outputs": [
        {
          "name": "stderr",
          "output_type": "stream",
          "text": [
            "C:\\Users\\maell\\anaconda3\\lib\\site-packages\\pandas\\core\\indexing.py:1597: SettingWithCopyWarning: \n",
            "A value is trying to be set on a copy of a slice from a DataFrame.\n",
            "Try using .loc[row_indexer,col_indexer] = value instead\n",
            "\n",
            "See the caveats in the documentation: https://pandas.pydata.org/pandas-docs/stable/user_guide/indexing.html#returning-a-view-versus-a-copy\n",
            "  self.obj[key] = value\n",
            "C:\\Users\\maell\\anaconda3\\lib\\site-packages\\pandas\\core\\indexing.py:1676: SettingWithCopyWarning: \n",
            "A value is trying to be set on a copy of a slice from a DataFrame.\n",
            "Try using .loc[row_indexer,col_indexer] = value instead\n",
            "\n",
            "See the caveats in the documentation: https://pandas.pydata.org/pandas-docs/stable/user_guide/indexing.html#returning-a-view-versus-a-copy\n",
            "  self._setitem_single_column(ilocs[0], value, pi)\n"
          ]
        }
      ],
      "source": [
        "# récupération des valeurs numériques dans nouvelle colonne runtimeMinutes_num\n",
        "plot.loc[:,'runtimeMinutes_num'] = [numbers(x) for x in plot[\"runtimeMinutes\"]]\n",
        "plot.loc[:,'runtimeMinutes_num'] = pd.to_numeric(plot['runtimeMinutes_num'])"
      ]
    },
    {
      "cell_type": "code",
      "execution_count": null,
      "metadata": {
        "id": "iyW6ALOcHZoT",
        "outputId": "e07a166e-26b4-4ffc-95ac-88ed715f80c9"
      },
      "outputs": [
        {
          "data": {
            "image/png": "[encoded data removed]",
            "text/plain": [
              "<Figure size 720x576 with 1 Axes>"
            ]
          },
          "metadata": {
            "needs_background": "light"
          },
          "output_type": "display_data"
        }
      ],
      "source": [
        "# ------------------ Box Plot ------------------#\n",
        "\n",
        "plt.subplots(figsize=(10,8))\n",
        "\n",
        "# set up des outliers forme losange et couleur rouge\n",
        "red_outlier = dict(markerfacecolor=\"r\", marker=\"D\", markersize=4)\n",
        "\n",
        "# Graphique box plot\n",
        "sns.boxplot(data=plot[\"runtimeMinutes_num\"], \n",
        "            orient=\"h\", \n",
        "            notch=True, \n",
        "            flierprops=red_outlier)\n",
        "\n",
        "# titre\n",
        "plt.title(\"Durées films valeurs aberrantes\")\n",
        "\n",
        "# Légende y\n",
        "plt.xlabel(\"Durée\")\n",
        "\n",
        "# Afficher graph\n",
        "plt.show()"
      ]
    },
    {
      "cell_type": "code",
      "execution_count": null,
      "metadata": {
        "id": "7snhPy6fHZoT",
        "outputId": "9d0606d9-e9df-4d59-e14f-3f7390da2f19"
      },
      "outputs": [
        {
          "data": {
            "text/html": [
              "<div>\n",
              "<style scoped>\n",
              "    .dataframe tbody tr th:only-of-type {\n",
              "        vertical-align: middle;\n",
              "    }\n",
              "\n",
              "    .dataframe tbody tr th {\n",
              "        vertical-align: top;\n",
              "    }\n",
              "\n",
              "    .dataframe thead th {\n",
              "        text-align: right;\n",
              "    }\n",
              "</style>\n",
              "<table border=\"1\" class=\"dataframe\">\n",
              "  <thead>\n",
              "    <tr style=\"text-align: right;\">\n",
              "      <th></th>\n",
              "      <th>titleType</th>\n",
              "      <th>total</th>\n",
              "    </tr>\n",
              "  </thead>\n",
              "  <tbody>\n",
              "    <tr>\n",
              "      <th>0</th>\n",
              "      <td>tvEpisode</td>\n",
              "      <td>1008409</td>\n",
              "    </tr>\n",
              "    <tr>\n",
              "      <th>1</th>\n",
              "      <td>short</td>\n",
              "      <td>550920</td>\n",
              "    </tr>\n",
              "  </tbody>\n",
              "</table>\n",
              "</div>"
            ],
            "text/plain": [
              "   titleType    total\n",
              "0  tvEpisode  1008409\n",
              "1      short   550920"
            ]
          },
          "execution_count": 176,
          "metadata": {},
          "output_type": "execute_result"
        }
      ],
      "source": [
        "# Préparation des données pour graphique Nombre de films vs durée moyenne par catégories\n",
        "# Total des titleTypes pour le barplot\n",
        "\n",
        "total_film_par_type = plot.value_counts([\"titleType\"]).to_frame(\"total\").reset_index()\n",
        "total_film_par_type.head(2)\n"
      ]
    },
    {
      "cell_type": "code",
      "execution_count": null,
      "metadata": {
        "id": "80XjEOckHZoU",
        "outputId": "3b116d5c-776b-4c28-9764-2fd70eb1a6b7"
      },
      "outputs": [
        {
          "data": {
            "text/html": [
              "<div>\n",
              "<style scoped>\n",
              "    .dataframe tbody tr th:only-of-type {\n",
              "        vertical-align: middle;\n",
              "    }\n",
              "\n",
              "    .dataframe tbody tr th {\n",
              "        vertical-align: top;\n",
              "    }\n",
              "\n",
              "    .dataframe thead th {\n",
              "        text-align: right;\n",
              "    }\n",
              "</style>\n",
              "<table border=\"1\" class=\"dataframe\">\n",
              "  <thead>\n",
              "    <tr style=\"text-align: right;\">\n",
              "      <th></th>\n",
              "      <th>titleType</th>\n",
              "      <th>mean_duree</th>\n",
              "    </tr>\n",
              "  </thead>\n",
              "  <tbody>\n",
              "    <tr>\n",
              "      <th>0</th>\n",
              "      <td>movie</td>\n",
              "      <td>89.881239</td>\n",
              "    </tr>\n",
              "    <tr>\n",
              "      <th>1</th>\n",
              "      <td>short</td>\n",
              "      <td>13.122923</td>\n",
              "    </tr>\n",
              "  </tbody>\n",
              "</table>\n",
              "</div>"
            ],
            "text/plain": [
              "  titleType  mean_duree\n",
              "0     movie   89.881239\n",
              "1     short   13.122923"
            ]
          },
          "execution_count": 177,
          "metadata": {},
          "output_type": "execute_result"
        }
      ],
      "source": [
        "# Moyenne durée pour le lineplot\n",
        "moy_duree = plot.groupby([\"titleType\"])[\"runtimeMinutes_num\"].mean().reset_index().rename(columns={\"runtimeMinutes_num\":'mean_duree'})\n",
        "moy_duree.head(2)"
      ]
    },
    {
      "cell_type": "code",
      "execution_count": null,
      "metadata": {
        "id": "6UsecmLxHZoU"
      },
      "outputs": [],
      "source": [
        ""
      ]
    },
    {
      "cell_type": "code",
      "execution_count": null,
      "metadata": {
        "id": "hiKL2SoZHZoU",
        "outputId": "f9e0635c-18d2-496b-d736-6231c46c9cc1"
      },
      "outputs": [
        {
          "data": {
            "image/png": "[encoded data removed]",
            "text/plain": [
              "<Figure size 864x432 with 2 Axes>"
            ]
          },
          "metadata": {},
          "output_type": "display_data"
        }
      ],
      "source": [
        "x = moy_duree[\"titleType\"]\n",
        " \n",
        "fig, ax1 = plt.subplots(figsize=(12,6))\n",
        "fig.suptitle(' Nombre de films vs durée moyenne par catégories ', fontsize=15)\n",
        " \n",
        "# ------------------ Bar Plot ------------------#\n",
        "\n",
        "ax1.set_xlabel('\\nCatégories Films')\n",
        "ax1.set_ylabel('Nb films (M)\\n', color = '#37474f')\n",
        "plot_1 = ax1.bar(x, total_film_par_type[\"total\"], color = '#37474f')\n",
        "ax1.tick_params(axis ='y', labelcolor = '#37474f')\n",
        " \n",
        "# Adding Twin Axes\n",
        "ax2 = ax1.twinx()\n",
        "\n",
        "# ------------------ Line Plot ------------------#\n",
        "\n",
        "ax2.set_ylabel('\\nDurée Moyenne (Mn)', color = '#dba506')\n",
        "plot_1 = ax2.plot(x, moy_duree[\"mean_duree\"], color = '#dba506', linewidth=4)\n",
        "ax2.tick_params(axis ='y', labelcolor = '#dba506')\n",
        " \n",
        "fig.tight_layout()\n",
        " \n",
        "# Show plot\n",
        "plt.show()"
      ]
    },
    {
      "cell_type": "code",
      "execution_count": null,
      "metadata": {
        "id": "0Yd78Ek0HZoU",
        "outputId": "e52c17ab-c519-46ce-d1b6-d77cf57d6f8f"
      },
      "outputs": [
        {
          "data": {
            "image/png": "[encoded data removed]",
            "text/plain": [
              "<Figure size 864x504 with 1 Axes>"
            ]
          },
          "metadata": {
            "needs_background": "light"
          },
          "output_type": "display_data"
        }
      ],
      "source": [
        "# ------------------ Scatter Plot ------------------#\n",
        " \n",
        "# Graphique nuage de points\n",
        "plt.scatter(x = plot[\"startYear\"], y = plot[\"runtimeMinutes_num\"], c= '#37474F', alpha=0.5)\n",
        "# Titre graphique\n",
        "plt.title(\"\\nEvolution Durée Films\\n\")\n",
        "# Titre ordonnée\n",
        "plt.ylabel(\"Durée\\n\")\n",
        "# Titre ordonnée\n",
        "plt.xlabel(\"\\nAnnée de sortie\")\n",
        "# Afficher graph\n",
        "plt.show()"
      ]
    },
    {
      "cell_type": "code",
      "execution_count": null,
      "metadata": {
        "id": "KC12kW0aHZoU"
      },
      "outputs": [],
      "source": [
        ""
      ]
    }
  ],
  "metadata": {
    "colab": {
      "collapsed_sections": [
        "lzxWUKkfUsX2",
        "gXQdwABxUk_W",
        "K0tEIDoxUsX8",
        "Okn2q4vjyJe9",
        "FlKLVXhQVWTc",
        "OLSPxIbW62No",
        "09TEiGi4T-IY",
        "mHpeXCrYEH5b",
        "jDbxftz9Hna7",
        "kSVoE3r6HZoP",
        "09UNt-vnHZoS",
        "neOZ-fWi9lgy"
      ],
      "name": "Etape_1_Exploration_Sélection_Données.ipynb",
      "provenance": []
    },
    "kernelspec": {
      "display_name": "Python 3",
      "language": "python",
      "name": "python3"
    },
    "language_info": {
      "codemirror_mode": {
        "name": "ipython",
        "version": 3
      },
      "file_extension": ".py",
      "mimetype": "text/x-python",
      "name": "python",
      "nbconvert_exporter": "python",
      "pygments_lexer": "ipython3",
      "version": "3.8.8"
    }
  },
  "nbformat": 4,
  "nbformat_minor": 0
}
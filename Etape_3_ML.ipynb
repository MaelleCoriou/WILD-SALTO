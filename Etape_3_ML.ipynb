{
  "cells": [
    {
      "cell_type": "markdown",
      "metadata": {
        "id": "UGXYJ9pzm4cq"
      },
      "source": [
        "# "
      ]
    },
    {
      "cell_type": "markdown",
      "metadata": {
        "id": "TKNf-gU0m4cv"
      },
      "source": [
        "# Import"
      ]
    },
    {
      "cell_type": "code",
      "execution_count": null,
      "metadata": {
        "id": "emwMjvOUm4cy"
      },
      "outputs": [],
      "source": [
        "import pandas as pd\n",
        "import numpy as np\n",
        "import seaborn as sns\n",
        "import matplotlib.pyplot as plt\n",
        "import seaborn as sns\n",
        "\n",
        "from sklearn.neighbors import NearestNeighbors\n",
        "from sklearn.preprocessing import StandardScaler\n",
        "from sklearn.model_selection import train_test_split\n",
        "\n",
        "import unicodedata # pour enlever les accents"
      ]
    },
    {
      "cell_type": "markdown",
      "metadata": {
        "id": "jmWbHp9rm4c1"
      },
      "source": [
        "# 1. Import de notre selection"
      ]
    },
    {
      "cell_type": "code",
      "execution_count": null,
      "metadata": {
        "id": "6x_7Sd7Wm4c3"
      },
      "outputs": [],
      "source": [
        "selection = pd.read_csv(\"Etape_3_selection.csv\") #join.csv est notre dataset final"
      ]
    },
    {
      "cell_type": "markdown",
      "metadata": {
        "id": "rxrEmU4lm4c6"
      },
      "source": [
        "# 2. Préparation du model"
      ]
    },
    {
      "cell_type": "markdown",
      "metadata": {
        "id": "ViV4TMiqm4c8"
      },
      "source": [
        "## 2.1. Choix de X et uniformisation"
      ]
    },
    {
      "cell_type": "code",
      "execution_count": null,
      "metadata": {
        "id": "upldxCEXm4c8"
      },
      "outputs": [],
      "source": [
        "X = selection[selection.select_dtypes(\"number\").columns]\n",
        "scaler = StandardScaler()\n",
        "scaler.fit(X)\n",
        "X_scaler = scaler.transform(X)\n",
        "X_scaler = pd.DataFrame(X_scaler, columns=selection.select_dtypes(\"number\").columns)"
      ]
    },
    {
      "cell_type": "markdown",
      "metadata": {
        "id": "HBvN4dBAm4c-"
      },
      "source": [
        "## 2.2. Entraînement  du model"
      ]
    },
    {
      "cell_type": "code",
      "execution_count": null,
      "metadata": {
        "id": "ZE5mZVQnm4dA"
      },
      "outputs": [],
      "source": [
        "# Nous l'initialisons et l'entraînons pour rechercher les 6 voisins\n",
        "\n",
        "distance = NearestNeighbors(n_neighbors=6).fit(X_scaler)"
      ]
    },
    {
      "cell_type": "markdown",
      "metadata": {
        "id": "IAHy1CJ2m4dC"
      },
      "source": [
        "## 2.3. Fonctions pour l'automatisation et la sortie des résultats"
      ]
    },
    {
      "cell_type": "markdown",
      "metadata": {
        "id": "cT8ZNW90m4dD"
      },
      "source": [
        "### 2.3.1. Fonction d'affichage"
      ]
    },
    {
      "cell_type": "code",
      "execution_count": null,
      "metadata": {
        "id": "WYePe1xGm4dD"
      },
      "outputs": [],
      "source": [
        "def display(search, model, data, x_scale, titre):\n",
        "    \"\"\"\n",
        "    input: search : array of funded index\n",
        "           model : trained model\n",
        "           data : the dataframe with movies\n",
        "           x_scale : X value\n",
        "           titre : title from input user\n",
        "    \"\"\"\n",
        "    x_scaler = x_scale\n",
        "    title = titre\n",
        "    search_index = search.index\n",
        "    \n",
        "    if len(search) == 1:\n",
        "        proches_title = model.kneighbors(x_scaler.iloc[search_index])\n",
        "        print(f\"\"\"\\nLes 5 films que vous nous recommandons pour \\\n",
        "\\\"{data.iloc[search_index[0]]['title_fr']}\\\" sorti en \\\n",
        "{int(data.iloc[search_index]['startYear'])} :\\n\"\"\")\n",
        "        \n",
        "        for x in range(1, len(proches_title[1][0])):\n",
        "            result = data.iloc[proches_title[1][0][x]]\n",
        "            print(f'\\tFilm numéro {x} :', result.loc[\"title_fr\"] if result.loc[\"title_fr\"] != '~'\n",
        "                  else result.loc[\"originalTitle\"], f'de {int(result.loc[\"startYear\"])}')\n",
        "            print()\n",
        "        return True\n",
        "    elif len(search) > 1:\n",
        "        print(f\"\\nNous avons trouvé {len(search)} films indiquez le film souhaité :\\n\")\n",
        "\n",
        "        for choix in range(len(search)):\n",
        "            print(f\"\"\"Choix {choix + 1} : {data.iloc[search.index[choix]]['title_fr']} \\\n",
        "sorti en {int(data.iloc[search.index[choix]]['startYear'])}\"\"\")\n",
        "            \n",
        "        choix_user = int(input(f\"\\nVeuillez sélectionner un film entre 1 et {len(search)} : \"))\n",
        "        # Forget verification on choix_user\n",
        "        \n",
        "        proches_title = model.kneighbors([x_scaler.iloc[search_index[choix_user - 1]]])\n",
        "        print(f\"\"\"\\nLes 5 films que vous nous recommandons pour \\\n",
        "\\\"{search.iloc[choix_user - 1]['title_fr']}\\\" de {int(search.iloc[choix_user - 1]['startYear'])} : \\n\"\"\")\n",
        "      \n",
        "        for x in range(1, len(proches_title[1][0])):\n",
        "            result = data.iloc[proches_title[1][0][x]]\n",
        "            print(f'\\tFilm numéro {x} :', result.loc[\"title_fr\"] if result.loc['title_fr'] != '~'\n",
        "else f\"{result.loc['originalTitle']} (Titre en VO)\",f'de {int(result.loc[\"startYear\"])} ')\n",
        "            print()\n",
        "        return True\n",
        "    else:\n",
        "        return False\n",
        "        "
      ]
    },
    {
      "cell_type": "markdown",
      "metadata": {
        "id": "W7IqKhu_m4dF"
      },
      "source": [
        "### 2.3.2. Fonction pour avoir des recommandations"
      ]
    },
    {
      "cell_type": "code",
      "execution_count": null,
      "metadata": {
        "id": "nWasLPNnm4dG"
      },
      "outputs": [],
      "source": [
        "def reco_film(data, x_scaler, model):\n",
        "    \"\"\" \n",
        "        data = df selection de films features\n",
        "        x_scaler = Features scaled\n",
        "        model = Trained model\n",
        "        return = nom 5 films proches voisins \n",
        "    \n",
        "    \"\"\"\n",
        "    title_input = input(\"Veuillez entrer un titre de film complet : \")\n",
        "    distance = model\n",
        "    # Transform input to lower, strip and without accent\n",
        "    \n",
        "    nfkd_form = unicodedata.normalize('NFKD', title_input).strip()\n",
        "    title = u\"\".join([c for c in nfkd_form if not unicodedata.combining(c)]).strip().lower()\n",
        "    search = data.loc[data['title'] == title]\n",
        "    if len(search) > 0:\n",
        "        if(display(search, distance, data, x_scaler, title)):\n",
        "            return f\"Toute l'équipe de WildSalto vous souhaite Bon visionnage !!\"\n",
        "\n",
        "    else:\n",
        "        search_2 = data.loc[data['title'].str.contains(title)]\n",
        "        if(display(search_2, distance, data, x_scaler, title)):\n",
        "            return f\"Toute l'équipe de WildSalto vous souhaite Bon visionnage !!\"\n",
        "        else:\n",
        "            return str(f'Le film \"{title}\" ne se trouve pas dans notre sélection :(')"
      ]
    },
    {
      "cell_type": "code",
      "execution_count": null,
      "metadata": {
        "id": "PwIPNRiDm4dH",
        "outputId": "16ed5fa1-7c7c-4e12-c248-43efff67497b"
      },
      "outputs": [
        {
          "name": "stdout",
          "output_type": "stream",
          "text": [
            "Veuillez entrer un titre de film complet : test\n",
            "\n",
            "Nous avons trouvé 28 films indiquez le film souhaité :\n",
            "\n",
            "Choix 1 : Testaments de femmes sorti en 1960\n",
            "Choix 2 : Frank's Greatest Adventure sorti en 1967\n",
            "Choix 3 : Le testament de l'Agha sorti en 1967\n",
            "Choix 4 : La contestation sorti en 1969\n",
            "Choix 5 : Contestation générale sorti en 1970\n",
            "Choix 6 : Don Camillo et les contestataires sorti en 1972\n",
            "Choix 7 : Screen Tests sorti en 1977\n",
            "Choix 8 : Le dernier testament sorti en 1983\n",
            "Choix 9 : Le testament du professeur Dowell sorti en 1984\n",
            "Choix 10 : Le test sorti en 1987\n",
            "Choix 11 : Le testament du soir sorti en 1995\n",
            "Choix 12 : Le test de dureté sorti en 1998\n",
            "Choix 13 : Teste di quoio sorti en 1981\n",
            "Choix 14 : Le dernier testament sorti en 2001\n",
            "Choix 15 : Je déteste la St-Valentin sorti en 2009\n",
            "Choix 16 : Je déteste les enfants des autres sorti en 2007\n",
            "Choix 17 : Le Testament de Grand-Mère sorti en 2020\n",
            "Choix 18 : The Beta Test sorti en 2021\n",
            "Choix 19 : Le test sorti en 2021\n",
            "Choix 20 : The Greatest Showman sorti en 2017\n",
            "Choix 21 : Testostérone sorti en 2008\n",
            "Choix 22 : Détestables nous sorti en 2014\n",
            "Choix 23 : Le Testament caché sorti en 2016\n",
            "Choix 24 : Le tout nouveau testament sorti en 2015\n",
            "Choix 25 : Crash Test Aglaé sorti en 2017\n",
            "Choix 26 : Zeitgeist Protest sorti en 2017\n",
            "Choix 27 : Scream Test sorti en 2020\n",
            "Choix 28 : Eurovision Song Contest: The Story of Fire Saga sorti en 2020\n",
            "\n",
            "Veuillez sélectionner un film entre 1 et 28 : 1\n",
            "\n",
            "Les 5 films que vous nous recommandons pour \"Testaments de femmes\" de 1960 : \n",
            "\n",
            "\tFilm numéro 1 : Les poupées de 1965 \n",
            "\n",
            "\tFilm numéro 2 : Les baisers de 1955 \n",
            "\n",
            "\tFilm numéro 3 : Le roi du tabac de 1950 \n",
            "\n",
            "\tFilm numéro 4 : Destinées de 1954 \n",
            "\n",
            "\tFilm numéro 5 : Hua xin hong xing (Titre en VO) de 1985 \n",
            "\n"
          ]
        },
        {
          "data": {
            "text/plain": [
              "\"Toute l'équipe de WildSalto vous souhaite Bon visionnage !!\""
            ]
          },
          "execution_count": 124,
          "metadata": {},
          "output_type": "execute_result"
        }
      ],
      "source": [
        "reco_film(data=selection, x_scaler=X_scaler, model=distance)"
      ]
    }
  ],
  "metadata": {
    "kernelspec": {
      "display_name": "Python 3",
      "language": "python",
      "name": "python3"
    },
    "language_info": {
      "codemirror_mode": {
        "name": "ipython",
        "version": 3
      },
      "file_extension": ".py",
      "mimetype": "text/x-python",
      "name": "python",
      "nbconvert_exporter": "python",
      "pygments_lexer": "ipython3",
      "version": "3.8.5"
    },
    "colab": {
      "name": "Etape_3_ML.ipynb",
      "provenance": [],
      "collapsed_sections": []
    }
  },
  "nbformat": 4,
  "nbformat_minor": 0
}